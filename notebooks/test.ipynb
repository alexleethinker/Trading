{
 "cells": [
  {
   "cell_type": "code",
   "execution_count": null,
   "id": "c8b9f16a",
   "metadata": {},
   "outputs": [],
   "source": [
    "import akshare as ak\n",
    "import pandas as pd\n",
    "#import datetime\n",
    "pd.set_option('display.max_rows', None)\n",
    "import warnings\n",
    "warnings.filterwarnings('ignore')"
   ]
  },
  {
   "cell_type": "code",
   "execution_count": null,
   "id": "cc491c73",
   "metadata": {},
   "outputs": [],
   "source": [
    "# 行情数据\n",
    "\n",
    "stock_price = ak.stock_zh_a_spot_em()"
   ]
  },
  {
   "cell_type": "code",
   "execution_count": null,
   "id": "dec74e46",
   "metadata": {},
   "outputs": [],
   "source": [
    "stock_price_8 = stock_price#[stock_price['涨跌幅'].between(9, 40, inclusive=False)]"
   ]
  },
  {
   "cell_type": "code",
   "execution_count": null,
   "id": "a4cf0fd6",
   "metadata": {},
   "outputs": [],
   "source": [
    "stock_price_8"
   ]
  },
  {
   "cell_type": "code",
   "execution_count": null,
   "id": "6dc7d78b",
   "metadata": {},
   "outputs": [],
   "source": [
    "stock_price_8['流通MV'] = stock_price_8['流通市值']/100000000\n",
    "\n",
    "stock_price_8 = stock_price_8[['代码','名称','涨跌幅','市盈率-动态','市净率','流通MV']].round(2)"
   ]
  },
  {
   "cell_type": "code",
   "execution_count": null,
   "id": "b10f283b",
   "metadata": {},
   "outputs": [],
   "source": [
    "stock_concepts = pd.read_csv('./static/stock_concepts.csv',encoding=\"gbk\").fillna('')\n",
    "\n",
    "# stock_concepts = pd.read_csv('./static/stock_concepts_20220909.csv',encoding=\"gbk\").fillna('')"
   ]
  },
  {
   "cell_type": "code",
   "execution_count": null,
   "id": "e3000885",
   "metadata": {},
   "outputs": [],
   "source": [
    "stock_industry = pd.read_csv('./static/stock_industry.csv',encoding='gbk').fillna('')\n",
    "stock_industry['代码'] = stock_industry['股票代码'].str.replace('.SH','').str.replace('.SZ','').str.replace('.BJ','')"
   ]
  },
  {
   "cell_type": "code",
   "execution_count": null,
   "id": "803481ce",
   "metadata": {},
   "outputs": [],
   "source": [
    "#stock_concepts['代码'] = stock_concepts['股票代码'].str.replace('.SH','').str.replace('.SZ','').str.replace('.BJ','')"
   ]
  },
  {
   "cell_type": "code",
   "execution_count": null,
   "id": "adf2720a",
   "metadata": {},
   "outputs": [],
   "source": [
    "result = stock_price_8.merge(stock_concepts,how='left',on=['代码','名称'])\\\n",
    "                      .merge(stock_industry, how = 'left',on=['代码']) .fillna('')\n",
    "# result = stock_price_8.merge(stock_concepts,how='left',on=['代码']).fillna('')"
   ]
  },
  {
   "cell_type": "code",
   "execution_count": null,
   "id": "469fe408",
   "metadata": {},
   "outputs": [],
   "source": [
    "#result"
   ]
  },
  {
   "cell_type": "code",
   "execution_count": null,
   "id": "4928f874",
   "metadata": {},
   "outputs": [],
   "source": [
    "concept_list = []\n",
    "\n",
    "for row, l in result.iterrows():\n",
    "    concept_list = concept_list + l['行业概念'].split(',') #+ l['事件概念'].split(',') \n",
    "    concept_list =  [x for x in concept_list if x]   # remove ''\n",
    "hot_concepts = pd.DataFrame(concept_list).apply(pd.value_counts)"
   ]
  },
  {
   "cell_type": "code",
   "execution_count": null,
   "id": "bf906ca8",
   "metadata": {},
   "outputs": [],
   "source": [
    "hot_concepts"
   ]
  },
  {
   "cell_type": "code",
   "execution_count": null,
   "id": "055e0225",
   "metadata": {},
   "outputs": [],
   "source": [
    "concept_list = []\n",
    "\n",
    "for row, l in result.iterrows():\n",
    "    concept_list = concept_list + l['交易概念'].split(',') \n",
    "    concept_list =  [x for x in concept_list if x]   # remove ''\n",
    "hot_concepts = pd.DataFrame(concept_list).apply(pd.value_counts)\n",
    "hot_concepts"
   ]
  },
  {
   "cell_type": "code",
   "execution_count": null,
   "id": "dc1b5de3",
   "metadata": {},
   "outputs": [],
   "source": [
    "hot_concepts = set(hot_concepts[hot_concepts[0] > 2].index)\n",
    "hot_concepts"
   ]
  },
  {
   "cell_type": "code",
   "execution_count": null,
   "id": "bad1761a",
   "metadata": {},
   "outputs": [],
   "source": [
    "result['热点概念'] = ''\n",
    "for row, l in result.iterrows():\n",
    "    result['热点概念'][row] = ','.join(set(l['概念名称'].split(',')).intersection(hot_concepts))"
   ]
  },
  {
   "cell_type": "code",
   "execution_count": null,
   "id": "96916a38",
   "metadata": {},
   "outputs": [],
   "source": [
    "result[['代码','名称','涨跌幅','所属行业','行业概念','事件概念','热点概念']]"
   ]
  },
  {
   "cell_type": "code",
   "execution_count": null,
   "id": "2b411ae7",
   "metadata": {},
   "outputs": [],
   "source": [
    "stock_price_5 = stock_price[stock_price['涨跌幅'].between(0, 9, inclusive=False)]\n",
    "stock_price_5['流通MV'] = stock_price_5['流通市值']/100000000\n",
    "stock_price_5 = stock_price_5[['代码','名称','涨跌幅','市盈率-动态','市净率','流通MV']].round(2)\n",
    "result = stock_price_5.merge(stock_concepts,how='left',on=['代码','名称'])\\\n",
    "                      .merge(stock_industry, how = 'left',on=['代码']) .fillna('')\n",
    "\n",
    "result['热点概念'] = ''\n",
    "for row, l in result.iterrows():\n",
    "    result['热点概念'][row] = ','.join(set(l['概念名称'].split(',')).intersection(hot_concepts))\n",
    "result[['代码','名称','涨跌幅','所属行业','行业概念','事件概念','热点概念']]    "
   ]
  },
  {
   "cell_type": "code",
   "execution_count": null,
   "id": "51739ce8",
   "metadata": {
    "scrolled": true
   },
   "outputs": [],
   "source": [
    "stock_price_5 = stock_price[stock_price['涨跌幅'].between(-40, -7, inclusive=False)]\n",
    "stock_price_5['流通MV'] = stock_price_5['流通市值']/100000000\n",
    "stock_price_5 = stock_price_5[['代码','名称','涨跌幅','市盈率-动态','市净率','流通MV']].round(2)\n",
    "result = stock_price_5.merge(stock_concepts,how='left',on=['代码','名称'])\\\n",
    "                      .merge(stock_industry, how = 'left',on=['代码']) .fillna('')\n",
    "\n",
    "result['热点概念'] = ''\n",
    "for row, l in result.iterrows():\n",
    "    result['热点概念'][row] = ','.join(set(l['概念名称'].split(',')).intersection(hot_concepts))\n",
    "result[['代码','名称','涨跌幅','所属行业','行业概念','事件概念','热点概念']] "
   ]
  },
  {
   "cell_type": "code",
   "execution_count": null,
   "id": "f11d59f0",
   "metadata": {},
   "outputs": [],
   "source": [
    "stock_price_5 = stock_price#[stock_price['涨跌幅'].between(-5, -2, inclusive=False)]\n",
    "stock_price_5['流通MV'] = stock_price_5['流通市值']/100000000\n",
    "stock_price_5 = stock_price_5[['代码','名称','涨跌幅','市盈率-动态','市净率','流通MV']].round(2)\n",
    "result = stock_price_5.merge(stock_concepts,how='left',on=['代码','名称'])\\\n",
    "                      .merge(stock_industry, how = 'left',on=['代码']) .fillna('')\n",
    "\n",
    "result['热点概念'] = ''\n",
    "for row, l in result.iterrows():\n",
    "    result['热点概念'][row] = ','.join(set(l['概念名称'].split(',')).intersection(hot_concepts))\n",
    "result[['代码','名称','涨跌幅','所属行业','行业概念','事件概念','热点概念']] "
   ]
  },
  {
   "cell_type": "code",
   "execution_count": null,
   "id": "4530f0f4",
   "metadata": {},
   "outputs": [],
   "source": [
    "ak.stock_zh_index_spot()"
   ]
  },
  {
   "cell_type": "code",
   "execution_count": null,
   "id": "513b6bed",
   "metadata": {},
   "outputs": [],
   "source": [
    "infrastructure = ak.index_stock_cons(symbol=\"399359\")\n",
    "infra = infrastructure.merge(result, how = 'left', left_on = ['品种代码'], right_on = ['代码'])\n",
    "infra[['代码','名称','涨跌幅','所属行业','行业概念','事件概念','热点概念']] "
   ]
  },
  {
   "cell_type": "code",
   "execution_count": null,
   "id": "ab793151",
   "metadata": {},
   "outputs": [],
   "source": [
    "ak.js_news(timestamp=\"2022-09-10 00:00:00\")"
   ]
  },
  {
   "cell_type": "code",
   "execution_count": null,
   "id": "324c0c8b",
   "metadata": {},
   "outputs": [],
   "source": [
    "ak.index_stock_cons(symbol = '000025')"
   ]
  },
  {
   "cell_type": "code",
   "execution_count": null,
   "id": "c64c1d52",
   "metadata": {},
   "outputs": [],
   "source": [
    "ak.stock_zh_a_hist(symbol=\"000001\", period=\"daily\", start_date=\"20020901\", end_date='202209010', adjust=\"hfq\")"
   ]
  },
  {
   "cell_type": "code",
   "execution_count": null,
   "id": "6dcb26c1",
   "metadata": {},
   "outputs": [],
   "source": []
  },
  {
   "cell_type": "code",
   "execution_count": null,
   "id": "dc9673ff",
   "metadata": {},
   "outputs": [],
   "source": [
    "result['代码']"
   ]
  },
  {
   "cell_type": "code",
   "execution_count": null,
   "id": "876b6cae",
   "metadata": {},
   "outputs": [],
   "source": [
    "main_business = pd.DataFrame()\n",
    "\n",
    "for i in result['代码']:\n",
    "    stock_main_business = ak.stock_zygc_ym(symbol=i)\n",
    "    stock_mb = stock_main_business[['报告期','分类方向','分类','营业收入-占主营收入比']]\n",
    "    stock_mb_prod = stock_mb[(stock_mb['报告期'] == '2021年度') & (stock_mb['分类方向'].isin(['按产品分']) )\\\n",
    "             & (~stock_mb['分类'].str.contains('合计|其他|其它')) ] #& (stock_mb['营业收入-占主营收入比'].str.replace('%','').astype(float) > 2)]\n",
    "    product = ','.join(set(stock_mb_prod['分类'].str.replace('业务','').str.replace('收入','').str.replace('行业','')))\n",
    "    stock_mb_prod['主营构成'] = stock_mb_prod['分类'] + '-' + stock_mb_prod['营业收入-占主营收入比']\n",
    "    product_con = ','.join(stock_mb_prod['主营构成'].str.replace('业务','').str.replace('收入','').str.replace('行业',''))\n",
    "\n",
    "    stock_mb_ind = stock_mb[(stock_mb['报告期'] == '2021年度') & (stock_mb['分类方向'].isin(['按行业分']) )\\\n",
    "             & (~stock_mb['分类'].str.contains('合计|其他|其它')) ] #& (stock_mb['营业收入-占主营收入比'].str.replace('%','').astype(float) > 2)]\n",
    "    industry = ','.join(set(stock_mb_ind['分类'].str.replace('业务','').str.replace('收入','').str.replace('行业','')))\n",
    "    stock_mb_ind['主营构成'] = stock_mb_ind['分类'] + '-' + stock_mb_ind['营业收入-占主营收入比']\n",
    "    industry_con = ','.join(stock_mb_ind['主营构成'].str.replace('业务','').str.replace('收入','').str.replace('行业',''))\n",
    "    \n",
    "    data = {'代码' : i ,'产品' : product, '产品构成' : product_con, '行业': industry, '行业构成': industry_con }\n",
    "    df = pd.DataFrame(data, index=[0])\n",
    "    main_business = main_business.append(df)\n",
    "    \n",
    "    print(i)\n",
    "\n",
    "main_business.to_csv('stock_main_business.csv', index = False, encoding = 'gbk')"
   ]
  },
  {
   "cell_type": "code",
   "execution_count": null,
   "id": "d7669521",
   "metadata": {},
   "outputs": [],
   "source": [
    "main_business.to_csv('stock_main_business.csv', index = False)"
   ]
  },
  {
   "cell_type": "code",
   "execution_count": null,
   "id": "5158fd4a",
   "metadata": {},
   "outputs": [],
   "source": [
    "set(result['代码']).difference(list(main_business['代码']))"
   ]
  },
  {
   "cell_type": "code",
   "execution_count": null,
   "id": "af92e488",
   "metadata": {},
   "outputs": [],
   "source": [
    "stock_main_business = ak.stock_zygc_ym(symbol=\"301020\")\n",
    "stock_mb = stock_main_business[['报告期','分类方向','分类','营业收入-占主营收入比']]\n",
    "stock_mb_prod = stock_mb[(stock_mb['报告期'] == '2021年度') & (stock_mb['分类方向'].isin(['按产品分']) )\\\n",
    "         & (~stock_mb['分类'].str.contains('合计|其他|其它')) ] #& (stock_mb['营业收入-占主营收入比'].str.replace('%','').astype(float) > 2)]\n",
    "product = ','.join(set(stock_mb_prod['分类'].str.replace('业务','').str.replace('收入','').str.replace('行业','')))\n",
    "stock_mb_prod['主营构成'] = stock_mb_prod['分类'] + '-' + stock_mb_prod['营业收入-占主营收入比']\n",
    "product_con = ','.join(stock_mb_prod['主营构成'].str.replace('业务','').str.replace('收入','').str.replace('行业',''))\n",
    "\n",
    "stock_mb_ind = stock_mb[(stock_mb['报告期'] == '2021年度') & (stock_mb['分类方向'].isin(['按行业分']) )\\\n",
    "         & (~stock_mb['分类'].str.contains('合计|其他|其它')) ] #& (stock_mb['营业收入-占主营收入比'].str.replace('%','').astype(float) > 2)]\n",
    "industry = ','.join(set(stock_mb_ind['分类'].str.replace('业务','').str.replace('收入','').str.replace('行业','')))\n",
    "stock_mb_ind['主营构成'] = stock_mb_ind['分类'] + '-' + stock_mb_ind['营业收入-占主营收入比']\n",
    "industry_con = ','.join(stock_mb_ind['主营构成'].str.replace('业务','').str.replace('收入','').str.replace('行业',''))\n",
    "data = {'代码' : '601222' ,'产品' : product, '产品构成' : product_con, '行业': industry, '行业构成': industry_con }\n",
    "df = pd.DataFrame(data, index=[0])\n",
    "df "
   ]
  },
  {
   "cell_type": "code",
   "execution_count": null,
   "id": "7fb1b456",
   "metadata": {},
   "outputs": [],
   "source": [
    "stock_mb"
   ]
  }
 ],
 "metadata": {
  "kernelspec": {
   "display_name": "Python 3 (ipykernel)",
   "language": "python",
   "name": "python3"
  },
  "language_info": {
   "codemirror_mode": {
    "name": "ipython",
    "version": 3
   },
   "file_extension": ".py",
   "mimetype": "text/x-python",
   "name": "python",
   "nbconvert_exporter": "python",
   "pygments_lexer": "ipython3",
   "version": "3.9.7"
  },
  "vscode": {
   "interpreter": {
    "hash": "abb602e768c862dd2073e8b6e36a05d5789e1c06e046033abe2cce0c8c8de86c"
   }
  }
 },
 "nbformat": 4,
 "nbformat_minor": 5
}
