{
 "cells": [
  {
   "cell_type": "code",
   "execution_count": 1,
   "id": "610b5fd0",
   "metadata": {},
   "outputs": [
    {
     "name": "stderr",
     "output_type": "stream",
     "text": [
      "2022-08-22 11:14:39,044 [INFO] NumExpr defaulting to 4 threads. [numexpr.utils::_init_num_threads]\n"
     ]
    },
    {
     "name": "stdout",
     "output_type": "stream",
     "text": [
      "warning: can't import TA-Lib, will be ignored! You can fetch ta-lib from https://www.lfd.uci.edu/~gohlke/pythonlibs/#ta-lib\n",
      "std::cout are redirected to python::stdout\n",
      "std::cerr are redirected to python::stderr\n",
      "2022-08-22 11:14:40.025 [HKU-I] - Using SQLITE3 BaseInfoDriver (BaseInfoDriver.cpp:58)\n",
      "2022-08-22 11:14:40.055 [HKU-I] - Loading market information... (StockManager.cpp:497)\n",
      "2022-08-22 11:14:40.056 [HKU-I] - Loading stock type information... (StockManager.cpp:510)\n",
      "2022-08-22 11:14:40.056 [HKU-I] - Loading stock information... (StockManager.cpp:424)\n",
      "2022-08-22 11:14:40.136 [HKU-I] - Loading stock weight... (StockManager.cpp:527)\n",
      "2022-08-22 11:14:41.620 [HKU-I] - Loading KData... (StockManager.cpp:139)\n",
      "2022-08-22 11:14:41.708 [HKU-I] - Preloading all day kdata to buffer! (StockManager.cpp:162)\n",
      "2022-08-22 11:14:41.734 [HKU-I] - 0.11s Loaded Data. (StockManager.cpp:150)\n",
      "Wall time: 3.69 s\n"
     ]
    }
   ],
   "source": [
    "%matplotlib inline\n",
    "%time from hikyuu.interactive import *\n",
    "iodog.open()"
   ]
  },
  {
   "cell_type": "code",
   "execution_count": 2,
   "id": "01e20d6a",
   "metadata": {},
   "outputs": [],
   "source": [
    "def getNextWeekDate(week):\n",
    "    \"\"\"获取指定日期的下一周周一日期\"\"\"\n",
    "    from datetime import timedelta\n",
    "    py_week = week.datetime()\n",
    "    next_week_start = py_week + timedelta(days = 7 - py_week.weekday())\n",
    "    return Datetime(next_week_start)"
   ]
  },
  {
   "cell_type": "code",
   "execution_count": 13,
   "id": "dcffee17",
   "metadata": {},
   "outputs": [],
   "source": [
    " import pyspark"
   ]
  },
  {
   "cell_type": "code",
   "execution_count": 3,
   "id": "13803cf4",
   "metadata": {},
   "outputs": [],
   "source": [
    "def DEMO_SG(self):\n",
    "    \"\"\"\n",
    "    买入信号：周线MACD零轴下方底部金叉，即周线的DIF>DEA金叉时买入\n",
    "    卖出信号：日线级别 跌破 20日均线\n",
    "    \n",
    "    参数：\n",
    "    week_macd_n1：周线dif窗口\n",
    "    week_macd_n2: 周线dea窗口\n",
    "    week_macd_n3: 周线macd平滑窗口\n",
    "    day_n: 日均线窗口\n",
    "    \"\"\"\n",
    "    k = self.to\n",
    "    if (len(k) == 0):\n",
    "        return\n",
    "    \n",
    "    stk = k.get_stock()\n",
    "    \n",
    "    #-----------------------------\n",
    "    #计算日线级别的卖出信号        \n",
    "    #-----------------------------\n",
    "    day_c = CLOSE(k)\n",
    "    day_ma = MA(day_c, self.get_param(\"day_n\"))\n",
    "    day_x = day_c < day_ma  #收盘价小于均线\n",
    "    for i in range(day_x.discard, len(day_x)):\n",
    "        if day_x[i] >= 1.0:\n",
    "            self._add_sell_signal(k[i].datetime)\n",
    "\n",
    "    #-----------------------------\n",
    "    #计算周线级别的买入信号        \n",
    "    #-----------------------------\n",
    "    week_q = Query(k[0].datetime, k[-1].datetime.next_day(), ktype=Query.WEEK)\n",
    "    week_k = k.get_stock().get_kdata(week_q)\n",
    "    \n",
    "    n1 = self.get_param(\"week_macd_n1\")\n",
    "    n2 = self.get_param(\"week_macd_n2\")\n",
    "    n3 = self.get_param(\"week_macd_n3\")\n",
    "    m = MACD(CLOSE(week_k), n1, n2, n3)\n",
    "    fast = m.get_result(0)\n",
    "    slow = m.get_result(1)\n",
    "    \n",
    "    discard = m.discard if m.discard > 1 else 1\n",
    "    for i in range(discard, len(m)):\n",
    "        if (fast[i-1] < slow[i-1] and fast[i] > slow[i]):\n",
    "            #当周计算的结果，只能作为下周一的信号\n",
    "            self._add_buy_signal(week_k[i].datetime.next_week())\n",
    "         "
   ]
  },
  {
   "cell_type": "code",
   "execution_count": 4,
   "id": "138c57fb",
   "metadata": {},
   "outputs": [],
   "source": [
    "class DEMO_MM(MoneyManagerBase):\n",
    "    \"\"\"\n",
    "    买入：30% （不明确，暂且当做当前现金的30%）\n",
    "    卖出：已持仓股票数的50%\n",
    "    \"\"\"\n",
    "    def __init__(self):\n",
    "        super(DEMO_MM, self).__init__(\"MACD_MM\")\n",
    "        \n",
    "    def _reset(self):\n",
    "        pass\n",
    "    \n",
    "    def _clone(self):\n",
    "        return DEMO_MM()\n",
    "        \n",
    "    def _get_buy_num(self, datetime, stk, price, risk, part_from):\n",
    "        tm = self.tm\n",
    "        cash = tm.current_cash\n",
    "        \n",
    "        #可以不用考虑最小交易单位的问题，已经自动处理\n",
    "        #num = int((cash * 0.3 // price // stk.atom) * stk.atom)\n",
    "        return int(cash*0.3/price) #返回类型必须是int\n",
    "    \n",
    "    def _get_sell_num(self, datetime, stk, price, risk, part_from):\n",
    "        tm = self.tm\n",
    "        position = tm.get_position(datetime, stk)\n",
    "        total_num = position.number\n",
    "        num = int(total_num * 0.5)\n",
    "        return num if num >= 100 else 0"
   ]
  },
  {
   "cell_type": "code",
   "execution_count": 5,
   "id": "7d58b51a",
   "metadata": {},
   "outputs": [],
   "source": [
    "#账户参数\n",
    "init_cash = 500000 #账户初始资金\n",
    "init_date = Datetime('2021-7-20') #账户建立日期\n",
    "\n",
    "#信号指示器参数\n",
    "week_n1 = 12\n",
    "week_n2 = 26\n",
    "week_n3 = 9\n",
    "day_n = 5\n",
    "\n",
    "#选定标的，及测试区间\n",
    "stk = sm['SH603527']\n",
    "#start_date = Datetime('2021-04-21')  #如果是同一级别K线，可以使用索引号，使用了不同级别的K线数据，建议还是使用日期作为参数\n",
    "start_date = init_date\n",
    "\n",
    "end_date = Datetime()"
   ]
  },
  {
   "cell_type": "code",
   "execution_count": 6,
   "id": "f17a13b2",
   "metadata": {},
   "outputs": [],
   "source": [
    "#创建账户\n",
    "my_tm = crtTM(date=init_date, init_cash = init_cash, cost_func=TC_FixedA())\n",
    "\n",
    "#创建系统实例\n",
    "my_sys = SYS_Simple()\n",
    "\n",
    "#绑定账户\n",
    "my_sys.tm = my_tm\n",
    "\n",
    "#绑定信号指示器\n",
    "my_sys.sg = crtSG(DEMO_SG, \n",
    "              {'week_macd_n1': week_n1, 'week_macd_n2': week_n2, 'week_macd_n3': week_n3, 'day_n': day_n}, \n",
    "                'DEMO_SG') \n",
    "my_sys.sg.set_param('alternate', False)\n",
    "\n",
    "#绑定资金管理策略\n",
    "my_sys.mm = DEMO_MM()"
   ]
  },
  {
   "cell_type": "code",
   "execution_count": 7,
   "id": "7ccd1fe6",
   "metadata": {},
   "outputs": [],
   "source": [
    "iodog.close()\n",
    "q = Query(start_date, end_date, ktype=Query.DAY)\n",
    "my_sys.run(stk, q)\n",
    "\n",
    "#将交易记录及持仓情况，保存在临时目录，可用Excel查看\n",
    "#临时目录一般设置在数据所在目录下的 tmp 子目录\n",
    "#如果打开了excel记录，再次运行系统前，记得先关闭excel文件，否则新的结果没法保存\n",
    "my_tm.tocsv(sm.tmpdir())"
   ]
  },
  {
   "cell_type": "code",
   "execution_count": 8,
   "id": "5fb3f3ed",
   "metadata": {},
   "outputs": [
    {
     "data": {
      "image/png": "[encoded data removed]",
      "text/plain": [
       "<Figure size 720x576 with 1 Axes>"
      ]
     },
     "metadata": {
      "needs_background": "light"
     },
     "output_type": "display_data"
    }
   ],
   "source": [
    "#绘制资金收益曲线（净收益）\n",
    "x = my_tm.get_profit_curve(stk.get_datetime_list(q), Query.DAY)\n",
    "#x = my_tm.getFundsCurve(stk.getDatetimeList(q), KQuery.DAY) #总资产曲线\n",
    "x = PRICELIST(x)\n",
    "x.plot()"
   ]
  },
  {
   "cell_type": "code",
   "execution_count": 9,
   "id": "af7c924a",
   "metadata": {},
   "outputs": [
    {
     "name": "stdout",
     "output_type": "stream",
     "text": [
      "帐户初始金额: 500000.00\n",
      "累计投入本金: 500000.00\n",
      "累计投入资产: 0.00\n",
      "累计借入现金: 0.00\n",
      "累计借入资产: 0.00\n",
      "累计红利: 3400.00\n",
      "现金余额: 513733.14\n",
      "未平仓头寸净值: 2637.39\n",
      "当前总资产: 516370.53\n",
      "已平仓交易总成本: 0.00\n",
      "已平仓净利润总额: 0.00\n",
      "单笔交易最大占用现金比例%: 29.98\n",
      "交易平均占用现金比例%: 29.98\n",
      "已平仓帐户收益率%: 0.00\n",
      "帐户年复合收益率%: 12.89\n",
      "帐户平均年收益率%: 12.32\n",
      "赢利交易赢利总额: 0.00\n",
      "亏损交易亏损总额: 0.00\n",
      "已平仓交易总数: 0.00\n",
      "赢利交易数: 0.00\n",
      "亏损交易数: 0.00\n",
      "赢利交易比例%: 0.00\n",
      "赢利期望值: 0.00\n",
      "赢利交易平均赢利: 0.00\n",
      "亏损交易平均亏损: 0.00\n",
      "平均赢利/平均亏损比例: 0.00\n",
      "净赢利/亏损比例: 0.00\n",
      "最大单笔赢利: 0.00\n",
      "最大单笔亏损: 0.00\n",
      "赢利交易平均持仓时间: 0.00\n",
      "赢利交易最大持仓时间: 0.00\n",
      "亏损交易平均持仓时间: 0.00\n",
      "亏损交易最大持仓时间: 0.00\n",
      "空仓总时间: 98.00\n",
      "空仓时间/总时间%: 100.00\n",
      "平均空仓时间: 98.00\n",
      "最长空仓时间: 97.00\n",
      "最大连续赢利笔数: 0.00\n",
      "最大连续亏损笔数: 0.00\n",
      "最大连续赢利金额: 0.00\n",
      "最大连续亏损金额: 0.00\n",
      "R乘数期望值: 0.00\n",
      "交易机会频率/年: 0.00\n",
      "年度期望R乘数: 0.00\n",
      "赢利交易平均R乘数: 0.00\n",
      "亏损交易平均R乘数: 0.00\n",
      "最大单笔赢利R乘数: 0.00\n",
      "最大单笔亏损R乘数: 0.00\n",
      "最大连续赢利R乘数: 0.00\n",
      "最大连续亏损R乘数: 0.00\n",
      "\n"
     ]
    }
   ],
   "source": [
    "#回测统计\n",
    "per = Performance()\n",
    "print(per.report(my_tm, Datetime.now()))"
   ]
  },
  {
   "cell_type": "code",
   "execution_count": 10,
   "id": "8a67c132",
   "metadata": {},
   "outputs": [
    {
     "data": {
      "image/png": "[encoded data removed]",
      "text/plain": [
       "<Figure size 720x576 with 1 Axes>"
      ]
     },
     "metadata": {
      "needs_background": "light"
     },
     "output_type": "display_data"
    }
   ],
   "source": [
    "import warnings\n",
    "warnings.filterwarnings('ignore')\n",
    "my_sys.plot()\n",
    "MA(CLOSE(my_sys.to), 20).plot(new=False)"
   ]
  },
  {
   "cell_type": "code",
   "execution_count": null,
   "id": "ae31789a",
   "metadata": {},
   "outputs": [],
   "source": []
  },
  {
   "cell_type": "code",
   "execution_count": 11,
   "id": "b4e0287f",
   "metadata": {},
   "outputs": [
    {
     "name": "stdout",
     "output_type": "stream",
     "text": [
      "Wall time: 17.1 s\n"
     ]
    }
   ],
   "source": [
    "import pandas as pd\n",
    "def calTotal(blk, q):\n",
    "    per = Performance()\n",
    "    s_name = []\n",
    "    s_code = []\n",
    "    x = []\n",
    "    for stk in blk:\n",
    "        my_sys.run(stk, q)\n",
    "        per.statistics(my_tm, Datetime.now())\n",
    "        s_name.append(stk.name)\n",
    "        s_code.append(stk.market_code)\n",
    "        x.append(per[\"当前总资产\"])\n",
    "    return pd.DataFrame({'代码': s_code, '股票': s_name, '当前总资产': x})\n",
    "\n",
    "%time data = calTotal(blocka, q)"
   ]
  },
  {
   "cell_type": "code",
   "execution_count": 12,
   "id": "06dc02ac",
   "metadata": {
    "scrolled": false
   },
   "outputs": [
    {
     "data": {
      "text/html": [
       "<div>\n",
       "<style scoped>\n",
       "    .dataframe tbody tr th:only-of-type {\n",
       "        vertical-align: middle;\n",
       "    }\n",
       "\n",
       "    .dataframe tbody tr th {\n",
       "        vertical-align: top;\n",
       "    }\n",
       "\n",
       "    .dataframe thead th {\n",
       "        text-align: right;\n",
       "    }\n",
       "</style>\n",
       "<table border=\"1\" class=\"dataframe\">\n",
       "  <thead>\n",
       "    <tr style=\"text-align: right;\">\n",
       "      <th></th>\n",
       "      <th>代码</th>\n",
       "      <th>股票</th>\n",
       "      <th>当前总资产</th>\n",
       "    </tr>\n",
       "  </thead>\n",
       "  <tbody>\n",
       "    <tr>\n",
       "      <th>1753</th>\n",
       "      <td>SH600860</td>\n",
       "      <td>京城股份</td>\n",
       "      <td>709865.05</td>\n",
       "    </tr>\n",
       "    <tr>\n",
       "      <th>1234</th>\n",
       "      <td>SH605333</td>\n",
       "      <td>沪光股份</td>\n",
       "      <td>644704.10</td>\n",
       "    </tr>\n",
       "    <tr>\n",
       "      <th>3460</th>\n",
       "      <td>SZ002885</td>\n",
       "      <td>京泉华</td>\n",
       "      <td>626050.91</td>\n",
       "    </tr>\n",
       "    <tr>\n",
       "      <th>316</th>\n",
       "      <td>SH603260</td>\n",
       "      <td>合盛硅业</td>\n",
       "      <td>623436.28</td>\n",
       "    </tr>\n",
       "    <tr>\n",
       "      <th>2978</th>\n",
       "      <td>SZ000795</td>\n",
       "      <td>英洛华</td>\n",
       "      <td>611823.82</td>\n",
       "    </tr>\n",
       "    <tr>\n",
       "      <th>...</th>\n",
       "      <td>...</td>\n",
       "      <td>...</td>\n",
       "      <td>...</td>\n",
       "    </tr>\n",
       "    <tr>\n",
       "      <th>2475</th>\n",
       "      <td>SH605128</td>\n",
       "      <td>上海沿浦</td>\n",
       "      <td>479713.54</td>\n",
       "    </tr>\n",
       "    <tr>\n",
       "      <th>2358</th>\n",
       "      <td>SZ002590</td>\n",
       "      <td>万安科技</td>\n",
       "      <td>478973.65</td>\n",
       "    </tr>\n",
       "    <tr>\n",
       "      <th>2446</th>\n",
       "      <td>SH603997</td>\n",
       "      <td>继峰股份</td>\n",
       "      <td>478116.15</td>\n",
       "    </tr>\n",
       "    <tr>\n",
       "      <th>3630</th>\n",
       "      <td>SZ300338</td>\n",
       "      <td>ST开元</td>\n",
       "      <td>473907.82</td>\n",
       "    </tr>\n",
       "    <tr>\n",
       "      <th>3005</th>\n",
       "      <td>SZ002022</td>\n",
       "      <td>*ST 科华</td>\n",
       "      <td>473258.99</td>\n",
       "    </tr>\n",
       "  </tbody>\n",
       "</table>\n",
       "<p>3673 rows × 3 columns</p>\n",
       "</div>"
      ],
      "text/plain": [
       "            代码      股票      当前总资产\n",
       "1753  SH600860    京城股份  709865.05\n",
       "1234  SH605333    沪光股份  644704.10\n",
       "3460  SZ002885     京泉华  626050.91\n",
       "316   SH603260    合盛硅业  623436.28\n",
       "2978  SZ000795     英洛华  611823.82\n",
       "...        ...     ...        ...\n",
       "2475  SH605128    上海沿浦  479713.54\n",
       "2358  SZ002590    万安科技  478973.65\n",
       "2446  SH603997    继峰股份  478116.15\n",
       "3630  SZ300338    ST开元  473907.82\n",
       "3005  SZ002022  *ST 科华  473258.99\n",
       "\n",
       "[3673 rows x 3 columns]"
      ]
     },
     "execution_count": 12,
     "metadata": {},
     "output_type": "execute_result"
    }
   ],
   "source": [
    "\n",
    "pd.set_option('display.max_colwidth', None)\n",
    "data.sort_values(['当前总资产'],ascending = False, inplace=True)\n",
    "data"
   ]
  },
  {
   "cell_type": "code",
   "execution_count": null,
   "id": "a43d1396",
   "metadata": {},
   "outputs": [],
   "source": []
  }
 ],
 "metadata": {
  "kernelspec": {
   "display_name": "Python 3 (ipykernel)",
   "language": "python",
   "name": "python3"
  },
  "language_info": {
   "codemirror_mode": {
    "name": "ipython",
    "version": 3
   },
   "file_extension": ".py",
   "mimetype": "text/x-python",
   "name": "python",
   "nbconvert_exporter": "python",
   "pygments_lexer": "ipython3",
   "version": "3.9.7"
  }
 },
 "nbformat": 4,
 "nbformat_minor": 5
}
