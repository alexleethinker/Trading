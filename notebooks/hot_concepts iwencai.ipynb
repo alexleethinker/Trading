{
 "cells": [
  {
   "cell_type": "code",
   "execution_count": 104,
   "id": "ac1e7a71",
   "metadata": {},
   "outputs": [],
   "source": [
    "# 股票代码格式统一\n",
    "\n",
    "stock_concepts = pd.read_csv('./static/stock_concepts.csv',encoding=\"utf-8\").fillna('')\n",
    "stock_industry = pd.read_csv('./static/stock_industry.csv',encoding='gbk').fillna('')\n",
    "stock_concepts['代码'] = stock_concepts['股票代码'].str.replace('.SH','').str.replace('.SZ','').str.replace('.BJ','')\n",
    "stock_industry['代码'] = stock_industry['股票代码'].str.replace('.SH','').str.replace('.SZ','').str.replace('.BJ','')"
   ]
  },
  {
   "cell_type": "code",
   "execution_count": null,
   "id": "106cd5af",
   "metadata": {},
   "outputs": [],
   "source": []
  },
  {
   "cell_type": "markdown",
   "id": "f6ac0edf",
   "metadata": {},
   "source": [
    "#  全部股票"
   ]
  },
  {
   "cell_type": "code",
   "execution_count": 71,
   "id": "96c20b6c",
   "metadata": {
    "scrolled": true
   },
   "outputs": [
    {
     "name": "stdout",
     "output_type": "stream",
     "text": [
      "page: 1\n",
      "page: 2\n",
      "page: 3\n",
      "page: 4\n",
      "page: 5\n",
      "page: 6\n",
      "page: 7\n",
      "page: 8\n",
      "page: 9\n",
      "page: 10\n",
      "page: 11\n",
      "page: 12\n",
      "page: 13\n",
      "page: 14\n",
      "page: 15\n",
      "page: 16\n",
      "page: 17\n",
      "page: 18\n",
      "page: 19\n",
      "page: 20\n",
      "page: 21\n",
      "page: 22\n",
      "page: 23\n",
      "page: 24\n",
      "page: 25\n",
      "page: 26\n",
      "page: 27\n",
      "page: 28\n",
      "page: 29\n",
      "page: 30\n",
      "page: 31\n",
      "page: 32\n",
      "page: 33\n",
      "page: 34\n",
      "page: 35\n",
      "page: 36\n",
      "page: 37\n",
      "page: 38\n",
      "page: 39\n",
      "page: 40\n",
      "page: 41\n",
      "page: 42\n",
      "page: 43\n",
      "page: 44\n",
      "page: 45\n",
      "page: 46\n",
      "page: 47\n",
      "page: 48\n",
      "page: 49\n",
      "page: 50\n"
     ]
    }
   ],
   "source": [
    "import wencai as wc\n",
    "from wencai.core.session import Session\n",
    "\n",
    "Session.headers.update({'Host':'www.iwencai.com'})\n",
    "wc.set_variable(cn_col=True)\n",
    "\n",
    "import warnings\n",
    "warnings.filterwarnings('ignore')\n",
    "\n",
    "import pandas as pd\n",
    "pd.set_option('display.max_colwidth', None)\n",
    "\n",
    "index_selected_list = ['上证50','上证150','上证180','上证380','沪深300','科创50','创业板50',\\\n",
    "                       '中证500','中证1000','创业300','深证100','深证200','深证700']\n",
    "concepts_list = pd.read_csv('./static/concepts_checklist.csv',encoding=\"gbk\")\n",
    "industry_concepts_list = concepts_list.loc[concepts_list['分类'].isin(['行业','产品','业务','行业+']) & concepts_list['active']==1 ]['概念名称'].values.tolist()\n",
    "events_concepts_list = concepts_list.loc[concepts_list['分类'].isin(['事件','改革','政策']) & concepts_list['active']==1]['概念名称'].values.tolist()\n",
    "master_concepts_list = concepts_list.loc[concepts_list['分类'].isin(['知名企业','国企体系']) & concepts_list['active']==1]['概念名称'].values.tolist()\n",
    "\n",
    "wc_result = pd.DataFrame()\n",
    "for i in range(1,51):\n",
    "    print('page: '+ str(i))\n",
    "    sr = wc.search('概念 主营 所属指数类',page =i).fillna('')\n",
    "    sr['沪深指数'] = ''\n",
    "    sr['行业概念'] = ''\n",
    "    sr['事件概念'] = ''\n",
    "    sr['体系概念'] = ''\n",
    "\n",
    "    for row, l in sr.iterrows():\n",
    "        sr['主营产品名称'][row] = ','.join(l['主营产品名称'].split('||'))\n",
    "        sr['沪深指数'][row] = ','.join(set(l['所属指数类'].split(';')).intersection(index_selected_list))\n",
    "        sr['行业概念'][row] = ','.join(set(l['所属概念'].replace('概念股','').replace('概念','').split(';')).intersection(industry_concepts_list)).replace('金属','')\n",
    "        sr['事件概念'][row] = ','.join(set(l['所属概念'].replace('概念股','').replace('概念','').split(';')).intersection(events_concepts_list))\n",
    "        sr['体系概念'][row] = ','.join(set(l['所属概念'].replace('概念股','').replace('概念','').split(';')).intersection(master_concepts_list))\n",
    "\n",
    "    sr['所属概念'] =   sr['所属概念'].str.replace('概念股','').str.replace('概念','')\n",
    "    sr['流动市值'] = (pd.to_numeric(sr['a股市值(不含限售股)'])/100000000).round(1).fillna('')    \n",
    "    \n",
    "    wc_result = wc_result.append(sr)\n",
    "    \n",
    "wc_result[['股票代码','股票简称','流动市值','最新价','最新涨跌幅','所属同花顺行业','行业概念','事件概念','体系概念','沪深指数','所属概念','主营产品名称']]\\\n",
    "            .to_csv('wc_info.csv',index = False, encoding = 'utf-8')"
   ]
  },
  {
   "cell_type": "markdown",
   "id": "0f81a315",
   "metadata": {},
   "source": [
    "# 热点概念"
   ]
  },
  {
   "cell_type": "code",
   "execution_count": null,
   "id": "767bd584",
   "metadata": {},
   "outputs": [],
   "source": [
    "concept_list = []\n",
    "\n",
    "for row, l in wc_result[wc_result['最新涨跌幅'].astype(float).between(9.9, 40, inclusive=False)].iterrows():\n",
    "    concept_list = concept_list + l['行业概念'].split(',') + l['事件概念'].split(',') \n",
    "    concept_list =  [x for x in concept_list if x]   # remove ''\n",
    "hot_concepts = pd.DataFrame(concept_list).apply(pd.value_counts)\n",
    "hot_concepts = set(hot_concepts[hot_concepts[0] > 2].index)\n",
    "hot_concepts"
   ]
  },
  {
   "cell_type": "code",
   "execution_count": null,
   "id": "924bab83",
   "metadata": {},
   "outputs": [],
   "source": []
  },
  {
   "cell_type": "code",
   "execution_count": 79,
   "id": "a160c0bd",
   "metadata": {},
   "outputs": [],
   "source": []
  }
 ],
 "metadata": {
  "kernelspec": {
   "display_name": "Python 3 (ipykernel)",
   "language": "python",
   "name": "python3"
  },
  "language_info": {
   "codemirror_mode": {
    "name": "ipython",
    "version": 3
   },
   "file_extension": ".py",
   "mimetype": "text/x-python",
   "name": "python",
   "nbconvert_exporter": "python",
   "pygments_lexer": "ipython3",
   "version": "3.9.7"
  }
 },
 "nbformat": 4,
 "nbformat_minor": 5
}
