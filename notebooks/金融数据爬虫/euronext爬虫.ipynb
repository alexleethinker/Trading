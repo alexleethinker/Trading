{
 "cells": [
  {
   "cell_type": "code",
   "execution_count": 1,
   "id": "05a8664d",
   "metadata": {},
   "outputs": [
    {
     "ename": "NameError",
     "evalue": "name 'df' is not defined",
     "output_type": "error",
     "traceback": [
      "\u001b[0;31m---------------------------------------------------------------------------\u001b[0m",
      "\u001b[0;31mNameError\u001b[0m                                 Traceback (most recent call last)",
      "Cell \u001b[0;32mIn[1], line 3\u001b[0m\n\u001b[1;32m      1\u001b[0m \u001b[38;5;28;01mfrom\u001b[39;00m \u001b[38;5;21;01mIPython\u001b[39;00m\u001b[38;5;21;01m.\u001b[39;00m\u001b[38;5;21;01mdisplay\u001b[39;00m \u001b[38;5;28;01mimport\u001b[39;00m HTML\n\u001b[0;32m----> 3\u001b[0m HTML(df\u001b[38;5;241m.\u001b[39mto_html(escape\u001b[38;5;241m=\u001b[39m\u001b[38;5;28;01mFalse\u001b[39;00m))\n",
      "\u001b[0;31mNameError\u001b[0m: name 'df' is not defined"
     ]
    }
   ],
   "source": [
    "from IPython.display import HTML\n",
    "\n",
    "HTML(df.to_html(escape=False))"
   ]
  },
  {
   "cell_type": "code",
   "execution_count": 8,
   "id": "75599b8b",
   "metadata": {},
   "outputs": [],
   "source": [
    "import requests\n",
    "import pandas as pd\n",
    "import json\n",
    "pd.set_option('display.max_columns',None)\n",
    "\n",
    "headers = {\n",
    "    'User-Agent': 'Mozilla/5.0 (Windows NT 10.0; Win64; x64) AppleWebKit/537.36 (KHTML, like Gecko) Chrome/113.0.0.0 Safari/537.36',\n",
    "    'Accept': 'application/json, text/javascript, */*; q=0.01',\n",
    "    'Accept-Encoding': 'gzip, deflate, br',\n",
    "    'Accept-Language': 'zh-CN,zh;q=0.9,en;q=0.8,en-US;q=0.7,ja;q=0.6,zh-TW;q=0.5,nl;q=0.4',\n",
    "    'Content-Length': '2291',\n",
    "    'Content-Type': 'application/x-www-form-urlencoded; charset=UTF-8',\n",
    "    'Cookie': 'visid_incap_2784265=Fa+2QpF1RPOGRvczqZc9doviJWQAAAAAQUIPAAAAAABjdMOtC35OE9i9CqTY6Cs2; visid_incap_2784297=IPdkiUKKRA+fEgAlrkIyCVKnXGQAAAAAQUIPAAAAAAD/LtpK/6LgeAblpwLuLmiM; visid_incap_2691598=U/NqsPS3TyqhlTHgSGGNYlanXGQAAAAAQUIPAAAAAAAB5o04iL2AMEYmxUNQzY1t; visid_incap_2790185=BQi+PIrxRGGpulC7+EtSq+prhGQAAAAAQUIPAAAAAACbCqPEY30BuR/7dsPteOrP; _ga_PMEFBR6CSF=GS1.1.1689545964.2.1.1689546145.0.0.0; _ga_5H9XW5KEHP=GS1.1.1689706062.1.0.1689706069.0.0.0; _ga_WYRYLMR662=GS1.1.1689706062.6.0.1689706069.0.0.0',\n",
    "    'Origin': 'https://live.euronext.com',\n",
    "    'Referer': 'https://live.euronext.com/en/products/equities/list',\n",
    "    'Sec-Ch-Ua': '\"Not.A/Brand\";v=\"8\", \"Chromium\";v=\"114\", \"Google Chrome\";v=\"114\"',\n",
    "    'Sec-Ch-Ua-Mobile': '?0',\n",
    "    'Sec-Ch-Ua-Platform': '\"macOS\"',\n",
    "    'Sec-Fetch-Dest': 'empty',\n",
    "    'Sec-Fetch-Mode': 'cors',\n",
    "    'Sec-Fetch-Site': 'same-origin',\n",
    "    'X-Requested-With': 'XMLHttpRequest'\n",
    "    }\n",
    "\n",
    "num = '2000'\n",
    "payload = 'draw=3&columns%5B0%5D%5Bdata%5D=0&columns%5B0%5D%5Bname%5D=&columns%5B0%5D%5Bsearchable%5D=true&columns%5B0%5D%5Borderable%5D=false&columns%5B0%5D%5Bsearch%5D%5Bvalue%5D=&columns%5B0%5D%5Bsearch%5D%5Bregex%5D=false&columns%5B1%5D%5Bdata%5D=1&columns%5B1%5D%5Bname%5D=&columns%5B1%5D%5Bsearchable%5D=true&columns%5B1%5D%5Borderable%5D=true&columns%5B1%5D%5Bsearch%5D%5Bvalue%5D=&columns%5B1%5D%5Bsearch%5D%5Bregex%5D=false&columns%5B2%5D%5Bdata%5D=2&columns%5B2%5D%5Bname%5D=&columns%5B2%5D%5Bsearchable%5D=true&columns%5B2%5D%5Borderable%5D=false&columns%5B2%5D%5Bsearch%5D%5Bvalue%5D=&columns%5B2%5D%5Bsearch%5D%5Bregex%5D=false&columns%5B3%5D%5Bdata%5D=3&columns%5B3%5D%5Bname%5D=&columns%5B3%5D%5Bsearchable%5D=true&columns%5B3%5D%5Borderable%5D=false&columns%5B3%5D%5Bsearch%5D%5Bvalue%5D=&columns%5B3%5D%5Bsearch%5D%5Bregex%5D=false&columns%5B4%5D%5Bdata%5D=4&columns%5B4%5D%5Bname%5D=&columns%5B4%5D%5Bsearchable%5D=true&columns%5B4%5D%5Borderable%5D=false&columns%5B4%5D%5Bsearch%5D%5Bvalue%5D=&columns%5B4%5D%5Bsearch%5D%5Bregex%5D=false&columns%5B5%5D%5Bdata%5D=5&columns%5B5%5D%5Bname%5D=&columns%5B5%5D%5Bsearchable%5D=true&columns%5B5%5D%5Borderable%5D=false&columns%5B5%5D%5Bsearch%5D%5Bvalue%5D=&columns%5B5%5D%5Bsearch%5D%5Bregex%5D=false&columns%5B6%5D%5Bdata%5D=6&columns%5B6%5D%5Bname%5D=&columns%5B6%5D%5Bsearchable%5D=true&columns%5B6%5D%5Borderable%5D=false&columns%5B6%5D%5Bsearch%5D%5Bvalue%5D=&columns%5B6%5D%5Bsearch%5D%5Bregex%5D=false&columns%5B7%5D%5Bdata%5D=7&columns%5B7%5D%5Bname%5D=&columns%5B7%5D%5Bsearchable%5D=true&columns%5B7%5D%5Borderable%5D=false&columns%5B7%5D%5Bsearch%5D%5Bvalue%5D=&columns%5B7%5D%5Bsearch%5D%5Bregex%5D=false&columns%5B8%5D%5Bdata%5D=8&columns%5B8%5D%5Bname%5D=&columns%5B8%5D%5Bsearchable%5D=true&columns%5B8%5D%5Borderable%5D=false&columns%5B8%5D%5Bsearch%5D%5Bvalue%5D=&columns%5B8%5D%5Bsearch%5D%5Bregex%5D=false&columns%5B9%5D%5Bdata%5D=9&columns%5B9%5D%5Bname%5D=&columns%5B9%5D%5Bsearchable%5D=true&columns%5B9%5D%5Borderable%5D=false&columns%5B9%5D%5Bsearch%5D%5Bvalue%5D=&columns%5B9%5D%5Bsearch%5D%5Bregex%5D=false&order%5B0%5D%5Bcolumn%5D=0&order%5B0%5D%5Bdir%5D=asc&start=0&length={num}&search%5Bvalue%5D=&search%5Bregex%5D=false&args%5BtradedToday%5D=true&args%5BinitialLetter%5D=&iDisplayLength={num}&iDisplayStart=0&sSortDir_0=asc&sSortField=name'.format(num=num)\n",
    "# get all data\n",
    "# payload = 'draw=3&columns%5B0%5D%5Bdata%5D=0&columns%5B0%5D%5Bname%5D=&columns%5B0%5D%5Bsearchable%5D=true&columns%5B0%5D%5Borderable%5D=false&columns%5B0%5D%5Bsearch%5D%5Bvalue%5D=&columns%5B0%5D%5Bsearch%5D%5Bregex%5D=false&columns%5B1%5D%5Bdata%5D=1&columns%5B1%5D%5Bname%5D=&columns%5B1%5D%5Bsearchable%5D=true&columns%5B1%5D%5Borderable%5D=true&columns%5B1%5D%5Bsearch%5D%5Bvalue%5D=&columns%5B1%5D%5Bsearch%5D%5Bregex%5D=false&columns%5B2%5D%5Bdata%5D=2&columns%5B2%5D%5Bname%5D=&columns%5B2%5D%5Bsearchable%5D=true&columns%5B2%5D%5Borderable%5D=false&columns%5B2%5D%5Bsearch%5D%5Bvalue%5D=&columns%5B2%5D%5Bsearch%5D%5Bregex%5D=false&columns%5B3%5D%5Bdata%5D=3&columns%5B3%5D%5Bname%5D=&columns%5B3%5D%5Bsearchable%5D=true&columns%5B3%5D%5Borderable%5D=false&columns%5B3%5D%5Bsearch%5D%5Bvalue%5D=&columns%5B3%5D%5Bsearch%5D%5Bregex%5D=false&columns%5B4%5D%5Bdata%5D=4&columns%5B4%5D%5Bname%5D=&columns%5B4%5D%5Bsearchable%5D=true&columns%5B4%5D%5Borderable%5D=false&columns%5B4%5D%5Bsearch%5D%5Bvalue%5D=&columns%5B4%5D%5Bsearch%5D%5Bregex%5D=false&columns%5B5%5D%5Bdata%5D=5&columns%5B5%5D%5Bname%5D=&columns%5B5%5D%5Bsearchable%5D=true&columns%5B5%5D%5Borderable%5D=false&columns%5B5%5D%5Bsearch%5D%5Bvalue%5D=&columns%5B5%5D%5Bsearch%5D%5Bregex%5D=false&columns%5B6%5D%5Bdata%5D=6&columns%5B6%5D%5Bname%5D=&columns%5B6%5D%5Bsearchable%5D=true&columns%5B6%5D%5Borderable%5D=false&columns%5B6%5D%5Bsearch%5D%5Bvalue%5D=&columns%5B6%5D%5Bsearch%5D%5Bregex%5D=false&columns%5B7%5D%5Bdata%5D=7&columns%5B7%5D%5Bname%5D=&columns%5B7%5D%5Bsearchable%5D=true&columns%5B7%5D%5Borderable%5D=false&columns%5B7%5D%5Bsearch%5D%5Bvalue%5D=&columns%5B7%5D%5Bsearch%5D%5Bregex%5D=false&columns%5B8%5D%5Bdata%5D=8&columns%5B8%5D%5Bname%5D=&columns%5B8%5D%5Bsearchable%5D=true&columns%5B8%5D%5Borderable%5D=false&columns%5B8%5D%5Bsearch%5D%5Bvalue%5D=&columns%5B8%5D%5Bsearch%5D%5Bregex%5D=false&columns%5B9%5D%5Bdata%5D=9&columns%5B9%5D%5Bname%5D=&columns%5B9%5D%5Bsearchable%5D=true&columns%5B9%5D%5Borderable%5D=false&columns%5B9%5D%5Bsearch%5D%5Bvalue%5D=&columns%5B9%5D%5Bsearch%5D%5Bregex%5D=false&order%5B0%5D%5Bcolumn%5D=0&order%5B0%5D%5Bdir%5D=asc&start=0&length={num}&search%5Bvalue%5D=&search%5Bregex%5D=false&args%5BinitialLetter%5D=&iDisplayLength={num}&iDisplayStart=0&sSortDir_0=asc&sSortField=name'.format(num=num)\n",
    "url = 'https://live.euronext.com/en/pd_es/data/stocks?mics=dm_all_stock'  #dm_all_stock\n",
    "r = requests.post(url,data=payload,headers = headers)\n",
    "cookies = r.cookies.get_dict()\n",
    "content = r.text\n",
    "df = pd.DataFrame(json.loads(content)['aaData'])\n",
    "\n",
    "def extract_code(string):\n",
    "    string = string.replace(\"<a href='/en/product/equities/\",'').split('/')[0].split(\"' \")[0]\n",
    "    return string\n",
    "\n",
    "df['code'] = df[1].apply(extract_code)\n",
    "\n",
    "\n",
    "import lxml.html\n",
    "\n",
    "def parse_html(string):\n",
    "    try:\n",
    "        html = lxml.html.fromstring(string)\n",
    "        content = html.text_content()\n",
    "    except:\n",
    "        content = ''\n",
    "    return content\n",
    "\n",
    "for i in df.columns:\n",
    "    df[i] = df[i].apply(parse_html)\n",
    "\n",
    "columns = ['','name','ISIN','symbol','exchange_code','last_price','change','last_traded_at','close_price','trading_date','euronext_code']\n",
    "df.columns = columns    \n",
    "df[['trade_currency','last_price']] = df['last_price'].str.split(' ',expand=True)\n",
    "df = df[['euronext_code','exchange_code','trade_currency','last_price','change','last_traded_at','close_price','trading_date']]\n",
    "# df['exchange_code'] = df['exchange_code'].str.split(',')\n",
    "# df = df.explode('exchange_code')"
   ]
  },
  {
   "cell_type": "code",
   "execution_count": 7,
   "id": "7ddc0e0a",
   "metadata": {},
   "outputs": [
    {
     "data": {
      "text/html": [
       "<div>\n",
       "<style scoped>\n",
       "    .dataframe tbody tr th:only-of-type {\n",
       "        vertical-align: middle;\n",
       "    }\n",
       "\n",
       "    .dataframe tbody tr th {\n",
       "        vertical-align: top;\n",
       "    }\n",
       "\n",
       "    .dataframe thead th {\n",
       "        text-align: right;\n",
       "    }\n",
       "</style>\n",
       "<table border=\"1\" class=\"dataframe\">\n",
       "  <thead>\n",
       "    <tr style=\"text-align: right;\">\n",
       "      <th></th>\n",
       "      <th>0</th>\n",
       "      <th>1</th>\n",
       "      <th>2</th>\n",
       "      <th>3</th>\n",
       "      <th>4</th>\n",
       "      <th>5</th>\n",
       "      <th>6</th>\n",
       "      <th>7</th>\n",
       "      <th>8</th>\n",
       "      <th>9</th>\n",
       "      <th>code</th>\n",
       "    </tr>\n",
       "  </thead>\n",
       "  <tbody>\n",
       "    <tr>\n",
       "      <th>0</th>\n",
       "      <td></td>\n",
       "      <td>2020 BULKERS</td>\n",
       "      <td>BMG9156K1018</td>\n",
       "      <td>2020</td>\n",
       "      <td>XOSL</td>\n",
       "      <td>NOK 136.90</td>\n",
       "      <td>-2.91%</td>\n",
       "      <td>10:20 CET02 Feb 2024</td>\n",
       "      <td>141.00</td>\n",
       "      <td>01 Feb 2024</td>\n",
       "      <td>BMG9156K1018-XOSL' data-order='2020 BULKERS' d...</td>\n",
       "    </tr>\n",
       "    <tr>\n",
       "      <th>1</th>\n",
       "      <td></td>\n",
       "      <td>2CRSI</td>\n",
       "      <td>FR0013341781</td>\n",
       "      <td>AL2SI</td>\n",
       "      <td>ALXP</td>\n",
       "      <td>EUR 3.83</td>\n",
       "      <td>0.79%</td>\n",
       "      <td>10:21 CET02 Feb 2024</td>\n",
       "      <td>3.80</td>\n",
       "      <td>01 Feb 2024</td>\n",
       "      <td>FR0013341781-ALXP' data-order='2CRSI' data-tit...</td>\n",
       "    </tr>\n",
       "    <tr>\n",
       "      <th>2</th>\n",
       "      <td></td>\n",
       "      <td>5TH PLANET GAMES</td>\n",
       "      <td>DK0060945467</td>\n",
       "      <td>5PG</td>\n",
       "      <td>XOAS</td>\n",
       "      <td>NOK 1.74</td>\n",
       "      <td>-2.79%</td>\n",
       "      <td>09:46 CET02 Feb 2024</td>\n",
       "      <td>1.79</td>\n",
       "      <td>01 Feb 2024</td>\n",
       "      <td>DK0060945467-XOAS' data-order='5TH PLANET GAME...</td>\n",
       "    </tr>\n",
       "    <tr>\n",
       "      <th>3</th>\n",
       "      <td></td>\n",
       "      <td>A.S.T. GROUPE</td>\n",
       "      <td>FR0000076887</td>\n",
       "      <td>ALAST</td>\n",
       "      <td>ALXP</td>\n",
       "      <td>EUR 1.19</td>\n",
       "      <td>-</td>\n",
       "      <td>10:02 CET02 Feb 2024</td>\n",
       "      <td>1.19</td>\n",
       "      <td>01 Feb 2024</td>\n",
       "      <td>FR0000076887-ALXP' data-order='A.S.T. GROUPE' ...</td>\n",
       "    </tr>\n",
       "    <tr>\n",
       "      <th>4</th>\n",
       "      <td></td>\n",
       "      <td>A2A</td>\n",
       "      <td>IT0001233417</td>\n",
       "      <td>A2A</td>\n",
       "      <td>MTAA</td>\n",
       "      <td>EUR 1.792</td>\n",
       "      <td>0.17%</td>\n",
       "      <td>10:20 CET02 Feb 2024</td>\n",
       "      <td>1.789</td>\n",
       "      <td>01 Feb 2024</td>\n",
       "      <td>IT0001233417-MTAA' data-order='A2A' data-title...</td>\n",
       "    </tr>\n",
       "    <tr>\n",
       "      <th>...</th>\n",
       "      <td>...</td>\n",
       "      <td>...</td>\n",
       "      <td>...</td>\n",
       "      <td>...</td>\n",
       "      <td>...</td>\n",
       "      <td>...</td>\n",
       "      <td>...</td>\n",
       "      <td>...</td>\n",
       "      <td>...</td>\n",
       "      <td>...</td>\n",
       "      <td>...</td>\n",
       "    </tr>\n",
       "    <tr>\n",
       "      <th>1505</th>\n",
       "      <td></td>\n",
       "      <td>ZALARIS</td>\n",
       "      <td>NO0010708910</td>\n",
       "      <td>ZAL</td>\n",
       "      <td>XOSL</td>\n",
       "      <td>NOK 48.00</td>\n",
       "      <td>-3.23%</td>\n",
       "      <td>09:49 CET02 Feb 2024</td>\n",
       "      <td>49.60</td>\n",
       "      <td>01 Feb 2024</td>\n",
       "      <td>NO0010708910-XOSL' data-order='ZALARIS' data-t...</td>\n",
       "    </tr>\n",
       "    <tr>\n",
       "      <th>1506</th>\n",
       "      <td></td>\n",
       "      <td>ZAPTEC</td>\n",
       "      <td>NO0010713936</td>\n",
       "      <td>ZAP</td>\n",
       "      <td>XOSL</td>\n",
       "      <td>NOK 22.92</td>\n",
       "      <td>-0.69%</td>\n",
       "      <td>10:21 CET02 Feb 2024</td>\n",
       "      <td>23.08</td>\n",
       "      <td>01 Feb 2024</td>\n",
       "      <td>NO0010713936-XOSL' data-order='ZAPTEC' data-ti...</td>\n",
       "    </tr>\n",
       "    <tr>\n",
       "      <th>1507</th>\n",
       "      <td></td>\n",
       "      <td>ZIGNAGO VETRO</td>\n",
       "      <td>IT0004171440</td>\n",
       "      <td>ZV</td>\n",
       "      <td>MTAA</td>\n",
       "      <td>EUR 13.68</td>\n",
       "      <td>1.33%</td>\n",
       "      <td>10:07 CET02 Feb 2024</td>\n",
       "      <td>13.50</td>\n",
       "      <td>01 Feb 2024</td>\n",
       "      <td>IT0004171440-MTAA' data-order='ZIGNAGO VETRO' ...</td>\n",
       "    </tr>\n",
       "    <tr>\n",
       "      <th>1508</th>\n",
       "      <td></td>\n",
       "      <td>ZUCCHI</td>\n",
       "      <td>IT0005395071</td>\n",
       "      <td>ZUC</td>\n",
       "      <td>MTAA</td>\n",
       "      <td>EUR 2.25</td>\n",
       "      <td>0.90%</td>\n",
       "      <td>10:06 CET02 Feb 2024</td>\n",
       "      <td>2.23</td>\n",
       "      <td>01 Feb 2024</td>\n",
       "      <td>IT0005395071-MTAA' data-order='ZUCCHI' data-ti...</td>\n",
       "    </tr>\n",
       "    <tr>\n",
       "      <th>1509</th>\n",
       "      <td></td>\n",
       "      <td>ZWIPE</td>\n",
       "      <td>NO0010721277</td>\n",
       "      <td>ZWIPE</td>\n",
       "      <td>MERK</td>\n",
       "      <td>NOK 0.4745</td>\n",
       "      <td>-6.96%</td>\n",
       "      <td>10:20 CET02 Feb 2024</td>\n",
       "      <td>0.51</td>\n",
       "      <td>01 Feb 2024</td>\n",
       "      <td>NO0010721277-MERK' data-order='ZWIPE' data-tit...</td>\n",
       "    </tr>\n",
       "  </tbody>\n",
       "</table>\n",
       "<p>1510 rows × 11 columns</p>\n",
       "</div>"
      ],
      "text/plain": [
       "     0                  1             2      3     4           5       6  \\\n",
       "0            2020 BULKERS  BMG9156K1018   2020  XOSL  NOK 136.90  -2.91%   \n",
       "1                   2CRSI  FR0013341781  AL2SI  ALXP    EUR 3.83   0.79%   \n",
       "2        5TH PLANET GAMES  DK0060945467    5PG  XOAS    NOK 1.74  -2.79%   \n",
       "3           A.S.T. GROUPE  FR0000076887  ALAST  ALXP    EUR 1.19       -   \n",
       "4                     A2A  IT0001233417    A2A  MTAA   EUR 1.792   0.17%   \n",
       "...  ..               ...           ...    ...   ...         ...     ...   \n",
       "1505              ZALARIS  NO0010708910    ZAL  XOSL   NOK 48.00  -3.23%   \n",
       "1506               ZAPTEC  NO0010713936    ZAP  XOSL   NOK 22.92  -0.69%   \n",
       "1507        ZIGNAGO VETRO  IT0004171440     ZV  MTAA   EUR 13.68   1.33%   \n",
       "1508               ZUCCHI  IT0005395071    ZUC  MTAA    EUR 2.25   0.90%   \n",
       "1509                ZWIPE  NO0010721277  ZWIPE  MERK  NOK 0.4745  -6.96%   \n",
       "\n",
       "                         7       8            9  \\\n",
       "0     10:20 CET02 Feb 2024  141.00  01 Feb 2024   \n",
       "1     10:21 CET02 Feb 2024    3.80  01 Feb 2024   \n",
       "2     09:46 CET02 Feb 2024    1.79  01 Feb 2024   \n",
       "3     10:02 CET02 Feb 2024    1.19  01 Feb 2024   \n",
       "4     10:20 CET02 Feb 2024   1.789  01 Feb 2024   \n",
       "...                    ...     ...          ...   \n",
       "1505  09:49 CET02 Feb 2024   49.60  01 Feb 2024   \n",
       "1506  10:21 CET02 Feb 2024   23.08  01 Feb 2024   \n",
       "1507  10:07 CET02 Feb 2024   13.50  01 Feb 2024   \n",
       "1508  10:06 CET02 Feb 2024    2.23  01 Feb 2024   \n",
       "1509  10:20 CET02 Feb 2024    0.51  01 Feb 2024   \n",
       "\n",
       "                                                   code  \n",
       "0     BMG9156K1018-XOSL' data-order='2020 BULKERS' d...  \n",
       "1     FR0013341781-ALXP' data-order='2CRSI' data-tit...  \n",
       "2     DK0060945467-XOAS' data-order='5TH PLANET GAME...  \n",
       "3     FR0000076887-ALXP' data-order='A.S.T. GROUPE' ...  \n",
       "4     IT0001233417-MTAA' data-order='A2A' data-title...  \n",
       "...                                                 ...  \n",
       "1505  NO0010708910-XOSL' data-order='ZALARIS' data-t...  \n",
       "1506  NO0010713936-XOSL' data-order='ZAPTEC' data-ti...  \n",
       "1507  IT0004171440-MTAA' data-order='ZIGNAGO VETRO' ...  \n",
       "1508  IT0005395071-MTAA' data-order='ZUCCHI' data-ti...  \n",
       "1509  NO0010721277-MERK' data-order='ZWIPE' data-tit...  \n",
       "\n",
       "[1510 rows x 11 columns]"
      ]
     },
     "execution_count": 7,
     "metadata": {},
     "output_type": "execute_result"
    }
   ],
   "source": [
    "\n",
    "df"
   ]
  },
  {
   "cell_type": "code",
   "execution_count": 6,
   "id": "4517403b",
   "metadata": {},
   "outputs": [
    {
     "ename": "AttributeError",
     "evalue": "'str' object has no attribute 'cookies'",
     "output_type": "error",
     "traceback": [
      "\u001b[0;31m---------------------------------------------------------------------------\u001b[0m",
      "\u001b[0;31mAttributeError\u001b[0m                            Traceback (most recent call last)",
      "Cell \u001b[0;32mIn[6], line 1\u001b[0m\n\u001b[0;32m----> 1\u001b[0m \u001b[43mr\u001b[49m\u001b[38;5;241;43m.\u001b[39;49m\u001b[43mcookies\u001b[49m\u001b[38;5;241m.\u001b[39mget_dict()\n",
      "\u001b[0;31mAttributeError\u001b[0m: 'str' object has no attribute 'cookies'"
     ]
    }
   ],
   "source": [
    "r.cookies.get_dict()"
   ]
  },
  {
   "cell_type": "code",
   "execution_count": null,
   "id": "6150ff19",
   "metadata": {},
   "outputs": [],
   "source": []
  },
  {
   "cell_type": "code",
   "execution_count": 3,
   "id": "965693e8",
   "metadata": {},
   "outputs": [
    {
     "ename": "KeyError",
     "evalue": "1",
     "output_type": "error",
     "traceback": [
      "\u001b[0;31m---------------------------------------------------------------------------\u001b[0m",
      "\u001b[0;31mKeyError\u001b[0m                                  Traceback (most recent call last)",
      "File \u001b[0;32m~/.local/lib/python3.10/site-packages/pandas/core/indexes/base.py:3652\u001b[0m, in \u001b[0;36mIndex.get_loc\u001b[0;34m(self, key)\u001b[0m\n\u001b[1;32m   3651\u001b[0m \u001b[38;5;28;01mtry\u001b[39;00m:\n\u001b[0;32m-> 3652\u001b[0m     \u001b[38;5;28;01mreturn\u001b[39;00m \u001b[38;5;28;43mself\u001b[39;49m\u001b[38;5;241;43m.\u001b[39;49m\u001b[43m_engine\u001b[49m\u001b[38;5;241;43m.\u001b[39;49m\u001b[43mget_loc\u001b[49m\u001b[43m(\u001b[49m\u001b[43mcasted_key\u001b[49m\u001b[43m)\u001b[49m\n\u001b[1;32m   3653\u001b[0m \u001b[38;5;28;01mexcept\u001b[39;00m \u001b[38;5;167;01mKeyError\u001b[39;00m \u001b[38;5;28;01mas\u001b[39;00m err:\n",
      "File \u001b[0;32m~/.local/lib/python3.10/site-packages/pandas/_libs/index.pyx:147\u001b[0m, in \u001b[0;36mpandas._libs.index.IndexEngine.get_loc\u001b[0;34m()\u001b[0m\n",
      "File \u001b[0;32m~/.local/lib/python3.10/site-packages/pandas/_libs/index.pyx:176\u001b[0m, in \u001b[0;36mpandas._libs.index.IndexEngine.get_loc\u001b[0;34m()\u001b[0m\n",
      "File \u001b[0;32mpandas/_libs/hashtable_class_helper.pxi:7080\u001b[0m, in \u001b[0;36mpandas._libs.hashtable.PyObjectHashTable.get_item\u001b[0;34m()\u001b[0m\n",
      "File \u001b[0;32mpandas/_libs/hashtable_class_helper.pxi:7088\u001b[0m, in \u001b[0;36mpandas._libs.hashtable.PyObjectHashTable.get_item\u001b[0;34m()\u001b[0m\n",
      "\u001b[0;31mKeyError\u001b[0m: 1",
      "\nThe above exception was the direct cause of the following exception:\n",
      "\u001b[0;31mKeyError\u001b[0m                                  Traceback (most recent call last)",
      "Cell \u001b[0;32mIn[3], line 5\u001b[0m\n\u001b[1;32m      2\u001b[0m     link \u001b[38;5;241m=\u001b[39m link\u001b[38;5;241m.\u001b[39msplit(\u001b[38;5;124m'\u001b[39m\u001b[38;5;124m/\u001b[39m\u001b[38;5;124m'\u001b[39m)[\u001b[38;5;241m4\u001b[39m]\n\u001b[1;32m      3\u001b[0m     \u001b[38;5;28;01mreturn\u001b[39;00m link\n\u001b[0;32m----> 5\u001b[0m code_df \u001b[38;5;241m=\u001b[39m \u001b[43mdf\u001b[49m\u001b[43m[\u001b[49m\u001b[38;5;241;43m1\u001b[39;49m\u001b[43m]\u001b[49m\u001b[38;5;241m.\u001b[39mapply(extract_info)\n\u001b[1;32m      7\u001b[0m code_df \u001b[38;5;241m=\u001b[39m code_df\u001b[38;5;241m.\u001b[39mapply(get_indutry)\u001b[38;5;241m.\u001b[39mstr\u001b[38;5;241m.\u001b[39msplit(\u001b[38;5;124m'\u001b[39m\u001b[38;5;124m,\u001b[39m\u001b[38;5;124m'\u001b[39m,expand\u001b[38;5;241m=\u001b[39m\u001b[38;5;28;01mTrue\u001b[39;00m)\n\u001b[1;32m      8\u001b[0m columns \u001b[38;5;241m=\u001b[39m [\u001b[38;5;124m'\u001b[39m\u001b[38;5;124mcode\u001b[39m\u001b[38;5;124m'\u001b[39m,\u001b[38;5;124m'\u001b[39m\u001b[38;5;124mindustry_code\u001b[39m\u001b[38;5;124m'\u001b[39m,\u001b[38;5;124m'\u001b[39m\u001b[38;5;124mindustry\u001b[39m\u001b[38;5;124m'\u001b[39m,\u001b[38;5;124m'\u001b[39m\u001b[38;5;124msupersector_code\u001b[39m\u001b[38;5;124m'\u001b[39m,\u001b[38;5;124m'\u001b[39m\u001b[38;5;124msupersector\u001b[39m\u001b[38;5;124m'\u001b[39m,\u001b[38;5;124m'\u001b[39m\u001b[38;5;124msector_code\u001b[39m\u001b[38;5;124m'\u001b[39m,\u001b[38;5;124m'\u001b[39m\u001b[38;5;124msector\u001b[39m\u001b[38;5;124m'\u001b[39m,\u001b[38;5;124m'\u001b[39m\u001b[38;5;124msubsector_code\u001b[39m\u001b[38;5;124m'\u001b[39m,\u001b[38;5;124m'\u001b[39m\u001b[38;5;124msubsector\u001b[39m\u001b[38;5;124m'\u001b[39m]\n",
      "File \u001b[0;32m~/.local/lib/python3.10/site-packages/pandas/core/frame.py:3761\u001b[0m, in \u001b[0;36mDataFrame.__getitem__\u001b[0;34m(self, key)\u001b[0m\n\u001b[1;32m   3759\u001b[0m \u001b[38;5;28;01mif\u001b[39;00m \u001b[38;5;28mself\u001b[39m\u001b[38;5;241m.\u001b[39mcolumns\u001b[38;5;241m.\u001b[39mnlevels \u001b[38;5;241m>\u001b[39m \u001b[38;5;241m1\u001b[39m:\n\u001b[1;32m   3760\u001b[0m     \u001b[38;5;28;01mreturn\u001b[39;00m \u001b[38;5;28mself\u001b[39m\u001b[38;5;241m.\u001b[39m_getitem_multilevel(key)\n\u001b[0;32m-> 3761\u001b[0m indexer \u001b[38;5;241m=\u001b[39m \u001b[38;5;28;43mself\u001b[39;49m\u001b[38;5;241;43m.\u001b[39;49m\u001b[43mcolumns\u001b[49m\u001b[38;5;241;43m.\u001b[39;49m\u001b[43mget_loc\u001b[49m\u001b[43m(\u001b[49m\u001b[43mkey\u001b[49m\u001b[43m)\u001b[49m\n\u001b[1;32m   3762\u001b[0m \u001b[38;5;28;01mif\u001b[39;00m is_integer(indexer):\n\u001b[1;32m   3763\u001b[0m     indexer \u001b[38;5;241m=\u001b[39m [indexer]\n",
      "File \u001b[0;32m~/.local/lib/python3.10/site-packages/pandas/core/indexes/base.py:3654\u001b[0m, in \u001b[0;36mIndex.get_loc\u001b[0;34m(self, key)\u001b[0m\n\u001b[1;32m   3652\u001b[0m     \u001b[38;5;28;01mreturn\u001b[39;00m \u001b[38;5;28mself\u001b[39m\u001b[38;5;241m.\u001b[39m_engine\u001b[38;5;241m.\u001b[39mget_loc(casted_key)\n\u001b[1;32m   3653\u001b[0m \u001b[38;5;28;01mexcept\u001b[39;00m \u001b[38;5;167;01mKeyError\u001b[39;00m \u001b[38;5;28;01mas\u001b[39;00m err:\n\u001b[0;32m-> 3654\u001b[0m     \u001b[38;5;28;01mraise\u001b[39;00m \u001b[38;5;167;01mKeyError\u001b[39;00m(key) \u001b[38;5;28;01mfrom\u001b[39;00m \u001b[38;5;21;01merr\u001b[39;00m\n\u001b[1;32m   3655\u001b[0m \u001b[38;5;28;01mexcept\u001b[39;00m \u001b[38;5;167;01mTypeError\u001b[39;00m:\n\u001b[1;32m   3656\u001b[0m     \u001b[38;5;66;03m# If we have a listlike key, _check_indexing_error will raise\u001b[39;00m\n\u001b[1;32m   3657\u001b[0m     \u001b[38;5;66;03m#  InvalidIndexError. Otherwise we fall through and re-raise\u001b[39;00m\n\u001b[1;32m   3658\u001b[0m     \u001b[38;5;66;03m#  the TypeError.\u001b[39;00m\n\u001b[1;32m   3659\u001b[0m     \u001b[38;5;28mself\u001b[39m\u001b[38;5;241m.\u001b[39m_check_indexing_error(key)\n",
      "\u001b[0;31mKeyError\u001b[0m: 1"
     ]
    }
   ],
   "source": [
    "def extract_info(link):\n",
    "    link = link.split('/')[4]\n",
    "    return link\n",
    "    \n",
    "code_df = df[1].apply(extract_info)\n",
    "\n",
    "code_df = code_df.apply(get_indutry).str.split(',',expand=True)\n",
    "columns = ['code','industry_code','industry','supersector_code','supersector','sector_code','sector','subsector_code','subsector']\n",
    "code_df.columns = columns\n",
    "code_df"
   ]
  },
  {
   "cell_type": "code",
   "execution_count": 76,
   "id": "c75cff45",
   "metadata": {},
   "outputs": [
    {
     "data": {
      "text/html": [
       "<div>\n",
       "<style scoped>\n",
       "    .dataframe tbody tr th:only-of-type {\n",
       "        vertical-align: middle;\n",
       "    }\n",
       "\n",
       "    .dataframe tbody tr th {\n",
       "        vertical-align: top;\n",
       "    }\n",
       "\n",
       "    .dataframe thead th {\n",
       "        text-align: right;\n",
       "    }\n",
       "</style>\n",
       "<table border=\"1\" class=\"dataframe\">\n",
       "  <thead>\n",
       "    <tr style=\"text-align: right;\">\n",
       "      <th></th>\n",
       "      <th>0</th>\n",
       "      <th>1</th>\n",
       "      <th>2</th>\n",
       "      <th>3</th>\n",
       "      <th>4</th>\n",
       "      <th>5</th>\n",
       "      <th>6</th>\n",
       "      <th>7</th>\n",
       "      <th>8</th>\n",
       "    </tr>\n",
       "  </thead>\n",
       "  <tbody>\n",
       "    <tr>\n",
       "      <th>0</th>\n",
       "      <td>FR0010285965-ALXP</td>\n",
       "      <td>40</td>\n",
       "      <td>Consumer Discretionary</td>\n",
       "      <td>4030</td>\n",
       "      <td>Media</td>\n",
       "      <td>403010</td>\n",
       "      <td>Media</td>\n",
       "      <td>40301020</td>\n",
       "      <td>Media Agencies</td>\n",
       "    </tr>\n",
       "  </tbody>\n",
       "</table>\n",
       "</div>"
      ],
      "text/plain": [
       "                   0   1                       2     3      4       5      6  \\\n",
       "0  FR0010285965-ALXP  40  Consumer Discretionary  4030  Media  403010  Media   \n",
       "\n",
       "          7               8  \n",
       "0  40301020  Media Agencies  "
      ]
     },
     "execution_count": 76,
     "metadata": {},
     "output_type": "execute_result"
    }
   ],
   "source": [
    "code_df.head(1).apply(get_indutry).str.split(',',expand=True)"
   ]
  },
  {
   "cell_type": "code",
   "execution_count": 80,
   "id": "9a084a29",
   "metadata": {},
   "outputs": [
    {
     "data": {
      "text/plain": [
       "0    FR0010285965-ALXP\n",
       "1    BMG9156K1018-XOSL\n",
       "2    FR0013341781-ALXP\n",
       "Name: 1, dtype: object"
      ]
     },
     "execution_count": 80,
     "metadata": {},
     "output_type": "execute_result"
    }
   ],
   "source": [
    "code_df[0:3]"
   ]
  },
  {
   "cell_type": "code",
   "execution_count": 110,
   "id": "d84395fc",
   "metadata": {},
   "outputs": [
    {
     "name": "stderr",
     "output_type": "stream",
     "text": [
      "  1%|▊                                                                                                                 | 16/2396 [00:00<01:33, 25.32it/s]"
     ]
    },
    {
     "name": "stdout",
     "output_type": "stream",
     "text": [
      "BE0946377455-VPXB\n"
     ]
    },
    {
     "name": "stderr",
     "output_type": "stream",
     "text": [
      "  1%|█▏                                                                                                                | 26/2396 [00:03<09:13,  4.28it/s]"
     ]
    },
    {
     "name": "stdout",
     "output_type": "stream",
     "text": [
      "NL0011540547-XAMS\n"
     ]
    },
    {
     "name": "stderr",
     "output_type": "stream",
     "text": [
      "  2%|█▉                                                                                                                | 42/2396 [00:08<11:02,  3.56it/s]"
     ]
    },
    {
     "name": "stdout",
     "output_type": "stream",
     "text": [
      "BE0010012210-VPXB\n"
     ]
    },
    {
     "name": "stderr",
     "output_type": "stream",
     "text": [
      "  2%|██▍                                                                                                               | 52/2396 [00:11<11:38,  3.36it/s]"
     ]
    },
    {
     "name": "stdout",
     "output_type": "stream",
     "text": [
      "US0079031078-BGEM\n"
     ]
    },
    {
     "name": "stderr",
     "output_type": "stream",
     "text": [
      "\r",
      "  2%|██▌                                                                                                               | 53/2396 [00:11<14:31,  2.69it/s]"
     ]
    },
    {
     "name": "stdout",
     "output_type": "stream",
     "text": [
      "US0079031078-MTAH\n"
     ]
    },
    {
     "name": "stderr",
     "output_type": "stream",
     "text": [
      "  3%|███▌                                                                                                              | 76/2396 [00:18<14:06,  2.74it/s]"
     ]
    },
    {
     "name": "stdout",
     "output_type": "stream",
     "text": [
      "BE0024915838-VPXB\n"
     ]
    },
    {
     "name": "stderr",
     "output_type": "stream",
     "text": [
      "  5%|█████▌                                                                                                           | 118/2396 [00:30<10:18,  3.68it/s]"
     ]
    },
    {
     "name": "stdout",
     "output_type": "stream",
     "text": [
      "BE0941243520-VPXB\n"
     ]
    },
    {
     "name": "stderr",
     "output_type": "stream",
     "text": [
      "  5%|█████▉                                                                                                           | 125/2396 [00:32<10:29,  3.61it/s]"
     ]
    },
    {
     "name": "stdout",
     "output_type": "stream",
     "text": [
      "BE0146350740-VPXB\n"
     ]
    },
    {
     "name": "stderr",
     "output_type": "stream",
     "text": [
      "  5%|██████                                                                                                           | 129/2396 [00:33<10:12,  3.70it/s]"
     ]
    },
    {
     "name": "stdout",
     "output_type": "stream",
     "text": [
      "US02079K3059-MTAH\n"
     ]
    },
    {
     "name": "stderr",
     "output_type": "stream",
     "text": [
      "\r",
      "  5%|██████▏                                                                                                          | 130/2396 [00:33<09:59,  3.78it/s]"
     ]
    },
    {
     "name": "stdout",
     "output_type": "stream",
     "text": [
      "US02079K3059-BGEM\n"
     ]
    },
    {
     "name": "stderr",
     "output_type": "stream",
     "text": [
      "\r",
      "  5%|██████▏                                                                                                          | 131/2396 [00:34<09:42,  3.89it/s]"
     ]
    },
    {
     "name": "stdout",
     "output_type": "stream",
     "text": [
      "US02079K1079-MTAH\n"
     ]
    },
    {
     "name": "stderr",
     "output_type": "stream",
     "text": [
      "\r",
      "  6%|██████▏                                                                                                          | 132/2396 [00:34<09:30,  3.97it/s]"
     ]
    },
    {
     "name": "stdout",
     "output_type": "stream",
     "text": [
      "US02079K1079-BGEM\n"
     ]
    },
    {
     "name": "stderr",
     "output_type": "stream",
     "text": [
      "  6%|██████▉                                                                                                          | 147/2396 [00:38<10:13,  3.66it/s]"
     ]
    },
    {
     "name": "stdout",
     "output_type": "stream",
     "text": [
      "US0231351067-BGEM\n"
     ]
    },
    {
     "name": "stderr",
     "output_type": "stream",
     "text": [
      "\r",
      "  6%|██████▉                                                                                                          | 148/2396 [00:38<10:31,  3.56it/s]"
     ]
    },
    {
     "name": "stdout",
     "output_type": "stream",
     "text": [
      "US0231351067-MTAH\n"
     ]
    },
    {
     "name": "stderr",
     "output_type": "stream",
     "text": [
      "  6%|███████                                                                                                          | 151/2396 [00:39<11:45,  3.18it/s]"
     ]
    },
    {
     "name": "stdout",
     "output_type": "stream",
     "text": [
      "US0311621009-MTAH\n"
     ]
    },
    {
     "name": "stderr",
     "output_type": "stream",
     "text": [
      "\r",
      "  6%|███████▏                                                                                                         | 152/2396 [00:40<11:02,  3.39it/s]"
     ]
    },
    {
     "name": "stdout",
     "output_type": "stream",
     "text": [
      "US0311621009-BGEM\n"
     ]
    },
    {
     "name": "stderr",
     "output_type": "stream",
     "text": [
      "  7%|███████▋                                                                                                         | 162/2396 [00:42<10:38,  3.50it/s]"
     ]
    },
    {
     "name": "stdout",
     "output_type": "stream",
     "text": [
      "BE0003243426-VPXB\n"
     ]
    },
    {
     "name": "stderr",
     "output_type": "stream",
     "text": [
      "  7%|███████▉                                                                                                         | 167/2396 [00:44<10:03,  3.69it/s]"
     ]
    },
    {
     "name": "stdout",
     "output_type": "stream",
     "text": [
      "US0378331005-BGEM\n"
     ]
    },
    {
     "name": "stderr",
     "output_type": "stream",
     "text": [
      "\r",
      "  7%|███████▉                                                                                                         | 168/2396 [00:44<09:53,  3.75it/s]"
     ]
    },
    {
     "name": "stdout",
     "output_type": "stream",
     "text": [
      "US0378331005-MTAH\n"
     ]
    },
    {
     "name": "stderr",
     "output_type": "stream",
     "text": [
      "  7%|████████▎                                                                                                        | 175/2396 [00:46<09:59,  3.70it/s]"
     ]
    },
    {
     "name": "stdout",
     "output_type": "stream",
     "text": [
      "LU0006047129-VPXB\n"
     ]
    },
    {
     "name": "stderr",
     "output_type": "stream",
     "text": [
      "\r",
      "  7%|████████▎                                                                                                        | 176/2396 [00:46<09:45,  3.79it/s]"
     ]
    },
    {
     "name": "stdout",
     "output_type": "stream",
     "text": [
      "LU0006067663-VPXB\n"
     ]
    },
    {
     "name": "stderr",
     "output_type": "stream",
     "text": [
      "  8%|█████████▏                                                                                                       | 194/2396 [00:51<10:33,  3.48it/s]"
     ]
    },
    {
     "name": "stdout",
     "output_type": "stream",
     "text": [
      "BE0945331669-VPXB\n"
     ]
    },
    {
     "name": "stderr",
     "output_type": "stream",
     "text": [
      "\r",
      "  8%|█████████▏                                                                                                       | 195/2396 [00:51<10:09,  3.61it/s]"
     ]
    },
    {
     "name": "stdout",
     "output_type": "stream",
     "text": [
      "BE0051300847-VPXB\n"
     ]
    },
    {
     "name": "stderr",
     "output_type": "stream",
     "text": [
      " 13%|███████████████▏                                                                                                 | 321/2396 [01:34<10:53,  3.18it/s]"
     ]
    },
    {
     "name": "stdout",
     "output_type": "stream",
     "text": [
      "BE0046318490-VPXB\n"
     ]
    },
    {
     "name": "stderr",
     "output_type": "stream",
     "text": [
      " 14%|███████████████▌                                                                                                 | 331/2396 [01:37<17:01,  2.02it/s]"
     ]
    },
    {
     "name": "stdout",
     "output_type": "stream",
     "text": [
      "US0865161014-MTAH\n"
     ]
    },
    {
     "name": "stderr",
     "output_type": "stream",
     "text": [
      "\r",
      " 14%|███████████████▋                                                                                                 | 332/2396 [01:38<14:44,  2.33it/s]"
     ]
    },
    {
     "name": "stdout",
     "output_type": "stream",
     "text": [
      "US0865161014-BGEM\n"
     ]
    },
    {
     "name": "stderr",
     "output_type": "stream",
     "text": [
      " 14%|███████████████▉                                                                                                 | 338/2396 [01:41<16:05,  2.13it/s]"
     ]
    },
    {
     "name": "stdout",
     "output_type": "stream",
     "text": [
      "LU0097891112-VPXB\n"
     ]
    },
    {
     "name": "stderr",
     "output_type": "stream",
     "text": [
      "\r",
      " 14%|███████████████▉                                                                                                 | 339/2396 [01:41<14:03,  2.44it/s]"
     ]
    },
    {
     "name": "stdout",
     "output_type": "stream",
     "text": [
      "BE0032095854-VPXB\n"
     ]
    },
    {
     "name": "stderr",
     "output_type": "stream",
     "text": [
      " 14%|████████████████▎                                                                                                | 346/2396 [01:43<12:31,  2.73it/s]"
     ]
    },
    {
     "name": "stdout",
     "output_type": "stream",
     "text": [
      "LU0006040975-VPXB\n"
     ]
    },
    {
     "name": "stderr",
     "output_type": "stream",
     "text": [
      " 15%|████████████████▉                                                                                                | 360/2396 [01:49<14:17,  2.37it/s]"
     ]
    },
    {
     "name": "stdout",
     "output_type": "stream",
     "text": [
      "LU0110790085-VPXB\n"
     ]
    },
    {
     "name": "stderr",
     "output_type": "stream",
     "text": [
      " 15%|█████████████████▍                                                                                               | 371/2396 [01:53<13:38,  2.48it/s]"
     ]
    },
    {
     "name": "stdout",
     "output_type": "stream",
     "text": [
      "BE0172505399-VPXB\n"
     ]
    },
    {
     "name": "stderr",
     "output_type": "stream",
     "text": [
      " 16%|█████████████████▋                                                                                               | 376/2396 [01:54<11:21,  2.97it/s]"
     ]
    },
    {
     "name": "stdout",
     "output_type": "stream",
     "text": [
      "BE0156880313-VPXB\n"
     ]
    },
    {
     "name": "stderr",
     "output_type": "stream",
     "text": [
      "\r",
      " 16%|█████████████████▊                                                                                               | 377/2396 [01:55<11:01,  3.05it/s]"
     ]
    },
    {
     "name": "stdout",
     "output_type": "stream",
     "text": [
      "BE0156881329-VPXB\n"
     ]
    },
    {
     "name": "stderr",
     "output_type": "stream",
     "text": [
      " 16%|██████████████████▎                                                                                              | 387/2396 [01:58<11:04,  3.02it/s]"
     ]
    },
    {
     "name": "stdout",
     "output_type": "stream",
     "text": [
      "BE0014799556-VPXB\n"
     ]
    },
    {
     "name": "stderr",
     "output_type": "stream",
     "text": [
      " 17%|███████████████████                                                                                              | 405/2396 [02:05<10:58,  3.03it/s]"
     ]
    },
    {
     "name": "stdout",
     "output_type": "stream",
     "text": [
      "BE6326475389-VPXB\n"
     ]
    },
    {
     "name": "stderr",
     "output_type": "stream",
     "text": [
      " 19%|█████████████████████▋                                                                                           | 460/2396 [02:21<09:39,  3.34it/s]"
     ]
    },
    {
     "name": "stdout",
     "output_type": "stream",
     "text": [
      "NL0012237614-VPXB\n"
     ]
    },
    {
     "name": "stderr",
     "output_type": "stream",
     "text": [
      " 20%|██████████████████████▍                                                                                          | 477/2396 [02:26<09:15,  3.46it/s]"
     ]
    },
    {
     "name": "stdout",
     "output_type": "stream",
     "text": [
      "BE0010381029-VPXB\n"
     ]
    },
    {
     "name": "stderr",
     "output_type": "stream",
     "text": [
      " 20%|██████████████████████▉                                                                                          | 487/2396 [02:29<09:21,  3.40it/s]"
     ]
    },
    {
     "name": "stdout",
     "output_type": "stream",
     "text": [
      "BE0003706208-VPXB\n"
     ]
    },
    {
     "name": "stderr",
     "output_type": "stream",
     "text": [
      " 21%|███████████████████████▏                                                                                         | 492/2396 [02:30<08:18,  3.82it/s]"
     ]
    },
    {
     "name": "stdout",
     "output_type": "stream",
     "text": [
      "BE0027840017-VPXB\n"
     ]
    },
    {
     "name": "stderr",
     "output_type": "stream",
     "text": [
      " 21%|███████████████████████▌                                                                                         | 500/2396 [02:33<12:15,  2.58it/s]"
     ]
    },
    {
     "name": "stdout",
     "output_type": "stream",
     "text": [
      "BE0021556221-VPXB\n"
     ]
    },
    {
     "name": "stderr",
     "output_type": "stream",
     "text": [
      " 22%|████████████████████████▊                                                                                        | 526/2396 [02:40<09:48,  3.18it/s]"
     ]
    },
    {
     "name": "stdout",
     "output_type": "stream",
     "text": [
      "US19260Q1076-BGEM\n"
     ]
    },
    {
     "name": "stderr",
     "output_type": "stream",
     "text": [
      "\r",
      " 22%|████████████████████████▊                                                                                        | 527/2396 [02:40<09:14,  3.37it/s]"
     ]
    },
    {
     "name": "stdout",
     "output_type": "stream",
     "text": [
      "US19260Q1076-MTAH\n"
     ]
    },
    {
     "name": "stderr",
     "output_type": "stream",
     "text": [
      " 22%|█████████████████████████▏                                                                                       | 533/2396 [02:42<08:51,  3.50it/s]"
     ]
    },
    {
     "name": "stdout",
     "output_type": "stream",
     "text": [
      "BE0013068706-VPXB\n"
     ]
    },
    {
     "name": "stderr",
     "output_type": "stream",
     "text": [
      "\r",
      " 22%|█████████████████████████▏                                                                                       | 534/2396 [02:43<10:56,  2.84it/s]"
     ]
    },
    {
     "name": "stdout",
     "output_type": "stream",
     "text": [
      "DE000CBK1001-BGEM\n"
     ]
    },
    {
     "name": "stderr",
     "output_type": "stream",
     "text": [
      " 23%|█████████████████████████▋                                                                                       | 544/2396 [02:46<09:13,  3.35it/s]"
     ]
    },
    {
     "name": "stdout",
     "output_type": "stream",
     "text": [
      "NL0000121622-VPXB\n"
     ]
    },
    {
     "name": "stderr",
     "output_type": "stream",
     "text": [
      " 23%|██████████████████████████▎                                                                                      | 559/2396 [02:50<08:00,  3.83it/s]"
     ]
    },
    {
     "name": "stdout",
     "output_type": "stream",
     "text": [
      "BE0099150162-VPXB\n"
     ]
    },
    {
     "name": "stderr",
     "output_type": "stream",
     "text": [
      "\r",
      " 23%|██████████████████████████▍                                                                                      | 560/2396 [02:50<07:56,  3.85it/s]"
     ]
    },
    {
     "name": "stdout",
     "output_type": "stream",
     "text": [
      "BE0099395676-VPXB\n"
     ]
    },
    {
     "name": "stderr",
     "output_type": "stream",
     "text": [
      " 24%|███████████████████████████▏                                                                                     | 576/2396 [02:55<08:10,  3.71it/s]"
     ]
    },
    {
     "name": "stdout",
     "output_type": "stream",
     "text": [
      "BE0015460372-VPXB\n"
     ]
    },
    {
     "name": "stderr",
     "output_type": "stream",
     "text": [
      "\r",
      " 24%|███████████████████████████▏                                                                                     | 577/2396 [02:55<08:03,  3.76it/s]"
     ]
    },
    {
     "name": "stdout",
     "output_type": "stream",
     "text": [
      "BE0162868054-VPXB\n"
     ]
    },
    {
     "name": "stderr",
     "output_type": "stream",
     "text": [
      " 25%|███████████████████████████▋                                                                                     | 588/2396 [02:58<08:04,  3.73it/s]"
     ]
    },
    {
     "name": "stdout",
     "output_type": "stream",
     "text": [
      "BE0010566900-VPXB\n"
     ]
    },
    {
     "name": "stderr",
     "output_type": "stream",
     "text": [
      " 27%|██████████████████████████████▏                                                                                  | 639/2396 [03:14<08:25,  3.47it/s]"
     ]
    },
    {
     "name": "stdout",
     "output_type": "stream",
     "text": [
      "DE0005140008-MTAH\n"
     ]
    },
    {
     "name": "stderr",
     "output_type": "stream",
     "text": [
      "\r",
      " 27%|██████████████████████████████▏                                                                                  | 640/2396 [03:14<08:32,  3.43it/s]"
     ]
    },
    {
     "name": "stdout",
     "output_type": "stream",
     "text": [
      "DE0005140008-BGEM\n"
     ]
    },
    {
     "name": "stderr",
     "output_type": "stream",
     "text": [
      " 27%|██████████████████████████████▉                                                                                  | 656/2396 [03:19<08:17,  3.50it/s]"
     ]
    },
    {
     "name": "stdout",
     "output_type": "stream",
     "text": [
      "BE0036367895-VPXB\n"
     ]
    },
    {
     "name": "stderr",
     "output_type": "stream",
     "text": [
      "\r",
      " 27%|██████████████████████████████▉                                                                                  | 657/2396 [03:19<08:09,  3.55it/s]"
     ]
    },
    {
     "name": "stdout",
     "output_type": "stream",
     "text": [
      "BE0026342551-VPXB\n"
     ]
    },
    {
     "name": "stderr",
     "output_type": "stream",
     "text": [
      " 29%|████████████████████████████████▊                                                                                | 695/2396 [03:31<08:17,  3.42it/s]"
     ]
    },
    {
     "name": "stdout",
     "output_type": "stream",
     "text": [
      "BE0003783975-VPXB\n"
     ]
    },
    {
     "name": "stderr",
     "output_type": "stream",
     "text": [
      " 31%|██████████████████████████████████▉                                                                              | 742/2396 [03:48<08:33,  3.22it/s]"
     ]
    },
    {
     "name": "stdout",
     "output_type": "stream",
     "text": [
      "BE0024644065-VPXB\n"
     ]
    },
    {
     "name": "stderr",
     "output_type": "stream",
     "text": [
      " 33%|████████████████████████████████████▉                                                                            | 782/2396 [04:04<08:46,  3.07it/s]"
     ]
    },
    {
     "name": "stdout",
     "output_type": "stream",
     "text": [
      "CG000A0BKQF7-VPXB\n"
     ]
    },
    {
     "name": "stderr",
     "output_type": "stream",
     "text": [
      " 33%|█████████████████████████████████████▋                                                                           | 798/2396 [04:09<07:24,  3.60it/s]"
     ]
    },
    {
     "name": "stdout",
     "output_type": "stream",
     "text": [
      "BE0941244536-VPXB\n"
     ]
    },
    {
     "name": "stderr",
     "output_type": "stream",
     "text": [
      " 33%|█████████████████████████████████████▋                                                                           | 800/2396 [04:10<07:20,  3.62it/s]"
     ]
    },
    {
     "name": "stdout",
     "output_type": "stream",
     "text": [
      "BE0049483135-VPXB\n"
     ]
    },
    {
     "name": "stderr",
     "output_type": "stream",
     "text": [
      " 36%|████████████████████████████████████████▋                                                                        | 864/2396 [04:29<06:47,  3.76it/s]"
     ]
    },
    {
     "name": "stdout",
     "output_type": "stream",
     "text": [
      "BE0011238830-VPXB\n"
     ]
    },
    {
     "name": "stderr",
     "output_type": "stream",
     "text": [
      " 36%|█████████████████████████████████████████▏                                                                       | 872/2396 [04:31<07:14,  3.50it/s]"
     ]
    },
    {
     "name": "stdout",
     "output_type": "stream",
     "text": [
      "BE0945246784-VPXB\n"
     ]
    },
    {
     "name": "stderr",
     "output_type": "stream",
     "text": [
      " 37%|█████████████████████████████████████████▍                                                                       | 878/2396 [04:33<07:58,  3.17it/s]"
     ]
    },
    {
     "name": "stdout",
     "output_type": "stream",
     "text": [
      "BE0012544319-VPXB\n"
     ]
    },
    {
     "name": "stderr",
     "output_type": "stream",
     "text": [
      " 38%|███████████████████████████████████████████▍                                                                     | 920/2396 [04:45<07:00,  3.51it/s]"
     ]
    },
    {
     "name": "stdout",
     "output_type": "stream",
     "text": [
      "NSCEX0000018-VPXB\n"
     ]
    },
    {
     "name": "stderr",
     "output_type": "stream",
     "text": [
      " 39%|███████████████████████████████████████████▉                                                                     | 932/2396 [04:50<09:38,  2.53it/s]"
     ]
    },
    {
     "name": "stdout",
     "output_type": "stream",
     "text": [
      "BE6326486493-VPXB\n"
     ]
    },
    {
     "name": "stderr",
     "output_type": "stream",
     "text": [
      " 40%|█████████████████████████████████████████████▏                                                                   | 959/2396 [05:03<07:01,  3.41it/s]"
     ]
    },
    {
     "name": "stdout",
     "output_type": "stream",
     "text": [
      "BE6303070104-VPXB\n"
     ]
    },
    {
     "name": "stderr",
     "output_type": "stream",
     "text": [
      " 41%|██████████████████████████████████████████████▎                                                                  | 983/2396 [05:10<06:48,  3.45it/s]"
     ]
    },
    {
     "name": "stdout",
     "output_type": "stream",
     "text": [
      "US3755581036-BGEM\n"
     ]
    },
    {
     "name": "stderr",
     "output_type": "stream",
     "text": [
      "\r",
      " 41%|██████████████████████████████████████████████▍                                                                  | 984/2396 [05:11<12:29,  1.88it/s]"
     ]
    },
    {
     "name": "stdout",
     "output_type": "stream",
     "text": [
      "US3755581036-MTAH\n"
     ]
    },
    {
     "name": "stderr",
     "output_type": "stream",
     "text": [
      " 42%|██████████████████████████████████████████████▊                                                                 | 1002/2396 [05:16<06:08,  3.79it/s]"
     ]
    },
    {
     "name": "stdout",
     "output_type": "stream",
     "text": [
      "BE0011395465-VPXB\n"
     ]
    },
    {
     "name": "stderr",
     "output_type": "stream",
     "text": [
      " 43%|███████████████████████████████████████████████▋                                                                | 1019/2396 [05:21<07:27,  3.08it/s]"
     ]
    },
    {
     "name": "stdout",
     "output_type": "stream",
     "text": [
      "NO0010636491-MERK\n"
     ]
    },
    {
     "name": "stderr",
     "output_type": "stream",
     "text": [
      "\r",
      " 43%|███████████████████████████████████████████████▋                                                                | 1020/2396 [05:22<07:07,  3.22it/s]"
     ]
    },
    {
     "name": "stdout",
     "output_type": "stream",
     "text": [
      "BE0057677594-VPXB\n"
     ]
    },
    {
     "name": "stderr",
     "output_type": "stream",
     "text": [
      " 43%|███████████████████████████████████████████████▉                                                                | 1026/2396 [05:24<07:09,  3.19it/s]"
     ]
    },
    {
     "name": "stdout",
     "output_type": "stream",
     "text": [
      "BE0011606630-VPXB\n"
     ]
    },
    {
     "name": "stderr",
     "output_type": "stream",
     "text": [
      " 47%|████████████████████████████████████████████████████▏                                                           | 1117/2396 [05:55<05:28,  3.89it/s]"
     ]
    },
    {
     "name": "stdout",
     "output_type": "stream",
     "text": [
      "ES0144580Y14-BGEM\n"
     ]
    },
    {
     "name": "stderr",
     "output_type": "stream",
     "text": [
      "\r",
      " 47%|████████████████████████████████████████████████████▎                                                           | 1118/2396 [05:55<05:37,  3.78it/s]"
     ]
    },
    {
     "name": "stdout",
     "output_type": "stream",
     "text": [
      "ES0144580Y14-MTAH\n"
     ]
    },
    {
     "name": "stderr",
     "output_type": "stream",
     "text": [
      " 48%|█████████████████████████████████████████████████████▍                                                          | 1144/2396 [06:02<05:30,  3.79it/s]"
     ]
    },
    {
     "name": "stdout",
     "output_type": "stream",
     "text": [
      "BE6264882406-VPXB\n"
     ]
    },
    {
     "name": "stderr",
     "output_type": "stream",
     "text": [
      " 48%|█████████████████████████████████████████████████████▋                                                          | 1148/2396 [06:04<05:51,  3.56it/s]"
     ]
    },
    {
     "name": "stdout",
     "output_type": "stream",
     "text": [
      "BE0020932779-VPXB\n"
     ]
    },
    {
     "name": "stderr",
     "output_type": "stream",
     "text": [
      " 49%|██████████████████████████████████████████████████████▋                                                         | 1169/2396 [06:10<05:44,  3.56it/s]"
     ]
    },
    {
     "name": "stdout",
     "output_type": "stream",
     "text": [
      "ES0148396007-BGEM\n"
     ]
    },
    {
     "name": "stderr",
     "output_type": "stream",
     "text": [
      "\r",
      " 49%|██████████████████████████████████████████████████████▋                                                         | 1170/2396 [06:10<05:43,  3.57it/s]"
     ]
    },
    {
     "name": "stdout",
     "output_type": "stream",
     "text": [
      "ES0148396007-MTAH\n"
     ]
    },
    {
     "name": "stderr",
     "output_type": "stream",
     "text": [
      " 49%|███████████████████████████████████████████████████████                                                         | 1177/2396 [06:12<05:35,  3.64it/s]"
     ]
    },
    {
     "name": "stdout",
     "output_type": "stream",
     "text": [
      "BE6265912038-VPXB\n"
     ]
    },
    {
     "name": "stderr",
     "output_type": "stream",
     "text": [
      " 52%|██████████████████████████████████████████████████████████▋                                                     | 1256/2396 [06:39<06:40,  2.85it/s]"
     ]
    },
    {
     "name": "stdout",
     "output_type": "stream",
     "text": [
      "BE0049482129-VPXB\n"
     ]
    },
    {
     "name": "stderr",
     "output_type": "stream",
     "text": [
      " 53%|██████████████████████████████████████████████████████████▉                                                     | 1262/2396 [06:41<06:36,  2.86it/s]"
     ]
    },
    {
     "name": "stdout",
     "output_type": "stream",
     "text": [
      "LU0092281103-VPXB\n"
     ]
    },
    {
     "name": "stderr",
     "output_type": "stream",
     "text": [
      "\r",
      " 53%|███████████████████████████████████████████████████████████                                                     | 1263/2396 [06:41<06:56,  2.72it/s]"
     ]
    },
    {
     "name": "stdout",
     "output_type": "stream",
     "text": [
      "LU0092281442-VPXB\n"
     ]
    },
    {
     "name": "stderr",
     "output_type": "stream",
     "text": [
      " 54%|███████████████████████████████████████████████████████████▉                                                    | 1282/2396 [06:48<06:11,  3.00it/s]"
     ]
    },
    {
     "name": "stdout",
     "output_type": "stream",
     "text": [
      "NL0000009645-VPXB\n"
     ]
    },
    {
     "name": "stderr",
     "output_type": "stream",
     "text": [
      " 55%|█████████████████████████████████████████████████████████████▋                                                  | 1320/2396 [07:02<07:59,  2.24it/s]"
     ]
    },
    {
     "name": "stdout",
     "output_type": "stream",
     "text": [
      "US52736R1023-MTAH\n"
     ]
    },
    {
     "name": "stderr",
     "output_type": "stream",
     "text": [
      "\r",
      " 55%|█████████████████████████████████████████████████████████████▋                                                  | 1321/2396 [07:02<06:53,  2.60it/s]"
     ]
    },
    {
     "name": "stdout",
     "output_type": "stream",
     "text": [
      "US52736R1023-BGEM\n"
     ]
    },
    {
     "name": "stderr",
     "output_type": "stream",
     "text": [
      " 56%|███████████████████████████████████████████████████████████████                                                 | 1350/2396 [07:12<05:27,  3.19it/s]"
     ]
    },
    {
     "name": "stdout",
     "output_type": "stream",
     "text": [
      "US55087P1049-MTAH\n"
     ]
    },
    {
     "name": "stderr",
     "output_type": "stream",
     "text": [
      "\r",
      " 56%|███████████████████████████████████████████████████████████████▏                                                | 1351/2396 [07:12<05:03,  3.44it/s]"
     ]
    },
    {
     "name": "stdout",
     "output_type": "stream",
     "text": [
      "US55087P1049-BGEM\n"
     ]
    },
    {
     "name": "stderr",
     "output_type": "stream",
     "text": [
      " 58%|████████████████████████████████████████████████████████████████▋                                               | 1385/2396 [07:23<05:44,  2.94it/s]"
     ]
    },
    {
     "name": "stdout",
     "output_type": "stream",
     "text": [
      "BE0011844108-VPXB\n"
     ]
    },
    {
     "name": "stderr",
     "output_type": "stream",
     "text": [
      " 58%|████████████████████████████████████████████████████████████████▉                                               | 1390/2396 [07:24<04:38,  3.61it/s]"
     ]
    },
    {
     "name": "stdout",
     "output_type": "stream",
     "text": [
      "BE0010342609-VPXB\n"
     ]
    },
    {
     "name": "stderr",
     "output_type": "stream",
     "text": [
      " 58%|█████████████████████████████████████████████████████████████████▏                                              | 1394/2396 [07:25<04:41,  3.56it/s]"
     ]
    },
    {
     "name": "stdout",
     "output_type": "stream",
     "text": [
      "BE0101614551-VPXB\n"
     ]
    },
    {
     "name": "stderr",
     "output_type": "stream",
     "text": [
      " 59%|██████████████████████████████████████████████████████████████████▎                                             | 1419/2396 [07:33<04:39,  3.50it/s]"
     ]
    },
    {
     "name": "stdout",
     "output_type": "stream",
     "text": [
      "BE0003222214-VPXB\n"
     ]
    },
    {
     "name": "stderr",
     "output_type": "stream",
     "text": [
      " 59%|██████████████████████████████████████████████████████████████████▍                                             | 1421/2396 [07:34<04:40,  3.47it/s]"
     ]
    },
    {
     "name": "stdout",
     "output_type": "stream",
     "text": [
      "US30303M1027-MTAH\n"
     ]
    },
    {
     "name": "stderr",
     "output_type": "stream",
     "text": [
      "\r",
      " 59%|██████████████████████████████████████████████████████████████████▍                                             | 1422/2396 [07:34<04:34,  3.55it/s]"
     ]
    },
    {
     "name": "stdout",
     "output_type": "stream",
     "text": [
      "US30303M1027-BGEM\n"
     ]
    },
    {
     "name": "stderr",
     "output_type": "stream",
     "text": [
      " 59%|██████████████████████████████████████████████████████████████████▌                                             | 1424/2396 [07:35<04:27,  3.63it/s]"
     ]
    },
    {
     "name": "stdout",
     "output_type": "stream",
     "text": [
      "BE0038785821-VPXB\n"
     ]
    },
    {
     "name": "stderr",
     "output_type": "stream",
     "text": [
      " 60%|███████████████████████████████████████████████████████████████████▏                                            | 1438/2396 [07:39<05:11,  3.07it/s]"
     ]
    },
    {
     "name": "stdout",
     "output_type": "stream",
     "text": [
      "US5951121038-MTAH\n"
     ]
    },
    {
     "name": "stderr",
     "output_type": "stream",
     "text": [
      "\r",
      " 60%|███████████████████████████████████████████████████████████████████▎                                            | 1439/2396 [07:39<04:43,  3.38it/s]"
     ]
    },
    {
     "name": "stdout",
     "output_type": "stream",
     "text": [
      "US5951121038-BGEM\n"
     ]
    },
    {
     "name": "stderr",
     "output_type": "stream",
     "text": [
      " 60%|███████████████████████████████████████████████████████████████████▍                                            | 1444/2396 [07:41<05:42,  2.78it/s]"
     ]
    },
    {
     "name": "stdout",
     "output_type": "stream",
     "text": [
      "BE0010610377-VPXB\n"
     ]
    },
    {
     "name": "stderr",
     "output_type": "stream",
     "text": [
      " 61%|████████████████████████████████████████████████████████████████████                                            | 1457/2396 [07:45<04:54,  3.19it/s]"
     ]
    },
    {
     "name": "stdout",
     "output_type": "stream",
     "text": [
      "US60770K1079-MTAH\n"
     ]
    },
    {
     "name": "stderr",
     "output_type": "stream",
     "text": [
      "\r",
      " 61%|████████████████████████████████████████████████████████████████████▏                                           | 1458/2396 [07:45<04:43,  3.31it/s]"
     ]
    },
    {
     "name": "stdout",
     "output_type": "stream",
     "text": [
      "US60770K1079-BGEM\n"
     ]
    },
    {
     "name": "stderr",
     "output_type": "stream",
     "text": [
      " 63%|██████████████████████████████████████████████████████████████████████▋                                         | 1511/2396 [08:01<03:57,  3.72it/s]"
     ]
    },
    {
     "name": "stdout",
     "output_type": "stream",
     "text": [
      "US64110L1061-MTAH\n"
     ]
    },
    {
     "name": "stderr",
     "output_type": "stream",
     "text": [
      "\r",
      " 63%|██████████████████████████████████████████████████████████████████████▋                                         | 1512/2396 [08:02<04:30,  3.27it/s]"
     ]
    },
    {
     "name": "stdout",
     "output_type": "stream",
     "text": [
      "US64110L1061-BGEM\n"
     ]
    },
    {
     "name": "stderr",
     "output_type": "stream",
     "text": [
      " 64%|███████████████████████████████████████████████████████████████████████▋                                        | 1533/2396 [08:07<04:03,  3.55it/s]"
     ]
    },
    {
     "name": "stdout",
     "output_type": "stream",
     "text": [
      "BE0035966762-VPXB\n"
     ]
    },
    {
     "name": "stderr",
     "output_type": "stream",
     "text": [
      " 64%|███████████████████████████████████████████████████████████████████████▊                                        | 1535/2396 [08:08<03:59,  3.59it/s]"
     ]
    },
    {
     "name": "stdout",
     "output_type": "stream",
     "text": [
      "BE0034574427-VPXB\n"
     ]
    },
    {
     "name": "stderr",
     "output_type": "stream",
     "text": [
      " 66%|█████████████████████████████████████████████████████████████████████████▍                                      | 1572/2396 [08:19<04:18,  3.19it/s]"
     ]
    },
    {
     "name": "stdout",
     "output_type": "stream",
     "text": [
      "US67066G1040-BGEM\n"
     ]
    },
    {
     "name": "stderr",
     "output_type": "stream",
     "text": [
      "\r",
      " 66%|█████████████████████████████████████████████████████████████████████████▌                                      | 1573/2396 [08:19<04:16,  3.21it/s]"
     ]
    },
    {
     "name": "stdout",
     "output_type": "stream",
     "text": [
      "US67066G1040-MTAH\n"
     ]
    },
    {
     "name": "stderr",
     "output_type": "stream",
     "text": [
      " 67%|██████████████████████████████████████████████████████████████████████████▋                                     | 1599/2396 [08:26<03:44,  3.55it/s]"
     ]
    },
    {
     "name": "stdout",
     "output_type": "stream",
     "text": [
      "BE0034169251-VPXB\n"
     ]
    },
    {
     "name": "stderr",
     "output_type": "stream",
     "text": [
      " 67%|███████████████████████████████████████████████████████████████████████████▎                                    | 1610/2396 [08:30<03:54,  3.36it/s]"
     ]
    },
    {
     "name": "stdout",
     "output_type": "stream",
     "text": [
      "BE0942448938-VPXB\n"
     ]
    },
    {
     "name": "stderr",
     "output_type": "stream",
     "text": [
      " 68%|████████████████████████████████████████████████████████████████████████████▌                                   | 1639/2396 [08:39<03:36,  3.49it/s]"
     ]
    },
    {
     "name": "stdout",
     "output_type": "stream",
     "text": [
      "BE0157892739-VPXB\n"
     ]
    },
    {
     "name": "stderr",
     "output_type": "stream",
     "text": [
      " 69%|█████████████████████████████████████████████████████████████████████████████▎                                  | 1653/2396 [08:43<03:28,  3.56it/s]"
     ]
    },
    {
     "name": "stdout",
     "output_type": "stream",
     "text": [
      "BE0003640514-VPXB\n"
     ]
    },
    {
     "name": "stderr",
     "output_type": "stream",
     "text": [
      " 69%|█████████████████████████████████████████████████████████████████████████████▍                                  | 1657/2396 [08:44<03:24,  3.62it/s]"
     ]
    },
    {
     "name": "stdout",
     "output_type": "stream",
     "text": [
      "BE0126745638-VPXB\n"
     ]
    },
    {
     "name": "stderr",
     "output_type": "stream",
     "text": [
      " 70%|██████████████████████████████████████████████████████████████████████████████▋                                 | 1683/2396 [08:52<04:10,  2.84it/s]"
     ]
    },
    {
     "name": "stdout",
     "output_type": "stream",
     "text": [
      "BE6321065607-VPXB\n"
     ]
    },
    {
     "name": "stderr",
     "output_type": "stream",
     "text": [
      " 76%|████████████████████████████████████████████████████████████████████████████████████▉                           | 1817/2396 [09:30<02:18,  4.17it/s]"
     ]
    },
    {
     "name": "stdout",
     "output_type": "stream",
     "text": [
      "US7707001027-MTAH\n",
      "US7707001027-BGEM\n"
     ]
    },
    {
     "name": "stderr",
     "output_type": "stream",
     "text": [
      " 76%|█████████████████████████████████████████████████████████████████████████████████████▏                          | 1823/2396 [09:31<01:59,  4.78it/s]"
     ]
    },
    {
     "name": "stdout",
     "output_type": "stream",
     "text": [
      "NL0000288652-VPXB\n",
      "NO0010808405-MERK\n"
     ]
    },
    {
     "name": "stderr",
     "output_type": "stream",
     "text": [
      " 76%|█████████████████████████████████████████████████████████████████████████████████████▍                          | 1829/2396 [09:33<02:19,  4.07it/s]"
     ]
    },
    {
     "name": "stdout",
     "output_type": "stream",
     "text": [
      "BE0003660710-VPXB\n"
     ]
    },
    {
     "name": "stderr",
     "output_type": "stream",
     "text": [
      " 79%|████████████████████████████████████████████████████████████████████████████████████████▎                       | 1890/2396 [09:47<01:50,  4.56it/s]"
     ]
    },
    {
     "name": "stdout",
     "output_type": "stream",
     "text": [
      "BE0059682279-VPXB\n"
     ]
    },
    {
     "name": "stderr",
     "output_type": "stream",
     "text": [
      "\r",
      " 79%|████████████████████████████████████████████████████████████████████████████████████████▍                       | 1891/2396 [09:47<01:55,  4.36it/s]"
     ]
    },
    {
     "name": "stdout",
     "output_type": "stream",
     "text": [
      "BE0023885230-VPXB\n"
     ]
    },
    {
     "name": "stderr",
     "output_type": "stream",
     "text": [
      " 79%|████████████████████████████████████████████████████████████████████████████████████████▌                       | 1895/2396 [09:48<01:52,  4.45it/s]"
     ]
    },
    {
     "name": "stdout",
     "output_type": "stream",
     "text": [
      "BE0944264663-VPXB\n"
     ]
    },
    {
     "name": "stderr",
     "output_type": "stream",
     "text": [
      " 81%|██████████████████████████████████████████████████████████████████████████████████████████▎                     | 1933/2396 [09:57<01:38,  4.69it/s]"
     ]
    },
    {
     "name": "stdout",
     "output_type": "stream",
     "text": [
      "DE000ENER6Y0-MTAH\n",
      "DE000ENER6Y0-BGEM\n"
     ]
    },
    {
     "name": "stderr",
     "output_type": "stream",
     "text": [
      " 81%|██████████████████████████████████████████████████████████████████████████████████████████▋                     | 1941/2396 [09:59<02:05,  3.63it/s]"
     ]
    },
    {
     "name": "stdout",
     "output_type": "stream",
     "text": [
      "BE0016250517-VPXB\n"
     ]
    },
    {
     "name": "stderr",
     "output_type": "stream",
     "text": [
      " 81%|██████████████████████████████████████████████████████████████████████████████████████████▊                     | 1943/2396 [09:59<01:49,  4.13it/s]"
     ]
    },
    {
     "name": "stdout",
     "output_type": "stream",
     "text": [
      "US82935V2088-MTAH\n",
      "US82935V2088-BGEM\n"
     ]
    },
    {
     "name": "stderr",
     "output_type": "stream",
     "text": [
      " 82%|███████████████████████████████████████████████████████████████████████████████████████████▋                    | 1962/2396 [10:04<01:47,  4.04it/s]"
     ]
    },
    {
     "name": "stdout",
     "output_type": "stream",
     "text": [
      "BE0010621481-VPXB\n"
     ]
    },
    {
     "name": "stderr",
     "output_type": "stream",
     "text": [
      "\r",
      " 82%|███████████████████████████████████████████████████████████████████████████████████████████▊                    | 1963/2396 [10:04<01:43,  4.20it/s]"
     ]
    },
    {
     "name": "stdout",
     "output_type": "stream",
     "text": [
      "US8334451098-BGEM\n"
     ]
    },
    {
     "name": "stderr",
     "output_type": "stream",
     "text": [
      "\r",
      " 82%|███████████████████████████████████████████████████████████████████████████████████████████▊                    | 1964/2396 [10:04<01:40,  4.30it/s]"
     ]
    },
    {
     "name": "stdout",
     "output_type": "stream",
     "text": [
      "US8334451098-MTAH\n"
     ]
    },
    {
     "name": "stderr",
     "output_type": "stream",
     "text": [
      " 82%|████████████████████████████████████████████████████████████████████████████████████████████▏                   | 1971/2396 [10:06<01:45,  4.02it/s]"
     ]
    },
    {
     "name": "stdout",
     "output_type": "stream",
     "text": [
      "QX0000022625-VPXB\n"
     ]
    },
    {
     "name": "stderr",
     "output_type": "stream",
     "text": [
      " 85%|██████████████████████████████████████████████████████████████████████████████████████████████▋                 | 2025/2396 [10:19<01:30,  4.12it/s]"
     ]
    },
    {
     "name": "stdout",
     "output_type": "stream",
     "text": [
      "BE0003279784-VPXB\n"
     ]
    },
    {
     "name": "stderr",
     "output_type": "stream",
     "text": [
      "\r",
      " 85%|██████████████████████████████████████████████████████████████████████████████████████████████▋                 | 2026/2396 [10:19<01:27,  4.25it/s]"
     ]
    },
    {
     "name": "stdout",
     "output_type": "stream",
     "text": [
      "BE0014199377-VPXB\n"
     ]
    },
    {
     "name": "stderr",
     "output_type": "stream",
     "text": [
      " 85%|██████████████████████████████████████████████████████████████████████████████████████████████▉                 | 2030/2396 [10:20<01:22,  4.43it/s]"
     ]
    },
    {
     "name": "stdout",
     "output_type": "stream",
     "text": [
      "US8552441094-BGEM\n"
     ]
    },
    {
     "name": "stderr",
     "output_type": "stream",
     "text": [
      " 85%|██████████████████████████████████████████████████████████████████████████████████████████████▉                 | 2032/2396 [10:21<01:21,  4.45it/s]"
     ]
    },
    {
     "name": "stdout",
     "output_type": "stream",
     "text": [
      "US8552441094-MTAH\n"
     ]
    },
    {
     "name": "stderr",
     "output_type": "stream",
     "text": [
      " 86%|███████████████████████████████████████████████████████████████████████████████████████████████▊                | 2050/2396 [10:25<01:09,  4.96it/s]"
     ]
    },
    {
     "name": "stdout",
     "output_type": "stream",
     "text": [
      "NO0010672900-MERK\n",
      "BE0003527356-VPXB\n"
     ]
    },
    {
     "name": "stderr",
     "output_type": "stream",
     "text": [
      " 86%|████████████████████████████████████████████████████████████████████████████████████████████████                | 2054/2396 [10:26<01:13,  4.64it/s]"
     ]
    },
    {
     "name": "stdout",
     "output_type": "stream",
     "text": [
      "BE6321066613-VPXB\n"
     ]
    },
    {
     "name": "stderr",
     "output_type": "stream",
     "text": [
      " 87%|█████████████████████████████████████████████████████████████████████████████████████████████████▋              | 2091/2396 [10:36<01:36,  3.15it/s]"
     ]
    },
    {
     "name": "stdout",
     "output_type": "stream",
     "text": [
      "US88160R1014-MTAH\n"
     ]
    },
    {
     "name": "stderr",
     "output_type": "stream",
     "text": [
      "\r",
      " 87%|█████████████████████████████████████████████████████████████████████████████████████████████████▊              | 2092/2396 [10:36<01:28,  3.43it/s]"
     ]
    },
    {
     "name": "stdout",
     "output_type": "stream",
     "text": [
      "US88160R1014-BGEM\n"
     ]
    },
    {
     "name": "stderr",
     "output_type": "stream",
     "text": [
      " 88%|██████████████████████████████████████████████████████████████████████████████████████████████████              | 2098/2396 [10:38<01:26,  3.45it/s]"
     ]
    },
    {
     "name": "stdout",
     "output_type": "stream",
     "text": [
      "BE0003886067-VPXB\n"
     ]
    },
    {
     "name": "stderr",
     "output_type": "stream",
     "text": [
      " 89%|███████████████████████████████████████████████████████████████████████████████████████████████████▎            | 2124/2396 [10:46<01:18,  3.45it/s]"
     ]
    },
    {
     "name": "stdout",
     "output_type": "stream",
     "text": [
      "BE0036061746-VPXB\n"
     ]
    },
    {
     "name": "stderr",
     "output_type": "stream",
     "text": [
      " 89%|████████████████████████████████████████████████████████████████████████████████████████████████████▏           | 2142/2396 [10:51<01:14,  3.42it/s]"
     ]
    },
    {
     "name": "stdout",
     "output_type": "stream",
     "text": [
      "BE0024981525-VPXB\n"
     ]
    },
    {
     "name": "stderr",
     "output_type": "stream",
     "text": [
      " 90%|████████████████████████████████████████████████████████████████████████████████████████████████████▋           | 2155/2396 [10:55<01:04,  3.75it/s]"
     ]
    },
    {
     "name": "stdout",
     "output_type": "stream",
     "text": [
      "US8969452015-BGEM\n"
     ]
    },
    {
     "name": "stderr",
     "output_type": "stream",
     "text": [
      "\r",
      " 90%|████████████████████████████████████████████████████████████████████████████████████████████████████▊           | 2156/2396 [10:55<01:02,  3.83it/s]"
     ]
    },
    {
     "name": "stdout",
     "output_type": "stream",
     "text": [
      "US8969452015-MTAH\n"
     ]
    },
    {
     "name": "stderr",
     "output_type": "stream",
     "text": [
      " 90%|█████████████████████████████████████████████████████████████████████████████████████████████████████▏          | 2164/2396 [10:57<01:02,  3.68it/s]"
     ]
    },
    {
     "name": "stdout",
     "output_type": "stream",
     "text": [
      "NO0010731615-MERK\n"
     ]
    },
    {
     "name": "stderr",
     "output_type": "stream",
     "text": [
      " 92%|██████████████████████████████████████████████████████████████████████████████████████████████████████▌         | 2193/2396 [11:06<00:54,  3.69it/s]"
     ]
    },
    {
     "name": "stdout",
     "output_type": "stream",
     "text": [
      "BE0017609521-VPXB\n"
     ]
    },
    {
     "name": "stderr",
     "output_type": "stream",
     "text": [
      " 92%|███████████████████████████████████████████████████████████████████████████████████████████████████████▎        | 2211/2396 [11:11<00:56,  3.25it/s]"
     ]
    },
    {
     "name": "stdout",
     "output_type": "stream",
     "text": [
      "BE0944866863-VPXB\n"
     ]
    },
    {
     "name": "stderr",
     "output_type": "stream",
     "text": [
      " 93%|███████████████████████████████████████████████████████████████████████████████████████████████████████▋        | 2219/2396 [11:13<00:52,  3.37it/s]"
     ]
    },
    {
     "name": "stdout",
     "output_type": "stream",
     "text": [
      "BE0022780820-VPXB\n"
     ]
    },
    {
     "name": "stderr",
     "output_type": "stream",
     "text": [
      " 94%|████████████████████████████████████████████████████████████████████████████████████████████████████████▊       | 2242/2396 [11:21<00:46,  3.29it/s]"
     ]
    },
    {
     "name": "stdout",
     "output_type": "stream",
     "text": [
      "US92766K1060-BGEM\n"
     ]
    },
    {
     "name": "stderr",
     "output_type": "stream",
     "text": [
      "\r",
      " 94%|████████████████████████████████████████████████████████████████████████████████████████████████████████▊       | 2243/2396 [11:21<00:45,  3.34it/s]"
     ]
    },
    {
     "name": "stdout",
     "output_type": "stream",
     "text": [
      "US92766K1060-MTAH\n"
     ]
    },
    {
     "name": "stderr",
     "output_type": "stream",
     "text": [
      " 94%|█████████████████████████████████████████████████████████████████████████████████████████████████████████▌      | 2257/2396 [11:26<00:39,  3.49it/s]"
     ]
    },
    {
     "name": "stdout",
     "output_type": "stream",
     "text": [
      "BE0947790037-VPXB\n"
     ]
    },
    {
     "name": "stderr",
     "output_type": "stream",
     "text": [
      " 95%|█████████████████████████████████████████████████████████████████████████████████████████████████████████▉      | 2265/2396 [11:28<00:36,  3.55it/s]"
     ]
    },
    {
     "name": "stdout",
     "output_type": "stream",
     "text": [
      "BE0020918638-VPXB\n"
     ]
    },
    {
     "name": "stderr",
     "output_type": "stream",
     "text": [
      " 99%|██████████████████████████████████████████████████████████████████████████████████████████████████████████████▍ | 2363/2396 [11:56<00:09,  3.51it/s]"
     ]
    },
    {
     "name": "stdout",
     "output_type": "stream",
     "text": [
      "US96209A1043-MTAH\n"
     ]
    },
    {
     "name": "stderr",
     "output_type": "stream",
     "text": [
      "\r",
      " 99%|██████████████████████████████████████████████████████████████████████████████████████████████████████████████▌ | 2364/2396 [11:56<00:08,  3.67it/s]"
     ]
    },
    {
     "name": "stdout",
     "output_type": "stream",
     "text": [
      "US96209A1043-BGEM\n"
     ]
    },
    {
     "name": "stderr",
     "output_type": "stream",
     "text": [
      " 99%|██████████████████████████████████████████████████████████████████████████████████████████████████████████████▌ | 2366/2396 [11:57<00:10,  2.96it/s]"
     ]
    },
    {
     "name": "stdout",
     "output_type": "stream",
     "text": [
      "BE0107958945-VPXB\n"
     ]
    },
    {
     "name": "stderr",
     "output_type": "stream",
     "text": [
      "100%|████████████████████████████████████████████████████████████████████████████████████████████████████████████████| 2396/2396 [12:07<00:00,  3.29it/s]\n"
     ]
    },
    {
     "ename": "ValueError",
     "evalue": "Length mismatch: Expected axis has 1 elements, new values have 9 elements",
     "output_type": "error",
     "traceback": [
      "\u001b[0;31m---------------------------------------------------------------------------\u001b[0m",
      "\u001b[0;31mValueError\u001b[0m                                Traceback (most recent call last)",
      "Cell \u001b[0;32mIn[110], line 35\u001b[0m\n\u001b[1;32m     33\u001b[0m a \u001b[38;5;241m=\u001b[39m pd\u001b[38;5;241m.\u001b[39mDataFrame(\u001b[38;5;28mlist\u001b[39m)[\u001b[38;5;241m0\u001b[39m]\u001b[38;5;241m.\u001b[39mstr\u001b[38;5;241m.\u001b[39msplit(\u001b[38;5;124m'\u001b[39m\u001b[38;5;124m,\u001b[39m\u001b[38;5;124m'\u001b[39m,expand\u001b[38;5;241m=\u001b[39m\u001b[38;5;28;01mTrue\u001b[39;00m)\n\u001b[1;32m     34\u001b[0m a \u001b[38;5;241m=\u001b[39m a[\u001b[38;5;241m0\u001b[39m]\u001b[38;5;241m.\u001b[39mstr\u001b[38;5;241m.\u001b[39msplit(\u001b[38;5;124m'\u001b[39m\u001b[38;5;124m,\u001b[39m\u001b[38;5;124m'\u001b[39m,expand\u001b[38;5;241m=\u001b[39m\u001b[38;5;28;01mTrue\u001b[39;00m)\n\u001b[0;32m---> 35\u001b[0m \u001b[43ma\u001b[49m\u001b[38;5;241;43m.\u001b[39;49m\u001b[43mcolumns\u001b[49m \u001b[38;5;241m=\u001b[39m columns\n",
      "File \u001b[0;32m~/.local/lib/python3.10/site-packages/pandas/core/generic.py:6002\u001b[0m, in \u001b[0;36mNDFrame.__setattr__\u001b[0;34m(self, name, value)\u001b[0m\n\u001b[1;32m   6000\u001b[0m \u001b[38;5;28;01mtry\u001b[39;00m:\n\u001b[1;32m   6001\u001b[0m     \u001b[38;5;28mobject\u001b[39m\u001b[38;5;241m.\u001b[39m\u001b[38;5;21m__getattribute__\u001b[39m(\u001b[38;5;28mself\u001b[39m, name)\n\u001b[0;32m-> 6002\u001b[0m     \u001b[38;5;28;01mreturn\u001b[39;00m \u001b[38;5;28;43mobject\u001b[39;49m\u001b[38;5;241;43m.\u001b[39;49m\u001b[38;5;21;43m__setattr__\u001b[39;49m\u001b[43m(\u001b[49m\u001b[38;5;28;43mself\u001b[39;49m\u001b[43m,\u001b[49m\u001b[43m \u001b[49m\u001b[43mname\u001b[49m\u001b[43m,\u001b[49m\u001b[43m \u001b[49m\u001b[43mvalue\u001b[49m\u001b[43m)\u001b[49m\n\u001b[1;32m   6003\u001b[0m \u001b[38;5;28;01mexcept\u001b[39;00m \u001b[38;5;167;01mAttributeError\u001b[39;00m:\n\u001b[1;32m   6004\u001b[0m     \u001b[38;5;28;01mpass\u001b[39;00m\n",
      "File \u001b[0;32m~/.local/lib/python3.10/site-packages/pandas/_libs/properties.pyx:69\u001b[0m, in \u001b[0;36mpandas._libs.properties.AxisProperty.__set__\u001b[0;34m()\u001b[0m\n",
      "File \u001b[0;32m~/.local/lib/python3.10/site-packages/pandas/core/generic.py:730\u001b[0m, in \u001b[0;36mNDFrame._set_axis\u001b[0;34m(self, axis, labels)\u001b[0m\n\u001b[1;32m    725\u001b[0m \u001b[38;5;250m\u001b[39m\u001b[38;5;124;03m\"\"\"\u001b[39;00m\n\u001b[1;32m    726\u001b[0m \u001b[38;5;124;03mThis is called from the cython code when we set the `index` attribute\u001b[39;00m\n\u001b[1;32m    727\u001b[0m \u001b[38;5;124;03mdirectly, e.g. `series.index = [1, 2, 3]`.\u001b[39;00m\n\u001b[1;32m    728\u001b[0m \u001b[38;5;124;03m\"\"\"\u001b[39;00m\n\u001b[1;32m    729\u001b[0m labels \u001b[38;5;241m=\u001b[39m ensure_index(labels)\n\u001b[0;32m--> 730\u001b[0m \u001b[38;5;28;43mself\u001b[39;49m\u001b[38;5;241;43m.\u001b[39;49m\u001b[43m_mgr\u001b[49m\u001b[38;5;241;43m.\u001b[39;49m\u001b[43mset_axis\u001b[49m\u001b[43m(\u001b[49m\u001b[43maxis\u001b[49m\u001b[43m,\u001b[49m\u001b[43m \u001b[49m\u001b[43mlabels\u001b[49m\u001b[43m)\u001b[49m\n\u001b[1;32m    731\u001b[0m \u001b[38;5;28mself\u001b[39m\u001b[38;5;241m.\u001b[39m_clear_item_cache()\n",
      "File \u001b[0;32m~/.local/lib/python3.10/site-packages/pandas/core/internals/managers.py:225\u001b[0m, in \u001b[0;36mBaseBlockManager.set_axis\u001b[0;34m(self, axis, new_labels)\u001b[0m\n\u001b[1;32m    223\u001b[0m \u001b[38;5;28;01mdef\u001b[39;00m \u001b[38;5;21mset_axis\u001b[39m(\u001b[38;5;28mself\u001b[39m, axis: AxisInt, new_labels: Index) \u001b[38;5;241m-\u001b[39m\u001b[38;5;241m>\u001b[39m \u001b[38;5;28;01mNone\u001b[39;00m:\n\u001b[1;32m    224\u001b[0m     \u001b[38;5;66;03m# Caller is responsible for ensuring we have an Index object.\u001b[39;00m\n\u001b[0;32m--> 225\u001b[0m     \u001b[38;5;28;43mself\u001b[39;49m\u001b[38;5;241;43m.\u001b[39;49m\u001b[43m_validate_set_axis\u001b[49m\u001b[43m(\u001b[49m\u001b[43maxis\u001b[49m\u001b[43m,\u001b[49m\u001b[43m \u001b[49m\u001b[43mnew_labels\u001b[49m\u001b[43m)\u001b[49m\n\u001b[1;32m    226\u001b[0m     \u001b[38;5;28mself\u001b[39m\u001b[38;5;241m.\u001b[39maxes[axis] \u001b[38;5;241m=\u001b[39m new_labels\n",
      "File \u001b[0;32m~/.local/lib/python3.10/site-packages/pandas/core/internals/base.py:70\u001b[0m, in \u001b[0;36mDataManager._validate_set_axis\u001b[0;34m(self, axis, new_labels)\u001b[0m\n\u001b[1;32m     67\u001b[0m     \u001b[38;5;28;01mpass\u001b[39;00m\n\u001b[1;32m     69\u001b[0m \u001b[38;5;28;01melif\u001b[39;00m new_len \u001b[38;5;241m!=\u001b[39m old_len:\n\u001b[0;32m---> 70\u001b[0m     \u001b[38;5;28;01mraise\u001b[39;00m \u001b[38;5;167;01mValueError\u001b[39;00m(\n\u001b[1;32m     71\u001b[0m         \u001b[38;5;124mf\u001b[39m\u001b[38;5;124m\"\u001b[39m\u001b[38;5;124mLength mismatch: Expected axis has \u001b[39m\u001b[38;5;132;01m{\u001b[39;00mold_len\u001b[38;5;132;01m}\u001b[39;00m\u001b[38;5;124m elements, new \u001b[39m\u001b[38;5;124m\"\u001b[39m\n\u001b[1;32m     72\u001b[0m         \u001b[38;5;124mf\u001b[39m\u001b[38;5;124m\"\u001b[39m\u001b[38;5;124mvalues have \u001b[39m\u001b[38;5;132;01m{\u001b[39;00mnew_len\u001b[38;5;132;01m}\u001b[39;00m\u001b[38;5;124m elements\u001b[39m\u001b[38;5;124m\"\u001b[39m\n\u001b[1;32m     73\u001b[0m     )\n",
      "\u001b[0;31mValueError\u001b[0m: Length mismatch: Expected axis has 1 elements, new values have 9 elements"
     ]
    }
   ],
   "source": [
    "import lxml.html\n",
    "from tqdm import tqdm\n",
    "import time\n",
    "\n",
    "\n",
    "def get_indutry(code):\n",
    "    icb_url = 'https://live.euronext.com/en/ajax/getFactsheetInfoBlock/STOCK/{code}/fs_icb_block'.format(code = code)\n",
    "    headers = {\n",
    "    'User-Agent': 'Mozilla/5.0 (Windows NT 10.0; Win64; x64) AppleWebKit/537.36 (KHTML, like Gecko) Chrome/113.0.0.0 Safari/537.36'}\n",
    "    r = requests.get(icb_url,headers = headers)\n",
    "\n",
    "    html = lxml.html.fromstring(r.text)\n",
    "    content = html.text_content().replace('\\n','').replace('ICB SECTORIAL CLASSIFICATION','').replace('Help','')\\\n",
    "                       .replace('  ','').replace('Industry','').replace('SuperSector',',')\\\n",
    "                       .replace('Subsector',',').replace('Sector',',').replace(', ',',')\n",
    "    content = '{code},{content}'.format(code=code, content=content)\n",
    "#     time.sleep(1)\n",
    "    return content\n",
    "\n",
    "\n",
    "# list = [] \n",
    "for code in tqdm(code_df):\n",
    "#     \n",
    "    try:\n",
    "        if code not in pd.DataFrame(list)[0].str.split(',',expand=True)[0].to_list():\n",
    "            list = list + [get_indutry(code)]\n",
    "        else:\n",
    "            continue\n",
    "    except:\n",
    "        print(code)\n",
    "    \n"
   ]
  },
  {
   "cell_type": "code",
   "execution_count": 114,
   "id": "700ae72d",
   "metadata": {
    "scrolled": true
   },
   "outputs": [
    {
     "ename": "ValueError",
     "evalue": "Length mismatch: Expected axis has 12 elements, new values have 9 elements",
     "output_type": "error",
     "traceback": [
      "\u001b[0;31m---------------------------------------------------------------------------\u001b[0m",
      "\u001b[0;31mValueError\u001b[0m                                Traceback (most recent call last)",
      "Cell \u001b[0;32mIn[114], line 4\u001b[0m\n\u001b[1;32m      2\u001b[0m a \u001b[38;5;241m=\u001b[39m pd\u001b[38;5;241m.\u001b[39mDataFrame(\u001b[38;5;28mlist\u001b[39m[\u001b[38;5;241m1\u001b[39m:])[\u001b[38;5;241m0\u001b[39m]\u001b[38;5;241m.\u001b[39mstr\u001b[38;5;241m.\u001b[39msplit(\u001b[38;5;124m'\u001b[39m\u001b[38;5;124m,\u001b[39m\u001b[38;5;124m'\u001b[39m,expand\u001b[38;5;241m=\u001b[39m\u001b[38;5;28;01mTrue\u001b[39;00m)\n\u001b[1;32m      3\u001b[0m \u001b[38;5;66;03m# a = a[0].str.split(',',expand=True)\u001b[39;00m\n\u001b[0;32m----> 4\u001b[0m \u001b[43ma\u001b[49m\u001b[38;5;241;43m.\u001b[39;49m\u001b[43mcolumns\u001b[49m \u001b[38;5;241m=\u001b[39m columns\n",
      "File \u001b[0;32m~/.local/lib/python3.10/site-packages/pandas/core/generic.py:6002\u001b[0m, in \u001b[0;36mNDFrame.__setattr__\u001b[0;34m(self, name, value)\u001b[0m\n\u001b[1;32m   6000\u001b[0m \u001b[38;5;28;01mtry\u001b[39;00m:\n\u001b[1;32m   6001\u001b[0m     \u001b[38;5;28mobject\u001b[39m\u001b[38;5;241m.\u001b[39m\u001b[38;5;21m__getattribute__\u001b[39m(\u001b[38;5;28mself\u001b[39m, name)\n\u001b[0;32m-> 6002\u001b[0m     \u001b[38;5;28;01mreturn\u001b[39;00m \u001b[38;5;28;43mobject\u001b[39;49m\u001b[38;5;241;43m.\u001b[39;49m\u001b[38;5;21;43m__setattr__\u001b[39;49m\u001b[43m(\u001b[49m\u001b[38;5;28;43mself\u001b[39;49m\u001b[43m,\u001b[49m\u001b[43m \u001b[49m\u001b[43mname\u001b[49m\u001b[43m,\u001b[49m\u001b[43m \u001b[49m\u001b[43mvalue\u001b[49m\u001b[43m)\u001b[49m\n\u001b[1;32m   6003\u001b[0m \u001b[38;5;28;01mexcept\u001b[39;00m \u001b[38;5;167;01mAttributeError\u001b[39;00m:\n\u001b[1;32m   6004\u001b[0m     \u001b[38;5;28;01mpass\u001b[39;00m\n",
      "File \u001b[0;32m~/.local/lib/python3.10/site-packages/pandas/_libs/properties.pyx:69\u001b[0m, in \u001b[0;36mpandas._libs.properties.AxisProperty.__set__\u001b[0;34m()\u001b[0m\n",
      "File \u001b[0;32m~/.local/lib/python3.10/site-packages/pandas/core/generic.py:730\u001b[0m, in \u001b[0;36mNDFrame._set_axis\u001b[0;34m(self, axis, labels)\u001b[0m\n\u001b[1;32m    725\u001b[0m \u001b[38;5;250m\u001b[39m\u001b[38;5;124;03m\"\"\"\u001b[39;00m\n\u001b[1;32m    726\u001b[0m \u001b[38;5;124;03mThis is called from the cython code when we set the `index` attribute\u001b[39;00m\n\u001b[1;32m    727\u001b[0m \u001b[38;5;124;03mdirectly, e.g. `series.index = [1, 2, 3]`.\u001b[39;00m\n\u001b[1;32m    728\u001b[0m \u001b[38;5;124;03m\"\"\"\u001b[39;00m\n\u001b[1;32m    729\u001b[0m labels \u001b[38;5;241m=\u001b[39m ensure_index(labels)\n\u001b[0;32m--> 730\u001b[0m \u001b[38;5;28;43mself\u001b[39;49m\u001b[38;5;241;43m.\u001b[39;49m\u001b[43m_mgr\u001b[49m\u001b[38;5;241;43m.\u001b[39;49m\u001b[43mset_axis\u001b[49m\u001b[43m(\u001b[49m\u001b[43maxis\u001b[49m\u001b[43m,\u001b[49m\u001b[43m \u001b[49m\u001b[43mlabels\u001b[49m\u001b[43m)\u001b[49m\n\u001b[1;32m    731\u001b[0m \u001b[38;5;28mself\u001b[39m\u001b[38;5;241m.\u001b[39m_clear_item_cache()\n",
      "File \u001b[0;32m~/.local/lib/python3.10/site-packages/pandas/core/internals/managers.py:225\u001b[0m, in \u001b[0;36mBaseBlockManager.set_axis\u001b[0;34m(self, axis, new_labels)\u001b[0m\n\u001b[1;32m    223\u001b[0m \u001b[38;5;28;01mdef\u001b[39;00m \u001b[38;5;21mset_axis\u001b[39m(\u001b[38;5;28mself\u001b[39m, axis: AxisInt, new_labels: Index) \u001b[38;5;241m-\u001b[39m\u001b[38;5;241m>\u001b[39m \u001b[38;5;28;01mNone\u001b[39;00m:\n\u001b[1;32m    224\u001b[0m     \u001b[38;5;66;03m# Caller is responsible for ensuring we have an Index object.\u001b[39;00m\n\u001b[0;32m--> 225\u001b[0m     \u001b[38;5;28;43mself\u001b[39;49m\u001b[38;5;241;43m.\u001b[39;49m\u001b[43m_validate_set_axis\u001b[49m\u001b[43m(\u001b[49m\u001b[43maxis\u001b[49m\u001b[43m,\u001b[49m\u001b[43m \u001b[49m\u001b[43mnew_labels\u001b[49m\u001b[43m)\u001b[49m\n\u001b[1;32m    226\u001b[0m     \u001b[38;5;28mself\u001b[39m\u001b[38;5;241m.\u001b[39maxes[axis] \u001b[38;5;241m=\u001b[39m new_labels\n",
      "File \u001b[0;32m~/.local/lib/python3.10/site-packages/pandas/core/internals/base.py:70\u001b[0m, in \u001b[0;36mDataManager._validate_set_axis\u001b[0;34m(self, axis, new_labels)\u001b[0m\n\u001b[1;32m     67\u001b[0m     \u001b[38;5;28;01mpass\u001b[39;00m\n\u001b[1;32m     69\u001b[0m \u001b[38;5;28;01melif\u001b[39;00m new_len \u001b[38;5;241m!=\u001b[39m old_len:\n\u001b[0;32m---> 70\u001b[0m     \u001b[38;5;28;01mraise\u001b[39;00m \u001b[38;5;167;01mValueError\u001b[39;00m(\n\u001b[1;32m     71\u001b[0m         \u001b[38;5;124mf\u001b[39m\u001b[38;5;124m\"\u001b[39m\u001b[38;5;124mLength mismatch: Expected axis has \u001b[39m\u001b[38;5;132;01m{\u001b[39;00mold_len\u001b[38;5;132;01m}\u001b[39;00m\u001b[38;5;124m elements, new \u001b[39m\u001b[38;5;124m\"\u001b[39m\n\u001b[1;32m     72\u001b[0m         \u001b[38;5;124mf\u001b[39m\u001b[38;5;124m\"\u001b[39m\u001b[38;5;124mvalues have \u001b[39m\u001b[38;5;132;01m{\u001b[39;00mnew_len\u001b[38;5;132;01m}\u001b[39;00m\u001b[38;5;124m elements\u001b[39m\u001b[38;5;124m\"\u001b[39m\n\u001b[1;32m     73\u001b[0m     )\n",
      "\u001b[0;31mValueError\u001b[0m: Length mismatch: Expected axis has 12 elements, new values have 9 elements"
     ]
    }
   ],
   "source": [
    "columns = ['code','industry_code','industry','supersector_code','supersector','sector_code','sector','subsector_code','subsector']\n",
    "a = pd.DataFrame(list[1:])[0].str.split(',',expand=True)\n",
    "# a = a[0].str.split(',',expand=True)\n",
    "a.columns = columns"
   ]
  },
  {
   "cell_type": "code",
   "execution_count": 116,
   "id": "2f8e9000",
   "metadata": {},
   "outputs": [],
   "source": [
    "a.to_csv('icb.csv')"
   ]
  },
  {
   "cell_type": "code",
   "execution_count": 105,
   "id": "99d902be",
   "metadata": {},
   "outputs": [
    {
     "data": {
      "text/plain": [
       "True"
      ]
     },
     "execution_count": 105,
     "metadata": {},
     "output_type": "execute_result"
    }
   ],
   "source": [
    "code not in pd.DataFrame(list)[0].str.split(',',expand=True)[0].to_list()"
   ]
  },
  {
   "cell_type": "code",
   "execution_count": null,
   "id": "f0cee6d7",
   "metadata": {},
   "outputs": [],
   "source": []
  },
  {
   "cell_type": "code",
   "execution_count": 165,
   "id": "3b0fd1e9",
   "metadata": {},
   "outputs": [],
   "source": [
    "import requests\n",
    "import pandas as pd\n",
    "import json\n",
    "from datetime import datetime\n",
    "import hashlib\n",
    "pd.set_option('display.max_columns',None)\n",
    "\n",
    "def get_headers(url):\n",
    "    clientDate = datetime.now().strftime('%Y-%m-%dT%H:%M:%S.%f')[:-3] + 'Z' \n",
    "    salt = 'w4ivc1ATTGta6njAZzMbkL3kJwxMfEAKDa3MNr'\n",
    "    input = clientDate + url + salt\n",
    "    client_traceid = hashlib.md5(input.encode()).hexdigest()\n",
    "    headers = {\n",
    "        'User-Agent': 'Mozilla/5.0 (Windows NT 10.0; Win64; x64) AppleWebKit/537.36 (KHTML, like Gecko) Chrome/113.0.0.0 Safari/537.36',\n",
    "        'Accept': 'application/json, text/plain, */*',\n",
    "        'Accept-Encoding': 'gzip, deflate, br',\n",
    "        'Accept-Language': 'zh-CN,zh;q=0.9,en;q=0.8,en-US;q=0.7,ja;q=0.6,zh-TW;q=0.5,nl;q=0.4',\n",
    "        'Cache-Control': 'no-cache',\n",
    "        'Content-Length': '199',\n",
    "        'Content-Type': 'application/json; charset=UTF-8',\n",
    "        'Origin': 'https://www.boerse-frankfurt.de',\n",
    "        'Pragma': 'no-cache',\n",
    "        'Referer': 'https://www.boerse-frankfurt.de/',\n",
    "        'Sec-Ch-Ua': '\"Not.A/Brand\";v=\"8\", \"Chromium\";v=\"114\", \"Google Chrome\";v=\"114\"',\n",
    "        'Sec-Ch-Ua-Mobile': '?0',\n",
    "        'Sec-Ch-Ua-Platform': '\"Windows\"',\n",
    "        'Sec-Fetch-Dest': 'empty',\n",
    "        'Sec-Fetch-Mode': 'cors',\n",
    "        'Sec-Fetch-Site': 'same-site',\n",
    "        ###############################\n",
    "        'Client-Date': clientDate,\n",
    "        'X-Client-Traceid': client_traceid,\n",
    "    #     'X-Security': '925b054c5fc80fe42bdea8e06a25a4a2'\n",
    "        }\n",
    "    return headers\n",
    "\n",
    "\n",
    "def fetch_xetr_prices():\n",
    "    num = '1100'\n",
    "    payload = '{\"indices\":[],\"regions\":[],\"countries\":[],\"sectors\":[],\"types\":[],\"forms\":[],\"segments\":[],\"markets\":[],\"stockExchanges\":[\"XETR\"],\"lang\":\"en\",\"offset\":0,\"limit\":'+num+',\"sorting\":\"TURNOVER\",\"sortOrder\":\"DESC\"}'\n",
    "    url = 'https://api.boerse-frankfurt.de/v1/search/equity_search'\n",
    "    headers = get_headers(url)\n",
    "    r = requests.post(url, data = payload, headers = headers, timeout = 30).text\n",
    "\n",
    "    df = pd.json_normalize(json.loads(r)['data']) \n",
    "    df = df[['isin','slug','name.originalValue','name.translations.others','name.translations.en','overview.lastPrice','changeToPrevDay','turnover','marketCapitalisation','overview.dateTimeLastPrice']]\n",
    "    return df\n",
    "\n",
    "def get_xetr_master_data(isin):\n",
    "    url = 'https://api.boerse-frankfurt.de/v1/data/equity_master_data?isin={isin}'.format(isin=isin)\n",
    "    payload = 'isin={isin}'.format(isin=isin)\n",
    "    headers = get_headers(url)\n",
    "    r = requests.get(url, data = payload, headers = headers, timeout = 10).text\n",
    "    df = pd.json_normalize(json.loads(r)) \n",
    "    return df\n"
   ]
  },
  {
   "cell_type": "code",
   "execution_count": 168,
   "id": "b166b4b7",
   "metadata": {},
   "outputs": [],
   "source": [
    "xetr_df = fetch_xetr_prices()"
   ]
  },
  {
   "cell_type": "code",
   "execution_count": 171,
   "id": "4b90c04f",
   "metadata": {},
   "outputs": [
    {
     "data": {
      "text/plain": [
       "0       DE0007164600\n",
       "1       DE0008404005\n",
       "2       DE0007236101\n",
       "3       DE0007100000\n",
       "4       DE0006231004\n",
       "            ...     \n",
       "1000    US98389B1008\n",
       "1001    US98419M1009\n",
       "1002    US98850P1093\n",
       "1003    US9892071054\n",
       "1004    US98978V1035\n",
       "Name: isin, Length: 1005, dtype: object"
      ]
     },
     "execution_count": 171,
     "metadata": {},
     "output_type": "execute_result"
    }
   ],
   "source": [
    "xetr_df['isin']"
   ]
  },
  {
   "cell_type": "code",
   "execution_count": 174,
   "id": "5f6b5fa1",
   "metadata": {},
   "outputs": [
    {
     "name": "stderr",
     "output_type": "stream",
     "text": [
      "100%|████████████████████████████████████████████████████████████████████████████| 1005/1005 [02:31<00:00,  6.64it/s]\n"
     ]
    },
    {
     "data": {
      "text/html": [
       "<div>\n",
       "<style scoped>\n",
       "    .dataframe tbody tr th:only-of-type {\n",
       "        vertical-align: middle;\n",
       "    }\n",
       "\n",
       "    .dataframe tbody tr th {\n",
       "        vertical-align: top;\n",
       "    }\n",
       "\n",
       "    .dataframe thead th {\n",
       "        text-align: right;\n",
       "    }\n",
       "</style>\n",
       "<table border=\"1\" class=\"dataframe\">\n",
       "  <thead>\n",
       "    <tr style=\"text-align: right;\">\n",
       "      <th></th>\n",
       "      <th>isin</th>\n",
       "      <th>market.originalValue</th>\n",
       "      <th>market.translations.de</th>\n",
       "      <th>market.translations.en</th>\n",
       "      <th>segment.originalValue</th>\n",
       "      <th>segment.translations.others</th>\n",
       "      <th>industrySector.originalValue</th>\n",
       "      <th>industrySector.translations.others</th>\n",
       "      <th>instrumentType.originalValue</th>\n",
       "      <th>instrumentType.translations.de</th>\n",
       "      <th>instrumentType.translations.en</th>\n",
       "      <th>securityType.originalValue</th>\n",
       "      <th>securityType.translations.de</th>\n",
       "      <th>securityType.translations.en</th>\n",
       "      <th>originCountry.originalValue</th>\n",
       "      <th>originCountry.translations.de</th>\n",
       "      <th>originCountry.translations.en</th>\n",
       "      <th>sector.originalValue</th>\n",
       "      <th>subsector.originalValue</th>\n",
       "      <th>subsector.translations.others</th>\n",
       "      <th>industrySector.translations.de</th>\n",
       "      <th>industrySector.translations.en</th>\n",
       "      <th>subsector.translations.de</th>\n",
       "      <th>subsector.translations.en</th>\n",
       "      <th>segment</th>\n",
       "      <th>sector</th>\n",
       "      <th>subsector</th>\n",
       "      <th>originCountry.translations.others</th>\n",
       "    </tr>\n",
       "  </thead>\n",
       "  <tbody>\n",
       "    <tr>\n",
       "      <th>0</th>\n",
       "      <td>DE0007164600</td>\n",
       "      <td>REGULATED</td>\n",
       "      <td>Regulierter Markt</td>\n",
       "      <td>Regulated Market</td>\n",
       "      <td>PRIME</td>\n",
       "      <td>Prime Standard</td>\n",
       "      <td>172</td>\n",
       "      <td>Software</td>\n",
       "      <td>1002</td>\n",
       "      <td>Stammaktien</td>\n",
       "      <td>Common shares</td>\n",
       "      <td>BEARER_SHARES</td>\n",
       "      <td>Inhaberaktie</td>\n",
       "      <td>Bearer share</td>\n",
       "      <td>DE</td>\n",
       "      <td>Deutschland</td>\n",
       "      <td>Germany</td>\n",
       "      <td>Software</td>\n",
       "      <td>Software</td>\n",
       "      <td>Software</td>\n",
       "      <td>NaN</td>\n",
       "      <td>NaN</td>\n",
       "      <td>NaN</td>\n",
       "      <td>NaN</td>\n",
       "      <td>NaN</td>\n",
       "      <td>NaN</td>\n",
       "      <td>NaN</td>\n",
       "      <td>NaN</td>\n",
       "    </tr>\n",
       "    <tr>\n",
       "      <th>0</th>\n",
       "      <td>DE0008404005</td>\n",
       "      <td>REGULATED</td>\n",
       "      <td>Regulierter Markt</td>\n",
       "      <td>Regulated Market</td>\n",
       "      <td>PRIME</td>\n",
       "      <td>Prime Standard</td>\n",
       "      <td>180</td>\n",
       "      <td>NaN</td>\n",
       "      <td>1002</td>\n",
       "      <td>Stammaktien</td>\n",
       "      <td>Common shares</td>\n",
       "      <td>REGISTERED_SHARES</td>\n",
       "      <td>Namensaktie</td>\n",
       "      <td>Registered share</td>\n",
       "      <td>DE</td>\n",
       "      <td>Deutschland</td>\n",
       "      <td>Germany</td>\n",
       "      <td>Insurance</td>\n",
       "      <td>Insurance</td>\n",
       "      <td>NaN</td>\n",
       "      <td>Holdinggesellschaften</td>\n",
       "      <td>Holding companies</td>\n",
       "      <td>Versicherung</td>\n",
       "      <td>Insurance</td>\n",
       "      <td>NaN</td>\n",
       "      <td>NaN</td>\n",
       "      <td>NaN</td>\n",
       "      <td>NaN</td>\n",
       "    </tr>\n",
       "    <tr>\n",
       "      <th>0</th>\n",
       "      <td>DE0007236101</td>\n",
       "      <td>REGULATED</td>\n",
       "      <td>Regulierter Markt</td>\n",
       "      <td>Regulated Market</td>\n",
       "      <td>PRIME</td>\n",
       "      <td>Prime Standard</td>\n",
       "      <td>61</td>\n",
       "      <td>NaN</td>\n",
       "      <td>1002</td>\n",
       "      <td>Stammaktien</td>\n",
       "      <td>Common shares</td>\n",
       "      <td>REGISTERED_SHARES</td>\n",
       "      <td>Namensaktie</td>\n",
       "      <td>Registered share</td>\n",
       "      <td>DE</td>\n",
       "      <td>Deutschland</td>\n",
       "      <td>Germany</td>\n",
       "      <td>Industrial</td>\n",
       "      <td>Industrial, Diversified</td>\n",
       "      <td>NaN</td>\n",
       "      <td>Elektronik und Elektrik</td>\n",
       "      <td>Electronic engineering</td>\n",
       "      <td>Industrielle Produkte, diversifiziert</td>\n",
       "      <td>Industrial, Diversified</td>\n",
       "      <td>NaN</td>\n",
       "      <td>NaN</td>\n",
       "      <td>NaN</td>\n",
       "      <td>NaN</td>\n",
       "    </tr>\n",
       "    <tr>\n",
       "      <th>0</th>\n",
       "      <td>DE0007100000</td>\n",
       "      <td>REGULATED</td>\n",
       "      <td>Regulierter Markt</td>\n",
       "      <td>Regulated Market</td>\n",
       "      <td>PRIME</td>\n",
       "      <td>Prime Standard</td>\n",
       "      <td>91</td>\n",
       "      <td>NaN</td>\n",
       "      <td>1002</td>\n",
       "      <td>Stammaktien</td>\n",
       "      <td>Common shares</td>\n",
       "      <td>REGISTERED_SHARES</td>\n",
       "      <td>Namensaktie</td>\n",
       "      <td>Registered share</td>\n",
       "      <td>DE</td>\n",
       "      <td>Deutschland</td>\n",
       "      <td>Germany</td>\n",
       "      <td>Automobile</td>\n",
       "      <td>Automobile Manufacturers</td>\n",
       "      <td>NaN</td>\n",
       "      <td>Fahrzeug- und Maschinenbau</td>\n",
       "      <td>Automotive and mechanical engineering</td>\n",
       "      <td>Automobilhersteller</td>\n",
       "      <td>Automobile Manufacturers</td>\n",
       "      <td>NaN</td>\n",
       "      <td>NaN</td>\n",
       "      <td>NaN</td>\n",
       "      <td>NaN</td>\n",
       "    </tr>\n",
       "    <tr>\n",
       "      <th>0</th>\n",
       "      <td>DE0006231004</td>\n",
       "      <td>REGULATED</td>\n",
       "      <td>Regulierter Markt</td>\n",
       "      <td>Regulated Market</td>\n",
       "      <td>PRIME</td>\n",
       "      <td>Prime Standard</td>\n",
       "      <td>61</td>\n",
       "      <td>NaN</td>\n",
       "      <td>1002</td>\n",
       "      <td>Stammaktien</td>\n",
       "      <td>Common shares</td>\n",
       "      <td>REGISTERED_SHARES</td>\n",
       "      <td>Namensaktie</td>\n",
       "      <td>Registered share</td>\n",
       "      <td>DE</td>\n",
       "      <td>Deutschland</td>\n",
       "      <td>Germany</td>\n",
       "      <td>Technology</td>\n",
       "      <td>Semiconductors</td>\n",
       "      <td>NaN</td>\n",
       "      <td>Elektronik und Elektrik</td>\n",
       "      <td>Electronic engineering</td>\n",
       "      <td>Halbleiter</td>\n",
       "      <td>Semiconductors</td>\n",
       "      <td>NaN</td>\n",
       "      <td>NaN</td>\n",
       "      <td>NaN</td>\n",
       "      <td>NaN</td>\n",
       "    </tr>\n",
       "    <tr>\n",
       "      <th>...</th>\n",
       "      <td>...</td>\n",
       "      <td>...</td>\n",
       "      <td>...</td>\n",
       "      <td>...</td>\n",
       "      <td>...</td>\n",
       "      <td>...</td>\n",
       "      <td>...</td>\n",
       "      <td>...</td>\n",
       "      <td>...</td>\n",
       "      <td>...</td>\n",
       "      <td>...</td>\n",
       "      <td>...</td>\n",
       "      <td>...</td>\n",
       "      <td>...</td>\n",
       "      <td>...</td>\n",
       "      <td>...</td>\n",
       "      <td>...</td>\n",
       "      <td>...</td>\n",
       "      <td>...</td>\n",
       "      <td>...</td>\n",
       "      <td>...</td>\n",
       "      <td>...</td>\n",
       "      <td>...</td>\n",
       "      <td>...</td>\n",
       "      <td>...</td>\n",
       "      <td>...</td>\n",
       "      <td>...</td>\n",
       "      <td>...</td>\n",
       "    </tr>\n",
       "    <tr>\n",
       "      <th>0</th>\n",
       "      <td>US98389B1008</td>\n",
       "      <td>OPEN</td>\n",
       "      <td>Freiverkehr</td>\n",
       "      <td>Open Market</td>\n",
       "      <td>NaN</td>\n",
       "      <td>NaN</td>\n",
       "      <td>70</td>\n",
       "      <td>NaN</td>\n",
       "      <td>1002</td>\n",
       "      <td>Stammaktien</td>\n",
       "      <td>Common shares</td>\n",
       "      <td>REGISTERED_SHARES</td>\n",
       "      <td>Namensaktie</td>\n",
       "      <td>Registered share</td>\n",
       "      <td>US</td>\n",
       "      <td>NaN</td>\n",
       "      <td>NaN</td>\n",
       "      <td>NaN</td>\n",
       "      <td>NaN</td>\n",
       "      <td>NaN</td>\n",
       "      <td>Versorgung und Energie</td>\n",
       "      <td>Service/energy</td>\n",
       "      <td>NaN</td>\n",
       "      <td>NaN</td>\n",
       "      <td>NaN</td>\n",
       "      <td>NaN</td>\n",
       "      <td>NaN</td>\n",
       "      <td>USA</td>\n",
       "    </tr>\n",
       "    <tr>\n",
       "      <th>0</th>\n",
       "      <td>US98419M1009</td>\n",
       "      <td>OPEN</td>\n",
       "      <td>Freiverkehr</td>\n",
       "      <td>Open Market</td>\n",
       "      <td>NaN</td>\n",
       "      <td>NaN</td>\n",
       "      <td>900</td>\n",
       "      <td>NaN</td>\n",
       "      <td>1002</td>\n",
       "      <td>Stammaktien</td>\n",
       "      <td>Common shares</td>\n",
       "      <td>REGISTERED_SHARES</td>\n",
       "      <td>Namensaktie</td>\n",
       "      <td>Registered share</td>\n",
       "      <td>US</td>\n",
       "      <td>NaN</td>\n",
       "      <td>NaN</td>\n",
       "      <td>NaN</td>\n",
       "      <td>NaN</td>\n",
       "      <td>NaN</td>\n",
       "      <td>Ausländische Aktien</td>\n",
       "      <td>Foreign shares</td>\n",
       "      <td>NaN</td>\n",
       "      <td>NaN</td>\n",
       "      <td>NaN</td>\n",
       "      <td>NaN</td>\n",
       "      <td>NaN</td>\n",
       "      <td>USA</td>\n",
       "    </tr>\n",
       "    <tr>\n",
       "      <th>0</th>\n",
       "      <td>US98850P1093</td>\n",
       "      <td>OPEN</td>\n",
       "      <td>Freiverkehr</td>\n",
       "      <td>Open Market</td>\n",
       "      <td>NaN</td>\n",
       "      <td>NaN</td>\n",
       "      <td>180</td>\n",
       "      <td>NaN</td>\n",
       "      <td>1002</td>\n",
       "      <td>Stammaktien</td>\n",
       "      <td>Common shares</td>\n",
       "      <td>REGISTERED_SHARES</td>\n",
       "      <td>Namensaktie</td>\n",
       "      <td>Registered share</td>\n",
       "      <td>US</td>\n",
       "      <td>NaN</td>\n",
       "      <td>NaN</td>\n",
       "      <td>NaN</td>\n",
       "      <td>NaN</td>\n",
       "      <td>NaN</td>\n",
       "      <td>Holdinggesellschaften</td>\n",
       "      <td>Holding companies</td>\n",
       "      <td>NaN</td>\n",
       "      <td>NaN</td>\n",
       "      <td>NaN</td>\n",
       "      <td>NaN</td>\n",
       "      <td>NaN</td>\n",
       "      <td>USA</td>\n",
       "    </tr>\n",
       "    <tr>\n",
       "      <th>0</th>\n",
       "      <td>US9892071054</td>\n",
       "      <td>OPEN</td>\n",
       "      <td>Freiverkehr</td>\n",
       "      <td>Open Market</td>\n",
       "      <td>NaN</td>\n",
       "      <td>NaN</td>\n",
       "      <td>61</td>\n",
       "      <td>NaN</td>\n",
       "      <td>1002</td>\n",
       "      <td>Stammaktien</td>\n",
       "      <td>Common shares</td>\n",
       "      <td>REGISTERED_SHARES</td>\n",
       "      <td>Namensaktie</td>\n",
       "      <td>Registered share</td>\n",
       "      <td>US</td>\n",
       "      <td>NaN</td>\n",
       "      <td>NaN</td>\n",
       "      <td>NaN</td>\n",
       "      <td>NaN</td>\n",
       "      <td>NaN</td>\n",
       "      <td>Elektronik und Elektrik</td>\n",
       "      <td>Electronic engineering</td>\n",
       "      <td>NaN</td>\n",
       "      <td>NaN</td>\n",
       "      <td>NaN</td>\n",
       "      <td>NaN</td>\n",
       "      <td>NaN</td>\n",
       "      <td>USA</td>\n",
       "    </tr>\n",
       "    <tr>\n",
       "      <th>0</th>\n",
       "      <td>US98978V1035</td>\n",
       "      <td>OPEN</td>\n",
       "      <td>Freiverkehr</td>\n",
       "      <td>Open Market</td>\n",
       "      <td>NaN</td>\n",
       "      <td>NaN</td>\n",
       "      <td>51</td>\n",
       "      <td>NaN</td>\n",
       "      <td>1002</td>\n",
       "      <td>Stammaktien</td>\n",
       "      <td>Common shares</td>\n",
       "      <td>REGISTERED_SHARES</td>\n",
       "      <td>Namensaktie</td>\n",
       "      <td>Registered share</td>\n",
       "      <td>US</td>\n",
       "      <td>NaN</td>\n",
       "      <td>NaN</td>\n",
       "      <td>NaN</td>\n",
       "      <td>NaN</td>\n",
       "      <td>NaN</td>\n",
       "      <td>Chemie und Pharmazeutik</td>\n",
       "      <td>Chemistry/pharmacy</td>\n",
       "      <td>NaN</td>\n",
       "      <td>NaN</td>\n",
       "      <td>NaN</td>\n",
       "      <td>NaN</td>\n",
       "      <td>NaN</td>\n",
       "      <td>USA</td>\n",
       "    </tr>\n",
       "  </tbody>\n",
       "</table>\n",
       "<p>1005 rows × 28 columns</p>\n",
       "</div>"
      ],
      "text/plain": [
       "            isin market.originalValue market.translations.de  \\\n",
       "0   DE0007164600            REGULATED      Regulierter Markt   \n",
       "0   DE0008404005            REGULATED      Regulierter Markt   \n",
       "0   DE0007236101            REGULATED      Regulierter Markt   \n",
       "0   DE0007100000            REGULATED      Regulierter Markt   \n",
       "0   DE0006231004            REGULATED      Regulierter Markt   \n",
       "..           ...                  ...                    ...   \n",
       "0   US98389B1008                 OPEN            Freiverkehr   \n",
       "0   US98419M1009                 OPEN            Freiverkehr   \n",
       "0   US98850P1093                 OPEN            Freiverkehr   \n",
       "0   US9892071054                 OPEN            Freiverkehr   \n",
       "0   US98978V1035                 OPEN            Freiverkehr   \n",
       "\n",
       "   market.translations.en segment.originalValue segment.translations.others  \\\n",
       "0        Regulated Market                 PRIME              Prime Standard   \n",
       "0        Regulated Market                 PRIME              Prime Standard   \n",
       "0        Regulated Market                 PRIME              Prime Standard   \n",
       "0        Regulated Market                 PRIME              Prime Standard   \n",
       "0        Regulated Market                 PRIME              Prime Standard   \n",
       "..                    ...                   ...                         ...   \n",
       "0             Open Market                   NaN                         NaN   \n",
       "0             Open Market                   NaN                         NaN   \n",
       "0             Open Market                   NaN                         NaN   \n",
       "0             Open Market                   NaN                         NaN   \n",
       "0             Open Market                   NaN                         NaN   \n",
       "\n",
       "   industrySector.originalValue industrySector.translations.others  \\\n",
       "0                           172                           Software   \n",
       "0                           180                                NaN   \n",
       "0                            61                                NaN   \n",
       "0                            91                                NaN   \n",
       "0                            61                                NaN   \n",
       "..                          ...                                ...   \n",
       "0                            70                                NaN   \n",
       "0                           900                                NaN   \n",
       "0                           180                                NaN   \n",
       "0                            61                                NaN   \n",
       "0                            51                                NaN   \n",
       "\n",
       "   instrumentType.originalValue instrumentType.translations.de  \\\n",
       "0                          1002                    Stammaktien   \n",
       "0                          1002                    Stammaktien   \n",
       "0                          1002                    Stammaktien   \n",
       "0                          1002                    Stammaktien   \n",
       "0                          1002                    Stammaktien   \n",
       "..                          ...                            ...   \n",
       "0                          1002                    Stammaktien   \n",
       "0                          1002                    Stammaktien   \n",
       "0                          1002                    Stammaktien   \n",
       "0                          1002                    Stammaktien   \n",
       "0                          1002                    Stammaktien   \n",
       "\n",
       "   instrumentType.translations.en securityType.originalValue  \\\n",
       "0                   Common shares              BEARER_SHARES   \n",
       "0                   Common shares          REGISTERED_SHARES   \n",
       "0                   Common shares          REGISTERED_SHARES   \n",
       "0                   Common shares          REGISTERED_SHARES   \n",
       "0                   Common shares          REGISTERED_SHARES   \n",
       "..                            ...                        ...   \n",
       "0                   Common shares          REGISTERED_SHARES   \n",
       "0                   Common shares          REGISTERED_SHARES   \n",
       "0                   Common shares          REGISTERED_SHARES   \n",
       "0                   Common shares          REGISTERED_SHARES   \n",
       "0                   Common shares          REGISTERED_SHARES   \n",
       "\n",
       "   securityType.translations.de securityType.translations.en  \\\n",
       "0                  Inhaberaktie                 Bearer share   \n",
       "0                   Namensaktie             Registered share   \n",
       "0                   Namensaktie             Registered share   \n",
       "0                   Namensaktie             Registered share   \n",
       "0                   Namensaktie             Registered share   \n",
       "..                          ...                          ...   \n",
       "0                   Namensaktie             Registered share   \n",
       "0                   Namensaktie             Registered share   \n",
       "0                   Namensaktie             Registered share   \n",
       "0                   Namensaktie             Registered share   \n",
       "0                   Namensaktie             Registered share   \n",
       "\n",
       "   originCountry.originalValue originCountry.translations.de  \\\n",
       "0                           DE                   Deutschland   \n",
       "0                           DE                   Deutschland   \n",
       "0                           DE                   Deutschland   \n",
       "0                           DE                   Deutschland   \n",
       "0                           DE                   Deutschland   \n",
       "..                         ...                           ...   \n",
       "0                           US                           NaN   \n",
       "0                           US                           NaN   \n",
       "0                           US                           NaN   \n",
       "0                           US                           NaN   \n",
       "0                           US                           NaN   \n",
       "\n",
       "   originCountry.translations.en sector.originalValue  \\\n",
       "0                        Germany             Software   \n",
       "0                        Germany            Insurance   \n",
       "0                        Germany           Industrial   \n",
       "0                        Germany           Automobile   \n",
       "0                        Germany           Technology   \n",
       "..                           ...                  ...   \n",
       "0                            NaN                  NaN   \n",
       "0                            NaN                  NaN   \n",
       "0                            NaN                  NaN   \n",
       "0                            NaN                  NaN   \n",
       "0                            NaN                  NaN   \n",
       "\n",
       "     subsector.originalValue subsector.translations.others  \\\n",
       "0                   Software                      Software   \n",
       "0                  Insurance                           NaN   \n",
       "0    Industrial, Diversified                           NaN   \n",
       "0   Automobile Manufacturers                           NaN   \n",
       "0             Semiconductors                           NaN   \n",
       "..                       ...                           ...   \n",
       "0                        NaN                           NaN   \n",
       "0                        NaN                           NaN   \n",
       "0                        NaN                           NaN   \n",
       "0                        NaN                           NaN   \n",
       "0                        NaN                           NaN   \n",
       "\n",
       "   industrySector.translations.de         industrySector.translations.en  \\\n",
       "0                             NaN                                    NaN   \n",
       "0           Holdinggesellschaften                      Holding companies   \n",
       "0         Elektronik und Elektrik                 Electronic engineering   \n",
       "0      Fahrzeug- und Maschinenbau  Automotive and mechanical engineering   \n",
       "0         Elektronik und Elektrik                 Electronic engineering   \n",
       "..                            ...                                    ...   \n",
       "0          Versorgung und Energie                         Service/energy   \n",
       "0             Ausländische Aktien                         Foreign shares   \n",
       "0           Holdinggesellschaften                      Holding companies   \n",
       "0         Elektronik und Elektrik                 Electronic engineering   \n",
       "0         Chemie und Pharmazeutik                     Chemistry/pharmacy   \n",
       "\n",
       "                subsector.translations.de subsector.translations.en segment  \\\n",
       "0                                     NaN                       NaN     NaN   \n",
       "0                            Versicherung                 Insurance     NaN   \n",
       "0   Industrielle Produkte, diversifiziert   Industrial, Diversified     NaN   \n",
       "0                     Automobilhersteller  Automobile Manufacturers     NaN   \n",
       "0                              Halbleiter            Semiconductors     NaN   \n",
       "..                                    ...                       ...     ...   \n",
       "0                                     NaN                       NaN     NaN   \n",
       "0                                     NaN                       NaN     NaN   \n",
       "0                                     NaN                       NaN     NaN   \n",
       "0                                     NaN                       NaN     NaN   \n",
       "0                                     NaN                       NaN     NaN   \n",
       "\n",
       "   sector subsector originCountry.translations.others  \n",
       "0     NaN       NaN                               NaN  \n",
       "0     NaN       NaN                               NaN  \n",
       "0     NaN       NaN                               NaN  \n",
       "0     NaN       NaN                               NaN  \n",
       "0     NaN       NaN                               NaN  \n",
       "..    ...       ...                               ...  \n",
       "0     NaN       NaN                               USA  \n",
       "0     NaN       NaN                               USA  \n",
       "0     NaN       NaN                               USA  \n",
       "0     NaN       NaN                               USA  \n",
       "0     NaN       NaN                               USA  \n",
       "\n",
       "[1005 rows x 28 columns]"
      ]
     },
     "execution_count": 174,
     "metadata": {},
     "output_type": "execute_result"
    }
   ],
   "source": [
    "from tqdm import tqdm\n",
    "\n",
    "master_data_df = pd.DataFrame()\n",
    "fail_list = []\n",
    "for isin in tqdm(xetr_df['isin']):\n",
    "    try:\n",
    "        df = get_xetr_master_data(isin)\n",
    "        master_data_df = pd.concat([master_data_df, df], ignore_index=True)\n",
    "    except:\n",
    "        fail_list = fail_list + [isin]\n",
    "\n",
    "master_data_df"
   ]
  },
  {
   "cell_type": "code",
   "execution_count": 177,
   "id": "f6c6cd90",
   "metadata": {},
   "outputs": [],
   "source": [
    "xetr_df.merge(master_data_df, on = 'isin').to_csv('xetr_all_stocks.csv', index= False)"
   ]
  }
 ],
 "metadata": {
  "kernelspec": {
   "display_name": "Python 3 (ipykernel)",
   "language": "python",
   "name": "python3"
  },
  "language_info": {
   "codemirror_mode": {
    "name": "ipython",
    "version": 3
   },
   "file_extension": ".py",
   "mimetype": "text/x-python",
   "name": "python",
   "nbconvert_exporter": "python",
   "pygments_lexer": "ipython3",
   "version": "3.11.4"
  }
 },
 "nbformat": 4,
 "nbformat_minor": 5
}
