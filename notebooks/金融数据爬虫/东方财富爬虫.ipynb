{
 "cells": [
  {
   "cell_type": "code",
   "execution_count": 2,
   "id": "79375bdb",
   "metadata": {},
   "outputs": [],
   "source": [
    "import requests\n",
    "import pandas as pd\n",
    "\n",
    "\n",
    "def market_suffix(code):\n",
    "    if code[:1] == '6':\n",
    "        code = code + '.SH'\n",
    "    elif code[:1] in ['0','3']:\n",
    "        code = code + '.SZ'\n",
    "    elif code[:1] in ['8','4']:\n",
    "        code = code + '.BJ'\n",
    "    else:\n",
    "        pass\n",
    "    return code\n",
    "\n",
    "\n",
    "def stock_spot_a():\n",
    "    url = 'http://40.push2.eastmoney.com/api/qt/clist/get'\n",
    "    params = {\n",
    "        'pn': '1',\n",
    "        'pz': '6000',\n",
    "        'po': '1',\n",
    "        'np': '1',\n",
    "        'ut': 'bd1d9ddb04089700cf9c27f6f7426281',\n",
    "        'fltt': '2',\n",
    "        'invt': '2',\n",
    "        'fid': 'f3',\n",
    "        'fs': 'm:0 t:6,m:0 t:13,m:0 t:80,m:1 t:2,m:1 t:23',\n",
    "        'fields': 'f2,f3,f4,f5,f6,f7,f8,f9,f10,f12,f13,f14,f15,f16,f17,f18,f20,f21,f23,f24,f25,f22,f11,f62,f128,f136,f115,f152,f100,f102,103,f112,',\n",
    "        '_': '1631107510188',\n",
    "    }\n",
    "\n",
    "    r = requests.get(url, params=params, timeout=10)\n",
    "    data_json = r.json()\n",
    "    temp_df = pd.DataFrame(data_json['data']['diff'])\n",
    "    return temp_df"
   ]
  },
  {
   "cell_type": "code",
   "execution_count": 6,
   "id": "fcea716d",
   "metadata": {},
   "outputs": [],
   "source": [
    "url = 'http://push2delay.eastmoney.com/api/qt/clist/get'\n",
    "params = {\n",
    "    'pn': '1',\n",
    "    'pz': '6000',\n",
    "    'po': '1',\n",
    "    'np': '1',\n",
    "    'ut': 'bd1d9ddb04089700cf9c27f6f7426281',\n",
    "    'fltt': '2',\n",
    "    'invt': '2',\n",
    "    'fid': 'f3',\n",
    "    'fs': 'm:0 t:6,m:0 t:13,m:0 t:80,m:1 t:2,m:1 t:23',\n",
    "    'fields': 'f2,f3,f4,f5,f6,f7,f8,f9,f10,f12,f13,f14,f15,f16,f17,f18,f20,f21,f23,f24,f25,f22,f11,f62,f128,f136,f115,f152,f100,f102,103,f112,',\n",
    "    '_': '1631107510188',\n",
    "}\n",
    "# https://push2delay.eastmoney.com/api/qt/ulist.np/get\n",
    "r = requests.get(url, params=params, timeout=10)\n"
   ]
  },
  {
   "cell_type": "code",
   "execution_count": 7,
   "id": "ef9f43f8",
   "metadata": {},
   "outputs": [
    {
     "data": {
      "text/plain": [
       "{'rc': 102,\n",
       " 'rt': 1,\n",
       " 'svr': 182993232,\n",
       " 'lt': 2,\n",
       " 'full': 1,\n",
       " 'dlmkts': '8,10,128',\n",
       " 'data': None}"
      ]
     },
     "execution_count": 7,
     "metadata": {},
     "output_type": "execute_result"
    }
   ],
   "source": [
    "r.json()"
   ]
  }
 ],
 "metadata": {
  "kernelspec": {
   "display_name": "Python 3 (ipykernel)",
   "language": "python",
   "name": "python3"
  },
  "language_info": {
   "codemirror_mode": {
    "name": "ipython",
    "version": 3
   },
   "file_extension": ".py",
   "mimetype": "text/x-python",
   "name": "python",
   "nbconvert_exporter": "python",
   "pygments_lexer": "ipython3",
   "version": "3.10.6"
  }
 },
 "nbformat": 4,
 "nbformat_minor": 5
}
