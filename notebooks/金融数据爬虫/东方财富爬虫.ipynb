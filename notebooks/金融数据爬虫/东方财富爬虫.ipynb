{
 "cells": [
  {
   "cell_type": "code",
   "execution_count": 2,
   "id": "79375bdb",
   "metadata": {},
   "outputs": [],
   "source": [
    "import requests\n",
    "import pandas as pd\n",
    "\n",
    "\n",
    "def market_suffix(code):\n",
    "    if code[:1] == '6':\n",
    "        code = code + '.SH'\n",
    "    elif code[:1] in ['0','3']:\n",
    "        code = code + '.SZ'\n",
    "    elif code[:1] in ['8','4']:\n",
    "        code = code + '.BJ'\n",
    "    else:\n",
    "        pass\n",
    "    return code\n",
    "\n",
    "\n",
    "def stock_spot_a():\n",
    "    url = 'http://40.push2.eastmoney.com/api/qt/clist/get'\n",
    "    params = {\n",
    "        'pn': '1',\n",
    "        'pz': '6000',\n",
    "        'po': '1',\n",
    "        'np': '1',\n",
    "        'ut': 'bd1d9ddb04089700cf9c27f6f7426281',\n",
    "        'fltt': '2',\n",
    "        'invt': '2',\n",
    "        'fid': 'f3',\n",
    "        'fs': 'm:0 t:6,m:0 t:13,m:0 t:80,m:1 t:2,m:1 t:23',\n",
    "        'fields': 'f2,f3,f4,f5,f6,f7,f8,f9,f10,f12,f13,f14,f15,f16,f17,f18,f20,f21,f23,f24,f25,f22,f11,f62,f128,f136,f115,f152,f100,f102,103,f112,',\n",
    "        '_': '1631107510188',\n",
    "    }\n",
    "\n",
    "    r = requests.get(url, params=params, timeout=10)\n",
    "    data_json = r.json()\n",
    "    temp_df = pd.DataFrame(data_json['data']['diff'])\n",
    "    return temp_df"
   ]
  },
  {
   "cell_type": "code",
   "execution_count": 6,
   "id": "fcea716d",
   "metadata": {},
   "outputs": [],
   "source": [
    "url = 'http://push2delay.eastmoney.com/api/qt/clist/get'\n",
    "params = {\n",
    "    'pn': '1',\n",
    "    'pz': '6000',\n",
    "    'po': '1',\n",
    "    'np': '1',\n",
    "    'ut': 'bd1d9ddb04089700cf9c27f6f7426281',\n",
    "    'fltt': '2',\n",
    "    'invt': '2',\n",
    "    'fid': 'f3',\n",
    "    'fs': 'm:0 t:6,m:0 t:13,m:0 t:80,m:1 t:2,m:1 t:23',\n",
    "    'fields': 'f2,f3,f4,f5,f6,f7,f8,f9,f10,f12,f13,f14,f15,f16,f17,f18,f20,f21,f23,f24,f25,f22,f11,f62,f128,f136,f115,f152,f100,f102,103,f112,',\n",
    "    '_': '1631107510188',\n",
    "}\n",
    "# https://push2delay.eastmoney.com/api/qt/ulist.np/get\n",
    "r = requests.get(url, params=params, timeout=10)\n"
   ]
  },
  {
   "cell_type": "code",
   "execution_count": 7,
   "id": "ef9f43f8",
   "metadata": {},
   "outputs": [
    {
     "data": {
      "text/plain": [
       "{'rc': 102,\n",
       " 'rt': 1,\n",
       " 'svr': 182993232,\n",
       " 'lt': 2,\n",
       " 'full': 1,\n",
       " 'dlmkts': '8,10,128',\n",
       " 'data': None}"
      ]
     },
     "execution_count": 7,
     "metadata": {},
     "output_type": "execute_result"
    }
   ],
   "source": [
    "r.json()"
   ]
  },
  {
   "cell_type": "markdown",
   "id": "fe319641",
   "metadata": {},
   "source": [
    "## 英股"
   ]
  },
  {
   "cell_type": "code",
   "execution_count": 7,
   "id": "bfc0adda",
   "metadata": {},
   "outputs": [],
   "source": [
    "import requests\n",
    "import pandas as pd\n",
    "def stock_spot_uk():\n",
    "    url = 'http://40.push2.eastmoney.com/api/qt/clist/get'\n",
    "    params = {\n",
    "        'pn': '1',\n",
    "        'pz': '15000',\n",
    "        'po': '1',\n",
    "        'np': '1',\n",
    "        'ut': 'bd1d9ddb04089700cf9c27f6f7426281',\n",
    "        'fltt': '2',\n",
    "        'invt': '2',\n",
    "        'fid': 'f3',\n",
    "        'fs': 'm:155 t:1,m:155 t:2,m:155 t:3,m:156 t:1,m:156 t:2,m:156 t:5,m:156 t:6,m:156 t:7,m:156 t:8',\n",
    "        'fields': 'f1,f2,f3,f4,f5,f6,f7,f8,f9,f10,f12,f13,f14,f15,f16,f17,f18,f20,f21,f23,f24,f25,f26,f22,f33,f11,f62,f128,f136,f115,f152',\n",
    "        '_': '1631107510188',\n",
    "    }\n",
    "\n",
    "    r = requests.get(url, params=params, timeout=10)\n",
    "    data_json = r.json()\n",
    "    temp_df = pd.DataFrame(data_json['data']['diff'])\n",
    "    temp_df.columns = [\n",
    "        \"_\",\n",
    "        \"最新价\",\n",
    "        \"涨跌幅\",\n",
    "        \"涨跌额\",\n",
    "        \"_\",\n",
    "        \"_\",\n",
    "        \"_\",\n",
    "        \"_\",\n",
    "        \"_\",\n",
    "        \"_\",\n",
    "        \"_\",\n",
    "        \"简称\",\n",
    "        \"编码\",\n",
    "        \"名称\",\n",
    "        \"最高价\",\n",
    "        \"最低价\",\n",
    "        \"开盘价\",\n",
    "        \"昨收价\",\n",
    "        \"总市值\",\n",
    "        \"_\",\n",
    "        \"_\",\n",
    "        \"_\",\n",
    "        \"_\",\n",
    "        \"_\",\n",
    "        \"_\",\n",
    "        \"_\",\n",
    "        \"_\",\n",
    "        \"市盈率\",\n",
    "        \"_\",\n",
    "        \"_\",\n",
    "        \"_\",\n",
    "        \"_\",\n",
    "        \"_\",\n",
    "    ]\n",
    "    temp_df.reset_index(inplace=True)\n",
    "    temp_df[\"index\"] = range(1, len(temp_df) + 1)\n",
    "    temp_df.rename(columns={\"index\": \"序号\"}, inplace=True)\n",
    "    temp_df[\"证券代码\"] = temp_df[\"简称\"]\n",
    "    temp_df = temp_df[\n",
    "        [\n",
    "            \"证券代码\",\n",
    "            \"名称\",\n",
    "            \"最新价\",\n",
    "            \"涨跌额\",\n",
    "            \"涨跌幅\",\n",
    "            \"开盘价\",\n",
    "            \"最高价\",\n",
    "            \"最低价\",\n",
    "            \"昨收价\",\n",
    "            \"总市值\",\n",
    "            \"市盈率\",\n",
    "#             \"代码\",\n",
    "        ]\n",
    "    ]\n",
    "    temp_df[\"最新价\"] = pd.to_numeric(temp_df[\"最新价\"], errors=\"coerce\")\n",
    "    temp_df[\"涨跌额\"] = pd.to_numeric(temp_df[\"涨跌额\"], errors=\"coerce\")\n",
    "    temp_df[\"涨跌幅\"] = pd.to_numeric(temp_df[\"涨跌幅\"], errors=\"coerce\")\n",
    "    temp_df[\"开盘价\"] = pd.to_numeric(temp_df[\"开盘价\"], errors=\"coerce\")\n",
    "    temp_df[\"最高价\"] = pd.to_numeric(temp_df[\"最高价\"], errors=\"coerce\")\n",
    "    temp_df[\"最低价\"] = pd.to_numeric(temp_df[\"最低价\"], errors=\"coerce\")\n",
    "    temp_df[\"昨收价\"] = pd.to_numeric(temp_df[\"昨收价\"], errors=\"coerce\")\n",
    "    temp_df[\"总市值\"] = pd.to_numeric(temp_df[\"总市值\"], errors=\"coerce\")\n",
    "    temp_df[\"市盈率\"] = pd.to_numeric(temp_df[\"市盈率\"], errors=\"coerce\")     \n",
    "    return temp_df"
   ]
  },
  {
   "cell_type": "code",
   "execution_count": 8,
   "id": "fab0d324",
   "metadata": {},
   "outputs": [],
   "source": [
    "df = stock_spot_uk()"
   ]
  },
  {
   "cell_type": "code",
   "execution_count": 10,
   "id": "c7e2bafe",
   "metadata": {},
   "outputs": [
    {
     "data": {
      "text/html": [
       "<style>.container { width:100% !important; }</style>"
      ],
      "text/plain": [
       "<IPython.core.display.HTML object>"
      ]
     },
     "metadata": {},
     "output_type": "display_data"
    }
   ],
   "source": [
    "from IPython.display import display, HTML\n",
    "display(HTML(\"<style>.container { width:100% !important; }</style>\"))\n",
    "pd.set_option('display.max_rows',1000)\n",
    "pd.set_option('display.max_columns',None)\n",
    "\n",
    "df.to_csv('UK_stock.csv')"
   ]
  }
 ],
 "metadata": {
  "kernelspec": {
   "display_name": "Python 3 (ipykernel)",
   "language": "python",
   "name": "python3"
  },
  "language_info": {
   "codemirror_mode": {
    "name": "ipython",
    "version": 3
   },
   "file_extension": ".py",
   "mimetype": "text/x-python",
   "name": "python",
   "nbconvert_exporter": "python",
   "pygments_lexer": "ipython3",
   "version": "3.9.7"
  }
 },
 "nbformat": 4,
 "nbformat_minor": 5
}
