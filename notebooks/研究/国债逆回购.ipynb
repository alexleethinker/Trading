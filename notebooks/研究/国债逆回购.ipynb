{
 "cells": [
  {
   "cell_type": "code",
   "execution_count": 29,
   "id": "b887e86f",
   "metadata": {},
   "outputs": [],
   "source": [
    "import akshare as ak\n",
    "import pandas as pd\n",
    "from datetime import datetime\n",
    "import warnings\n",
    "warnings.filterwarnings('ignore')\n",
    "pd.set_option('display.max_rows', None)\n",
    "\n",
    "gc001 = ak.bond_zh_hs_daily(symbol=\"sh204001\")\n",
    "gc001['date'] = gc001['date'].apply(pd.to_datetime)"
   ]
  },
  {
   "cell_type": "code",
   "execution_count": 208,
   "id": "e29c7e5f",
   "metadata": {},
   "outputs": [],
   "source": [
    "years = ['2017','2018','2019','2020','2021','2022','2023']\n",
    "modes = ['high','low','open','close']\n",
    "\n",
    "result = pd.DataFrame(columns = ['year'] + modes)\n",
    "result['year'] = years\n",
    "result = result.set_index('year')\n",
    "\n",
    "for year in years:\n",
    "    for mode in modes:\n",
    "        initials = 1000\n",
    "        interest = 0\n",
    "        start_date = year + '-01-01'\n",
    "        end_date = year +'-12-31'\n",
    "\n",
    "        for row, i in gc001[gc001['date'].isin(pd.date_range(start=start_date, end=end_date))].iterrows():\n",
    "            investable = initials + (interest//1000)*1000\n",
    "            day_rate = i[mode]\n",
    "            week_of_day = i['date'].isoweekday()\n",
    "            if week_of_day == 4:\n",
    "                day_interest = investable * day_rate * 3/ (360*100) - 3 * 0.001 * investable /100\n",
    "            else:\n",
    "                day_interest = investable * day_rate * 1/ (360*100) - 1 * 0.001 * investable /100\n",
    "            day_interest = day_interest if day_interest > 0 else 0 \n",
    "            interest += day_interest\n",
    "\n",
    "        day_to_now = (datetime.today() - datetime(int(year),1,1)).days \n",
    "        day_to_now = 365 if day_to_now > 365 else day_to_now\n",
    "        bentchmark = day_to_now/365\n",
    "        year_rate = interest/initials*100/bentchmark\n",
    "\n",
    "        result[mode][year] = \"{0:.2f}%\".format(year_rate)"
   ]
  },
  {
   "cell_type": "code",
   "execution_count": 209,
   "id": "021a2f2b",
   "metadata": {
    "scrolled": true
   },
   "outputs": [
    {
     "data": {
      "text/html": [
       "<div>\n",
       "<style scoped>\n",
       "    .dataframe tbody tr th:only-of-type {\n",
       "        vertical-align: middle;\n",
       "    }\n",
       "\n",
       "    .dataframe tbody tr th {\n",
       "        vertical-align: top;\n",
       "    }\n",
       "\n",
       "    .dataframe thead th {\n",
       "        text-align: right;\n",
       "    }\n",
       "</style>\n",
       "<table border=\"1\" class=\"dataframe\">\n",
       "  <thead>\n",
       "    <tr style=\"text-align: right;\">\n",
       "      <th></th>\n",
       "      <th>high</th>\n",
       "      <th>open</th>\n",
       "    </tr>\n",
       "    <tr>\n",
       "      <th>year</th>\n",
       "      <th></th>\n",
       "      <th></th>\n",
       "    </tr>\n",
       "  </thead>\n",
       "  <tbody>\n",
       "    <tr>\n",
       "      <th>2017</th>\n",
       "      <td>5.78%</td>\n",
       "      <td>4.02%</td>\n",
       "    </tr>\n",
       "    <tr>\n",
       "      <th>2018</th>\n",
       "      <td>3.50%</td>\n",
       "      <td>2.79%</td>\n",
       "    </tr>\n",
       "    <tr>\n",
       "      <th>2019</th>\n",
       "      <td>2.51%</td>\n",
       "      <td>2.21%</td>\n",
       "    </tr>\n",
       "    <tr>\n",
       "      <th>2020</th>\n",
       "      <td>2.22%</td>\n",
       "      <td>1.92%</td>\n",
       "    </tr>\n",
       "    <tr>\n",
       "      <th>2021</th>\n",
       "      <td>2.30%</td>\n",
       "      <td>2.00%</td>\n",
       "    </tr>\n",
       "    <tr>\n",
       "      <th>2022</th>\n",
       "      <td>1.81%</td>\n",
       "      <td>1.66%</td>\n",
       "    </tr>\n",
       "    <tr>\n",
       "      <th>2023</th>\n",
       "      <td>2.36%</td>\n",
       "      <td>2.05%</td>\n",
       "    </tr>\n",
       "  </tbody>\n",
       "</table>\n",
       "</div>"
      ],
      "text/plain": [
       "       high   open\n",
       "year              \n",
       "2017  5.78%  4.02%\n",
       "2018  3.50%  2.79%\n",
       "2019  2.51%  2.21%\n",
       "2020  2.22%  1.92%\n",
       "2021  2.30%  2.00%\n",
       "2022  1.81%  1.66%\n",
       "2023  2.36%  2.05%"
      ]
     },
     "execution_count": 209,
     "metadata": {},
     "output_type": "execute_result"
    }
   ],
   "source": [
    "result[['high','open']]\n"
   ]
  }
 ],
 "metadata": {
  "kernelspec": {
   "display_name": "Python 3 (ipykernel)",
   "language": "python",
   "name": "python3"
  },
  "language_info": {
   "codemirror_mode": {
    "name": "ipython",
    "version": 3
   },
   "file_extension": ".py",
   "mimetype": "text/x-python",
   "name": "python",
   "nbconvert_exporter": "python",
   "pygments_lexer": "ipython3",
   "version": "3.9.7"
  }
 },
 "nbformat": 4,
 "nbformat_minor": 5
}
