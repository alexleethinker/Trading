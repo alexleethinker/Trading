{
 "cells": [
  {
   "cell_type": "code",
   "execution_count": null,
   "id": "4ee2d950",
   "metadata": {},
   "outputs": [],
   "source": [
    "import akshare as ak\n",
    "import pandas as pd\n",
    "#import datetime\n",
    "pd.set_option('display.max_rows', None)\n",
    "import warnings\n",
    "warnings.filterwarnings('ignore')"
   ]
  },
  {
   "cell_type": "code",
   "execution_count": null,
   "id": "26a98a14",
   "metadata": {},
   "outputs": [],
   "source": [
    "#concepts_list = ak.stock_board_concept_name_ths()\n",
    "\n",
    "concepts_list = pd.read_csv('./static/update_concepts_list.csv',encoding=\"gbk\")"
   ]
  },
  {
   "cell_type": "code",
   "execution_count": null,
   "id": "8efa8300",
   "metadata": {},
   "outputs": [],
   "source": [
    "concepts_list['概念名称'] = concepts_list['概念名称'].str.replace('概念股','').str.replace('概念','').str.replace(' ','')\n",
    "\n",
    "# check concepts_list updates\n",
    "# new_concepts = set(concepts_list['概念名称']).difference(concepts_checklist['概念名称'])\n",
    "# out_concepts = set(concepts_checklist['概念名称']).difference(concepts_list['概念名称'])\n",
    "# print( out_concepts )\n",
    "\n",
    "global stock_concepts\n",
    "stock_concepts = pd.DataFrame()\n",
    "\n",
    "\n",
    "def get_concept_components(concept):\n",
    "    global stock_concepts\n",
    "    print('正在获取同花顺概念成分股： ' + concept['概念名称'], str(row+1) + '/'+str(len(concepts_list)))\n",
    "    stock_board_cons_df = ak.stock_board_cons_ths(symbol=concept['代码'])\n",
    "    stock_board_cons_df['概念名称'] = concept['概念名称']\n",
    "    stock_board_cons_df['概念代码'] = concept['代码']\n",
    "    stock_concepts = stock_concepts.append(stock_board_cons_df)\n",
    "\n",
    "\n",
    "import threading\n",
    "threads = []\n",
    "\n",
    "\n",
    "for row, concept in concepts_list.head(2).iterrows():\n",
    "    t = threading.Thread(target = get_concept_components, args = (concept,))\n",
    "    threads.append(t)\n",
    "\n",
    "print(threads)\n",
    "\n",
    "for t in threads: \n",
    "    t.start()\n",
    "\n",
    "# 等待所有thread完成之后再执行之后的代码    \n",
    "for t in threads: \n",
    "    t.join()"
   ]
  },
  {
   "cell_type": "code",
   "execution_count": null,
   "id": "682f3065",
   "metadata": {},
   "outputs": [],
   "source": [
    "stock_concepts = stock_concepts.groupby(['代码','名称'])['概念名称'].apply(lambda x: \",\".join \\\n",
    "                            (list(set(x.str.cat(sep=',').split(','))))).reset_index()"
   ]
  },
  {
   "cell_type": "code",
   "execution_count": null,
   "id": "356d0daf",
   "metadata": {},
   "outputs": [],
   "source": [
    "stock_concepts['行业概念'] = ''\n",
    "stock_concepts['事件概念'] = ''\n",
    "stock_concepts['交易概念'] = ''\n",
    "\n",
    "\n",
    "# 将同花顺概念分为 “行业”，“事件”和“交易”三类\n",
    "concepts_checklist = pd.read_csv('./static/concepts_list.csv',encoding=\"gbk\") # list got from old iwencai api / more comple but outdate\n",
    "industry_concepts_list = concepts_checklist.loc[concepts_checklist['分类'].isin(['行业'])]['概念名称'].values.tolist()\n",
    "events_concepts_list = concepts_checklist.loc[concepts_checklist['分类'].isin(['事件','知名企业','农村','改革','军工','国企体系'])]['概念名称'].values.tolist()\n",
    "trading_concepts_list = concepts_checklist.loc[concepts_checklist['分类'].isin(['交易'])]['概念名称'].values.tolist() # 区域missing\n",
    "\n",
    "\n",
    "for row, l in stock_concepts.iterrows():\n",
    "    stock_concepts['行业概念'][row] = ','.join(set(l['概念名称'].split(',')).intersection(industry_concepts_list))\n",
    "    stock_concepts['事件概念'][row] = ','.join(set(l['概念名称'].split(',')).intersection(events_concepts_list))\n",
    "    stock_concepts['交易概念'][row] = ','.join(set(l['概念名称'].split(',')).intersection(trading_concepts_list))\n",
    "\n"
   ]
  },
  {
   "cell_type": "code",
   "execution_count": null,
   "id": "33e0130f",
   "metadata": {},
   "outputs": [],
   "source": [
    "stock_concepts"
   ]
  },
  {
   "cell_type": "code",
   "execution_count": null,
   "id": "f1fab405",
   "metadata": {},
   "outputs": [],
   "source": []
  },
  {
   "cell_type": "code",
   "execution_count": null,
   "id": "56fe3727",
   "metadata": {},
   "outputs": [],
   "source": []
  },
  {
   "cell_type": "code",
   "execution_count": null,
   "id": "d7e9c64b",
   "metadata": {},
   "outputs": [],
   "source": [
    "ths_concepts['概念名称'] = ths_concepts['概念名称'].str.replace('概念股','').str.replace('概念','')\n",
    "ths_concepts"
   ]
  },
  {
   "cell_type": "code",
   "execution_count": null,
   "id": "4fd0d363",
   "metadata": {},
   "outputs": [],
   "source": [
    "ths_industry =  ak.stock_board_industry_name_ths() "
   ]
  },
  {
   "cell_type": "code",
   "execution_count": null,
   "id": "ef3eb237",
   "metadata": {},
   "outputs": [],
   "source": [
    "ths_industry"
   ]
  },
  {
   "cell_type": "code",
   "execution_count": null,
   "id": "960ac3e5",
   "metadata": {},
   "outputs": [],
   "source": [
    "ak.stock_zh_a_spot_em()"
   ]
  },
  {
   "cell_type": "code",
   "execution_count": null,
   "id": "c65fb33f",
   "metadata": {},
   "outputs": [],
   "source": [
    "stock_zh_a_tick_tx_df = ak.stock_zh_a_tick_tx_js(symbol=\"sh688295\")\n",
    "stock_zh_a_tick_tx_df"
   ]
  },
  {
   "cell_type": "code",
   "execution_count": null,
   "id": "7602c957",
   "metadata": {},
   "outputs": [],
   "source": [
    "stock_zh_a_tick_tx_df.to_csv('trades.csv')"
   ]
  },
  {
   "cell_type": "code",
   "execution_count": null,
   "id": "ec7a93db",
   "metadata": {},
   "outputs": [],
   "source": [
    "import pandas as pd\n",
    "\n",
    "\n",
    "def Categorize_Concept_ths():\n",
    "    \n",
    "    # 所有概念group\n",
    "    global all_concepts_grouped_ths\n",
    "    global industry_concepts_grouped_ths\n",
    "    global events_concepts_grouped_ths\n",
    "    global trading_concepts_grouped_ths\n",
    "\n",
    "    all_concepts_grouped_ths = all_stocks_concepts_ths.groupby(['代码','名称'])['概念名称_ths'].apply(lambda x: \",\".join \\\n",
    "                                (list(set(x.str.cat(sep=',').split(','))))).reset_index()\n",
    " \n",
    "    # 将同花顺概念分为 “行业”，“事件”和“交易”三类\n",
    "    industry_concepts_list_ths = concepts_ths.loc[concepts_ths['概念种类'].isin(['行业'])]['概念_ths'].values.tolist()\n",
    "    events_concepts_list_ths = concepts_ths.loc[concepts_ths['概念种类'].isin(['事件','区域','知名企业'])]['概念_ths'].values.tolist()\n",
    "    trading_concepts_list_ths = concepts_ths.loc[concepts_ths['概念种类'].isin(['金融'])]['概念_ths'].values.tolist()\n",
    " \n",
    "    # 三类概念分别group\n",
    "    industry_concepts_grouped_ths = all_stocks_concepts_ths.loc[all_stocks_concepts_ths['概念名称_ths'].isin(industry_concepts_list_ths)].\\\n",
    "                                groupby(['代码','名称'])['概念名称_ths'].apply(lambda x: \",\".join \\\n",
    "                                (list(set(x.str.cat(sep=',').split(','))))).reset_index().rename(columns={'概念名称_ths': '行业概念_ths'})\n",
    "\n",
    "    events_concepts_grouped_ths = all_stocks_concepts_ths.loc[all_stocks_concepts_ths['概念名称_ths'].isin(events_concepts_list_ths)].\\\n",
    "                                groupby(['代码','名称'])['概念名称_ths'].apply(lambda x: \",\".join \\\n",
    "                                (list(set(x.str.cat(sep=',').split(','))))).reset_index().rename(columns={'概念名称_ths': '事件概念_ths'})\n",
    "\n",
    "    trading_concepts_grouped_ths = all_stocks_concepts_ths.loc[all_stocks_concepts_ths['概念名称_ths'].isin(trading_concepts_list_ths)].\\\n",
    "                                groupby(['代码','名称'])['概念名称_ths'].apply(lambda x: \",\".join \\\n",
    "                                (list(set(x.str.cat(sep=',').split(','))))).reset_index().rename(columns={'概念名称_ths': '交易概念_ths'})\n",
    "\n",
    "\n",
    "def Categorize_Concept_em():\n",
    "\n",
    "    global all_concepts_grouped_em\n",
    "    global industry_concepts_grouped_em\n",
    "    global events_concepts_grouped_em\n",
    "    global trading_concepts_grouped_em\n",
    "\n",
    "     #所有概念表格\n",
    "    all_concepts_grouped_em = all_stocks_concepts_em.groupby(['代码','名称'])['概念名称_em'].apply(lambda x: \",\".join \\\n",
    "                                (list(set(x.str.cat(sep=',').split(','))))).reset_index()\n",
    " \n",
    "    #将东方财富概念分为 “行业”，“事件”和“交易”三类\n",
    "    industry_concepts_list_em = concepts_em.loc[concepts_em['概念种类'].isin(['行业'])]['概念_em'].values.tolist()\n",
    "    events_concepts_list_em = concepts_em.loc[concepts_em['概念种类'].isin(['事件','区域','知名企业'])]['概念_em'].values.tolist()\n",
    "    trading_concepts_list_em = concepts_em.loc[concepts_em['概念种类'].isin(['金融'])]['概念_em'].values.tolist()\n",
    "\n",
    "    #分别制作三类概念数据表格\n",
    "    industry_concepts_grouped_em = all_stocks_concepts_em.loc[all_stocks_concepts_em['概念名称_em'].isin(industry_concepts_list_em)].\\\n",
    "                                groupby(['代码','名称'])['概念名称_em'].apply(lambda x: \",\".join \\\n",
    "                                (list(set(x.str.cat(sep=',').split(','))))).reset_index().rename(columns={'概念名称_em': '行业概念_em'})\n",
    "\n",
    "    events_concepts_grouped_em = all_stocks_concepts_em.loc[all_stocks_concepts_em['概念名称_em'].isin(events_concepts_list_em)].\\\n",
    "                                groupby(['代码','名称'])['概念名称_em'].apply(lambda x: \",\".join \\\n",
    "                                (list(set(x.str.cat(sep=',').split(','))))).reset_index().rename(columns={'概念名称_em': '事件概念_em'})\n",
    "\n",
    "    trading_concepts_grouped_em = all_stocks_concepts_em.loc[all_stocks_concepts_em['概念名称_em'].isin(trading_concepts_list_em)].\\\n",
    "                                groupby(['代码','名称'])['概念名称_em'].apply(lambda x: \",\".join \\\n",
    "                                (list(set(x.str.cat(sep=',').split(','))))).reset_index().rename(columns={'概念名称_em': '交易概念_em'})\n",
    "\n",
    "\n",
    "\n",
    "\n",
    "\n",
    "\n",
    "read_route = './ungrouped_data/'\n",
    "save_route = './grouped_data/'\n",
    "\n",
    "concepts_ths = pd.read_csv('./行业概念/ths_概念.csv',encoding=\"gbk\")\n",
    "concepts_em = pd.read_csv('./行业概念/em_概念.csv',encoding=\"gbk\") # 经过优化后的概念列表\n",
    "\n",
    "all_stocks_industry_ths = pd.read_csv('./ungrouped_data/all_stocks_industry_ths.csv',encoding=\"gb2312\")\n",
    "print(all_stocks_industry_ths)\n",
    "all_stocks_concepts_ths = pd.read_csv('./ungrouped_data/all_stocks_concepts_ths_ungrouped.csv',encoding=\"gb2312\")\n",
    "all_stocks_concepts_em  = pd.read_csv('./ungrouped_data/all_stocks_concepts_em_ungrouped.csv' ,encoding=\"gb2312\")\n",
    "\n",
    "ts_stocks_info = pd.read_csv('./ungrouped_data/ts_stocks_info.csv',encoding=\"gbk\",encoding_errors='ignore')\n",
    "stock_zcfz_em  = pd.read_csv('./ungrouped_data/balance_sheet.csv',encoding=\"gbk\",encoding_errors='ignore')\n",
    "stock_lrb_em   = pd.read_csv('./ungrouped_data/revenue.csv',encoding=\"gbk\",encoding_errors='ignore')\n",
    "\n",
    "\n",
    "Categorize_Concept_ths()\n",
    "Categorize_Concept_em()\n",
    "\n",
    "# # merge 行业和所有概念信息\n",
    "all_stocks_info = all_stocks_industry_ths.merge(all_concepts_grouped_ths,how='outer',left_on=['代码','名称'],right_on=['代码','名称']) \\\n",
    "                                                .merge(industry_concepts_grouped_ths,how='outer',left_on=['代码','名称'],right_on=['代码','名称']) \\\n",
    "                                                .merge(events_concepts_grouped_ths,how='outer',left_on=['代码','名称'],right_on=['代码','名称']) \\\n",
    "                                                .merge(trading_concepts_grouped_ths,how='outer',left_on=['代码','名称'],right_on=['代码','名称']) \\\n",
    "                                                .merge(stock_lrb_em,how='outer',left_on=['代码','名称'],right_on=['股票代码','股票简称']) \\\n",
    "                                                .merge(stock_zcfz_em,how='outer',left_on=['代码','名称'],right_on=['股票代码','股票简称']) \\\n",
    "                                                .merge(ts_stocks_info,how='outer',left_on=['代码'],right_on=['代码']) \n",
    "\n",
    "all_stocks_info.to_csv( save_route + 'all_stocks_info.csv')\n",
    "\n",
    "\n",
    "all_stocks_info_main = all_stocks_info[['代码','名称','流通市值','市盈率','行业名称_ths','概念名称_ths','行业概念_ths','事件概念_ths','交易概念_ths', \\\n",
    "                                    '概念名称_em','行业概念_em','事件概念_em','交易概念_em','公司介绍','营业范围','主营业务','注册资本','省份','城市', \\\n",
    "                                    '净利润','净利润同比','营业总收入','营业总收入同比','资产负债率','股东权益合计']]\n",
    "all_stocks_info_main.to_csv( save_route + '股票行业概念信息.csv')"
   ]
  },
  {
   "cell_type": "code",
   "execution_count": null,
   "id": "69a32151",
   "metadata": {},
   "outputs": [],
   "source": [
    "stock_zh_a_spot_em_df = ak.stock_zh_a_spot_em()\n",
    "stock_zh_a_spot_em_df.to"
   ]
  },
  {
   "cell_type": "code",
   "execution_count": null,
   "id": "db95f44d",
   "metadata": {},
   "outputs": [],
   "source": [
    "stock_zh_a_spot_em_df.to_csv('data.csv')"
   ]
  },
  {
   "cell_type": "code",
   "execution_count": null,
   "id": "2ab7b70c",
   "metadata": {},
   "outputs": [],
   "source": [
    "from datetime import date\n",
    "today = date.today()"
   ]
  },
  {
   "cell_type": "code",
   "execution_count": null,
   "id": "92c53034",
   "metadata": {},
   "outputs": [],
   "source": [
    "#同花顺概念列表需要到网站上爬取  http://q.10jqka.com.cn/gn/， 后续考虑写一个爬虫\n",
    "\n",
    "#后续考虑自动化更新概念列表及概念名称统一\n",
    "# ----------------------------同花顺----------------------\n",
    "# 硅能源\t碳化硅\n",
    "# 共享单车\t共享经济\n",
    "# 债转股(AMC)\t债转股\n",
    "# 东数西算（算力）\t东数西算\n",
    "\n",
    "\n",
    "\n",
    "\n",
    "#东方财富网概念列表可以通过代码获得\n",
    "# stock_board_concept_name_em_df = ak.stock_board_concept_name_em()[['板块名称','板块代码']]"
   ]
  },
  {
   "cell_type": "code",
   "execution_count": null,
   "id": "456677c8",
   "metadata": {
    "scrolled": true
   },
   "outputs": [],
   "source": [
    "#获取股票同花顺行业信息\n",
    "industries_ths = pd.read_csv('./行业概念/ths_行业.csv',encoding=\"gbk\")\n",
    "all_stocks_industry_ths = pd.DataFrame()\n",
    "for row, industry in industries_ths.iterrows():\n",
    "    print('正在获取行业成分股： ' + industry['行业名称_ths'], str(row+1) + '/'+str(len(industries_ths)) )\n",
    "    stock_board_cons_ths_df = ak.stock_board_cons_ths(symbol=industry['行业代码_ths'])\n",
    "    stock_board_cons_ths_df['行业名称_ths'] = industry['行业名称_ths']\n",
    "    stock_board_cons_ths_df['行业代码_ths'] = industry['行业代码_ths']\n",
    "    all_stocks_industry_ths = all_stocks_industry_ths.append(stock_board_cons_ths_df)\n",
    "\n",
    "# all_stocks_industry_ths.to_csv('all_stocks_industry_ths.csv')\n",
    "# all_stocks_industry_ths"
   ]
  },
  {
   "cell_type": "code",
   "execution_count": null,
   "id": "024ea33b",
   "metadata": {},
   "outputs": [],
   "source": [
    "#待解决： 断点续传问题\n",
    "# 获取同花顺概念信息\n",
    "concepts_ths = pd.read_csv('./行业概念/ths_概念.csv',encoding=\"gbk\")\n",
    "all_stocks_concepts_ths = pd.DataFrame()\n",
    "for row, concept in concepts_ths.iterrows():\n",
    "    print('正在获取概念成分股： ' + concept['概念_ths'], str(row+1) + '/'+str(len(concepts_ths)))\n",
    "    stock_board_cons_ths_df = ak.stock_board_cons_ths(symbol=concept['概念代码_ths'])\n",
    "    stock_board_cons_ths_df['概念名称_ths'] = concept['概念_ths']\n",
    "    stock_board_cons_ths_df['概念代码_ths'] = concept['概念代码_ths']\n",
    "    all_stocks_concepts_ths = all_stocks_concepts_ths.append(stock_board_cons_ths_df)\n",
    "# all_stocks_concepts_ths.to_csv('all_stocks_concepts_ths.csv')\n",
    "# all_stocks_concepts_ths\n",
    "\n",
    "\n",
    "# 所有概念group\n",
    "all_concepts_stocks_ths = all_stocks_concepts_ths.groupby(['代码','名称'])['概念名称_ths'].apply(lambda x: \",\".join \\\n",
    "                            (list(set(x.str.cat(sep=',').split(','))))).reset_index()\n",
    "\n",
    "\n",
    "# 将同花顺概念分为 “行业”，“事件”和“交易”三类\n",
    "industry_concepts_list_ths = concepts_ths.loc[concepts_ths['概念种类'].isin(['行业'])]['概念_ths'].values.tolist()\n",
    "events_concepts_list_ths = concepts_ths.loc[concepts_ths['概念种类'].isin(['事件','区域','知名企业'])]['概念_ths'].values.tolist()\n",
    "trading_concepts_list_ths = concepts_ths.loc[concepts_ths['概念种类'].isin(['金融'])]['概念_ths'].values.tolist()\n",
    "\n",
    "# 三类概念分别group\n",
    "industry_concepts_stocks_ths = all_stocks_concepts_ths.loc[all_stocks_concepts_ths['概念名称_ths'].isin(industry_concepts_list_ths)]\n",
    "industry_concepts_stocks_ths = industry_concepts_stocks_ths.groupby(['代码','名称'])['概念名称_ths'].apply(lambda x: \",\".join \\\n",
    "                            (list(set(x.str.cat(sep=',').split(','))))).reset_index().rename(columns={'概念名称_ths': '行业概念_ths'})\n",
    "\n",
    "events_concepts_stocks_ths = all_stocks_concepts_ths.loc[all_stocks_concepts_ths['概念名称_ths'].isin(events_concepts_list_ths)]\n",
    "events_concepts_stocks_ths = events_concepts_stocks_ths.groupby(['代码','名称'])['概念名称_ths'].apply(lambda x: \",\".join \\\n",
    "                            (list(set(x.str.cat(sep=',').split(','))))).reset_index().rename(columns={'概念名称_ths': '事件概念_ths'})\n",
    "\n",
    "trading_concepts_stocks_ths = all_stocks_concepts_ths.loc[all_stocks_concepts_ths['概念名称_ths'].isin(trading_concepts_list_ths)]\n",
    "trading_concepts_stocks_ths = trading_concepts_stocks_ths.groupby(['代码','名称'])['概念名称_ths'].apply(lambda x: \",\".join \\\n",
    "                            (list(set(x.str.cat(sep=',').split(','))))).reset_index().rename(columns={'概念名称_ths': '交易概念_ths'})"
   ]
  },
  {
   "cell_type": "code",
   "execution_count": null,
   "id": "9b901892",
   "metadata": {},
   "outputs": [],
   "source": []
  },
  {
   "cell_type": "code",
   "execution_count": null,
   "id": "e481f4fe",
   "metadata": {},
   "outputs": [],
   "source": [
    "concepts_em = pd.read_csv('./行业概念/em_概念.csv',encoding=\"gbk\") # 经过优化后的概念列表"
   ]
  },
  {
   "cell_type": "code",
   "execution_count": null,
   "id": "e0f55b4e",
   "metadata": {},
   "outputs": [],
   "source": [
    "concepts_em[['概念_em','概念代码_em']]"
   ]
  },
  {
   "cell_type": "code",
   "execution_count": null,
   "id": "4ba31179",
   "metadata": {},
   "outputs": [],
   "source": []
  },
  {
   "cell_type": "code",
   "execution_count": null,
   "id": "6712c539",
   "metadata": {
    "scrolled": true
   },
   "outputs": [],
   "source": []
  },
  {
   "cell_type": "code",
   "execution_count": null,
   "id": "326bff9d",
   "metadata": {},
   "outputs": [],
   "source": [
    "# !!!后续：更新续传问题\n",
    "\n",
    "# 获取东方财富网概念信息\n",
    "concepts_em = pd.read_csv('./行业概念/em_概念.csv',encoding=\"gbk\") # 经过优化后的概念列表\n",
    "\n",
    "concepts_original_em = ak.stock_board_concept_name_em()[['板块名称','板块代码']] # 东方财富原本的概念列表\n",
    "\n",
    "all_stocks_concepts_em = pd.DataFrame()\n",
    "for row, concept in concepts_em.iterrows():\n",
    "    print('正在获取概念成分股： ' + concept['概念_em'], str(row+1) + '/'+str(len(concepts_em)) )\n",
    "    stock_board_cons_em_df = ak.stock_board_concept_cons_em(symbol= \\\n",
    "                             concepts_original_em.loc[concepts_original_em['板块代码'] == concept['概念代码_em']]['板块名称'].values[0])\n",
    "    #print(stock_board_cons_em_df)\n",
    "    stock_board_cons_em_df['概念名称_em'] = concept['概念_em']\n",
    "    stock_board_cons_em_df['概念代码_em'] = concept['概念代码_em']\n",
    "    all_stocks_concepts_em = all_stocks_concepts_em.append(stock_board_cons_em_df)\n",
    "print('over')    \n",
    "    \n",
    "#将同花顺概念分为 “行业”，“事件”和“交易”三类\n",
    "industry_concepts_list_em = concepts_em.loc[concepts_em['概念种类'].isin(['行业'])]['概念_em'].values.tolist()\n",
    "events_concepts_list_em = concepts_em.loc[concepts_em['概念种类'].isin(['事件','区域','知名企业'])]['概念_em'].values.tolist()\n",
    "trading_concepts_list_em = concepts_em.loc[concepts_em['概念种类'].isin(['金融'])]['概念_em'].values.tolist()\n",
    "\n",
    "#所有概念表格\n",
    "all_concepts_stocks_em = all_stocks_concepts_em.groupby(['代码','名称'])['概念名称_em'].apply(lambda x: \",\".join \\\n",
    "                            (list(set(x.str.cat(sep=',').split(','))))).reset_index()\n",
    "#分别制作三类概念数据表格\n",
    "industry_concepts_stocks_em = all_stocks_concepts_em.loc[all_stocks_concepts_em['概念名称_em'].isin(industry_concepts_list_em)]\n",
    "industry_concepts_stocks_em = industry_concepts_stocks_em.groupby(['代码','名称'])['概念名称_em'].apply(lambda x: \",\".join \\\n",
    "                            (list(set(x.str.cat(sep=',').split(','))))).reset_index().rename(columns={'概念名称_em': '行业概念_em'})\n",
    "\n",
    "events_concepts_stocks_em = all_stocks_concepts_em.loc[all_stocks_concepts_em['概念名称_em'].isin(events_concepts_list_em)]\n",
    "events_concepts_stocks_em = events_concepts_stocks_em.groupby(['代码','名称'])['概念名称_em'].apply(lambda x: \",\".join \\\n",
    "                            (list(set(x.str.cat(sep=',').split(','))))).reset_index().rename(columns={'概念名称_em': '事件概念_em'})\n",
    "\n",
    "trading_concepts_stocks_em = all_stocks_concepts_em.loc[all_stocks_concepts_em['概念名称_em'].isin(trading_concepts_list_em)]\n",
    "trading_concepts_stocks_em = trading_concepts_stocks_em.groupby(['代码','名称'])['概念名称_em'].apply(lambda x: \",\".join \\\n",
    "                            (list(set(x.str.cat(sep=',').split(','))))).reset_index().rename(columns={'概念名称_em': '交易概念_em'})"
   ]
  },
  {
   "cell_type": "code",
   "execution_count": null,
   "id": "c2a6d6e6",
   "metadata": {},
   "outputs": [],
   "source": [
    "# 通过tushare获取股票的省份和主营业务信息\n",
    "\n",
    "import tushare as ts\n",
    "pro = ts.pro_api('158ce95d6e799f55b8e8277aa1f6138fa71acf9c52df5ec667296fbc')\n",
    "ts_stocks_info = pro.stock_company( fields='ts_code,chairman,manager,secretary,reg_capital,setup_date,province,city,employees,main_business,business_scope,introduction')\n",
    "\n",
    "ts_stocks_info['ts_code'] = ts_stocks_info['ts_code'].str.replace('.SZ','').str.replace('.SH','').str.replace('.BJ','')\n",
    "ts_stocks_info.columns = ['代码', '董事长', '总经理', '董事秘书', '注册资本', \\\n",
    "       '上市日期', '省份', '城市', '公司介绍', '营业范围', \\\n",
    "       '员工人数', '主营业务']"
   ]
  },
  {
   "cell_type": "code",
   "execution_count": null,
   "id": "0ab6df3d",
   "metadata": {},
   "outputs": [],
   "source": [
    "import tushare as ts\n",
    "pro = ts.pro_api('158ce95d6e799f55b8e8277aa1f6138fa71acf9c52df5ec667296fbc')\n",
    "ts_stocks_info = pro.stock_company( fields='ts_code,chairman,manager,secretary,reg_capital,setup_date,province,city,employees,main_business,business_scope,introduction')"
   ]
  },
  {
   "cell_type": "code",
   "execution_count": null,
   "id": "8ef94fb2",
   "metadata": {},
   "outputs": [],
   "source": [
    "ts_stocks_info.columns = ['股票代码', '董事长', '总经理', '董事秘书', '注册资本', \\\n",
    "       '上市日期', '省份', '城市', '公司介绍', '营业范围', \\\n",
    "       '员工人数', '主营业务']"
   ]
  },
  {
   "cell_type": "code",
   "execution_count": null,
   "id": "9d2194c7",
   "metadata": {},
   "outputs": [],
   "source": [
    "ts_stocks_info.to_csv('stock_basic_info.csv', index = False, encoding = 'gbk')"
   ]
  },
  {
   "cell_type": "code",
   "execution_count": null,
   "id": "c2986723",
   "metadata": {},
   "outputs": [],
   "source": [
    "# 所有股票的资产负债表\n",
    "try:\n",
    "    stock_zcfz_em = ak.stock_zcfz_em(date=str(today.year)+\"1231\")\n",
    "except:\n",
    "    try:\n",
    "        stock_zcfz_em = ak.stock_zcfz_em(date=str(today.year)+\"0930\")\n",
    "    except:\n",
    "        try:\n",
    "            stock_zcfz_em = ak.stock_zcfz_em(date=str(today.year)+\"0630\")\n",
    "        except:\n",
    "            stock_zcfz_em = ak.stock_zcfz_em(date=str(today.year)+\"0331\")\n",
    "\n",
    "# 所有股票的利润表\n",
    "try:\n",
    "    stock_lrb_em = ak.stock_lrb_em(date=str(today.year)+\"1231\")\n",
    "except:\n",
    "    try:\n",
    "        stock_lrb_em = ak.stock_lrb_em(date=str(today.year)+\"0930\")\n",
    "    except:\n",
    "        try:\n",
    "            stock_lrb_em = ak.stock_lrb_em(date=str(today.year)+\"0630\")\n",
    "        except:\n",
    "            stock_lrb_em = ak.stock_lrb_em(date=str(today.year)+\"0331\")"
   ]
  },
  {
   "cell_type": "code",
   "execution_count": null,
   "id": "d4ff12c5",
   "metadata": {},
   "outputs": [],
   "source": []
  },
  {
   "cell_type": "code",
   "execution_count": null,
   "id": "708a32f3",
   "metadata": {},
   "outputs": [],
   "source": []
  },
  {
   "cell_type": "code",
   "execution_count": null,
   "id": "cd96f547",
   "metadata": {},
   "outputs": [],
   "source": [
    "# # merge 行业和所有概念信息\n",
    "all_stocks_info = all_stocks_ths_industry.merge(all_concepts_stocks_ths,how='outer',left_on=['代码','名称'],right_on=['代码','名称']) \\\n",
    "                                                .merge(industry_concepts_stocks_ths,how='outer',left_on=['代码','名称'],right_on=['代码','名称']) \\\n",
    "                                                .merge(events_concepts_stocks_ths,how='outer',left_on=['代码','名称'],right_on=['代码','名称']) \\\n",
    "                                                .merge(trading_concepts_stocks_ths,how='outer',left_on=['代码','名称'],right_on=['代码','名称']) \\\n",
    "                                                .merge(ts_stocks_info,how='outer',left_on=['代码'],right_on=['代码']) \\\n",
    "                                                .merge(stock_lrb_em,how='outer',left_on=['代码','名称'],right_on=['股票代码','股票简称']) \\\n",
    "                                                .merge(stock_zcfz_em,how='outer',left_on=['代码','名称'],right_on=['股票代码','股票简称'])\n",
    "\n",
    "all_stocks_info.to_csv('all_stocks_info.csv')"
   ]
  },
  {
   "cell_type": "code",
   "execution_count": null,
   "id": "a82c44a9",
   "metadata": {},
   "outputs": [],
   "source": []
  },
  {
   "cell_type": "code",
   "execution_count": null,
   "id": "df101b33",
   "metadata": {},
   "outputs": [],
   "source": []
  },
  {
   "cell_type": "code",
   "execution_count": null,
   "id": "ba567d27",
   "metadata": {},
   "outputs": [],
   "source": []
  },
  {
   "cell_type": "code",
   "execution_count": null,
   "id": "e280f497",
   "metadata": {},
   "outputs": [],
   "source": []
  },
  {
   "cell_type": "code",
   "execution_count": null,
   "id": "0f2a3e9e",
   "metadata": {},
   "outputs": [],
   "source": []
  },
  {
   "cell_type": "code",
   "execution_count": null,
   "id": "e94a09a8",
   "metadata": {},
   "outputs": [],
   "source": []
  },
  {
   "cell_type": "code",
   "execution_count": null,
   "id": "3f185f68",
   "metadata": {},
   "outputs": [],
   "source": []
  },
  {
   "cell_type": "code",
   "execution_count": null,
   "id": "cc740b07",
   "metadata": {
    "scrolled": true
   },
   "outputs": [],
   "source": [
    "#最新的业绩报表\n",
    "try:\n",
    "    stock_yjbb_em_df = ak.stock_yjbb_em(date=str(today.year)+\"1231\")\n",
    "except:\n",
    "    try:\n",
    "        stock_yjbb_em_df = ak.stock_yjbb_em(date=str(today.year)+\"0930\")\n",
    "    except:\n",
    "        try:\n",
    "            stock_yjbb_em_df = ak.stock_yjbb_em(date=str(today.year)+\"0630\")\n",
    "        except:\n",
    "            stock_yjbb_em_df = ak.stock_yjbb_em(date=str(today.year)+\"0331\")\n",
    "stock_yjbb_em_df"
   ]
  },
  {
   "cell_type": "code",
   "execution_count": null,
   "id": "9fbad3ca",
   "metadata": {},
   "outputs": [],
   "source": []
  },
  {
   "cell_type": "code",
   "execution_count": null,
   "id": "b69ccacb",
   "metadata": {},
   "outputs": [],
   "source": []
  },
  {
   "cell_type": "code",
   "execution_count": null,
   "id": "a021ba49",
   "metadata": {},
   "outputs": [],
   "source": [
    "#公告\n",
    "stock_notice_report_df = ak.stock_notice_report(symbol='全部', date=\"20220728\")\n",
    "stock_notice_report_df"
   ]
  },
  {
   "cell_type": "code",
   "execution_count": null,
   "id": "1324b428",
   "metadata": {},
   "outputs": [],
   "source": []
  },
  {
   "cell_type": "code",
   "execution_count": null,
   "id": "6167aeba",
   "metadata": {},
   "outputs": [],
   "source": []
  },
  {
   "cell_type": "code",
   "execution_count": null,
   "id": "ff192905",
   "metadata": {},
   "outputs": [],
   "source": [
    "stock_lhb_stock_statistic_em_df = ak.stock_lhb_stock_statistic_em(symbol=\"近一月\")\n",
    "stock_lhb_stock_statistic_em_df"
   ]
  },
  {
   "cell_type": "code",
   "execution_count": null,
   "id": "033915e7",
   "metadata": {},
   "outputs": [],
   "source": [
    "stock_lh_yyb_control_df = ak.stock_lh_yyb_control()\n",
    "stock_lh_yyb_control_df"
   ]
  },
  {
   "cell_type": "code",
   "execution_count": null,
   "id": "94987a98",
   "metadata": {},
   "outputs": [],
   "source": [
    "stock_lh_yyb_control_df.to_csv('机构抱团.csv')"
   ]
  },
  {
   "cell_type": "code",
   "execution_count": null,
   "id": "8437b6fa",
   "metadata": {},
   "outputs": [],
   "source": []
  },
  {
   "cell_type": "code",
   "execution_count": null,
   "id": "26fcc229",
   "metadata": {},
   "outputs": [],
   "source": [
    "stock_dzjy_hyyybtj_df = ak.stock_dzjy_hyyybtj(symbol='近3日')\n",
    "stock_dzjy_hyyybtj_df"
   ]
  },
  {
   "cell_type": "code",
   "execution_count": null,
   "id": "03c83458",
   "metadata": {},
   "outputs": [],
   "source": [
    "# 问财-热门股票排名数据 !!!!!!!!!!!!!!!!!!!!!!!!!!!!!!!!!!!!!!!!!!\n",
    "stock_hot_rank_wc_df = ak.stock_hot_rank_wc(date=\"20220729\")\n",
    "stock_hot_rank_wc_df.loc[stock_hot_rank_wc_df['股票简称'] == '中复神鹰']"
   ]
  },
  {
   "cell_type": "code",
   "execution_count": null,
   "id": "ea60d3dc",
   "metadata": {},
   "outputs": [],
   "source": [
    "stock_hot_rank_wc_df.to_csv('hottest.csv')"
   ]
  },
  {
   "cell_type": "code",
   "execution_count": null,
   "id": "0a68d5e3",
   "metadata": {},
   "outputs": [],
   "source": [
    "stock_hot_keyword_em_df = ak.stock_hot_keyword_em(symbol=\"SH688295\")\n",
    "stock_hot_keyword_em_df"
   ]
  },
  {
   "cell_type": "code",
   "execution_count": null,
   "id": "b1ee59d5",
   "metadata": {},
   "outputs": [],
   "source": []
  },
  {
   "cell_type": "code",
   "execution_count": null,
   "id": "6e8ae05d",
   "metadata": {},
   "outputs": [],
   "source": []
  },
  {
   "cell_type": "code",
   "execution_count": null,
   "id": "b1b74b55",
   "metadata": {},
   "outputs": [],
   "source": [
    "#盘口异动数据\n",
    "# symbol=\"大笔买入\"; choice of {'火箭发射', '快速反弹', '大笔买入', '封涨停板', '打开跌停板', '有大买盘', '竞价上涨', '高开5日线', \n",
    "# '向上缺口', '60日新高', '60日大幅上涨', '加速下跌', '高台跳水', '大笔卖出', '封跌停板', '打开涨停板', '有大卖盘', '竞价下跌', '低开5日线', \n",
    "# '向下缺口', '60日新低', '60日大幅下跌'}\n",
    "stock_changes_em_df = ak.stock_changes_em(symbol=\"大笔买入\")\n",
    "stock_changes_em_df"
   ]
  },
  {
   "cell_type": "code",
   "execution_count": null,
   "id": "ee811607",
   "metadata": {},
   "outputs": [],
   "source": []
  },
  {
   "cell_type": "code",
   "execution_count": null,
   "id": "053016a6",
   "metadata": {},
   "outputs": [],
   "source": [
    "stock_zh_a_alerts_cls_df = ak.stock_zh_a_alerts_cls()\n",
    "stock_zh_a_alerts_cls_df"
   ]
  },
  {
   "cell_type": "code",
   "execution_count": null,
   "id": "978cbef4",
   "metadata": {},
   "outputs": [],
   "source": [
    "stock_telegraph_cls_df = ak.stock_telegraph_cls()\n",
    "stock_telegraph_cls_df"
   ]
  },
  {
   "cell_type": "code",
   "execution_count": null,
   "id": "fdc7b58e",
   "metadata": {},
   "outputs": [],
   "source": [
    "stock_rank_ljqs_ths_df = ak.stock_rank_ljqs_ths()\n",
    "stock_rank_ljqs_ths_df"
   ]
  },
  {
   "cell_type": "code",
   "execution_count": null,
   "id": "7a07846e",
   "metadata": {},
   "outputs": [],
   "source": [
    "stock_rank_ljqs_ths_df.to_csv('量价齐升.csv')"
   ]
  },
  {
   "cell_type": "code",
   "execution_count": null,
   "id": "5c740505",
   "metadata": {},
   "outputs": [],
   "source": []
  },
  {
   "cell_type": "code",
   "execution_count": null,
   "id": "2251c528",
   "metadata": {},
   "outputs": [],
   "source": [
    "js_news_df = ak.js_news(timestamp=\"2022-07-29 00:57:18\")\n",
    "js_news_df"
   ]
  },
  {
   "cell_type": "code",
   "execution_count": null,
   "id": "5d969431",
   "metadata": {},
   "outputs": [],
   "source": []
  },
  {
   "cell_type": "code",
   "execution_count": null,
   "id": "e1b99dbf",
   "metadata": {},
   "outputs": [],
   "source": [
    "stock_news_em_df = ak.stock_news_em(stock=\"688295\")\n",
    "stock_news_em_df"
   ]
  },
  {
   "cell_type": "code",
   "execution_count": null,
   "id": "041abb53",
   "metadata": {},
   "outputs": [],
   "source": [
    "car_cpca_energy_sale_df = ak.car_cpca_energy_sale()\n",
    "car_cpca_energy_sale_df"
   ]
  },
  {
   "cell_type": "code",
   "execution_count": null,
   "id": "f06ddae6",
   "metadata": {},
   "outputs": [],
   "source": [
    "news_cctv_df = ak.news_cctv(date=\"20220728\")\n",
    "news_cctv_df"
   ]
  },
  {
   "cell_type": "code",
   "execution_count": null,
   "id": "1b4c730f",
   "metadata": {},
   "outputs": [],
   "source": [
    "stock_js_weibo_report_df = ak.stock_js_weibo_report(time_period=\"CNHOUR12\")\n",
    "stock_js_weibo_report_df"
   ]
  },
  {
   "cell_type": "code",
   "execution_count": null,
   "id": "b1c7c3ca",
   "metadata": {},
   "outputs": [],
   "source": []
  }
 ],
 "metadata": {
  "kernelspec": {
   "display_name": "Python 3 (ipykernel)",
   "language": "python",
   "name": "python3"
  },
  "language_info": {
   "codemirror_mode": {
    "name": "ipython",
    "version": 3
   },
   "file_extension": ".py",
   "mimetype": "text/x-python",
   "name": "python",
   "nbconvert_exporter": "python",
   "pygments_lexer": "ipython3",
   "version": "3.9.7"
  }
 },
 "nbformat": 4,
 "nbformat_minor": 5
}
